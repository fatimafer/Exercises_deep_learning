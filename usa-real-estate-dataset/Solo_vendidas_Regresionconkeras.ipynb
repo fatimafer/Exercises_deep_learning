{
 "cells": [
  {
   "cell_type": "code",
   "execution_count": 44,
   "metadata": {},
   "outputs": [],
   "source": [
    "# librerias\n",
    "\n",
    "import warnings\n",
    "warnings.filterwarnings('ignore')\n",
    "\n",
    "\n",
    "import pylab as plt\n",
    "import pandas as pd\n",
    "import seaborn as sns\n",
    "\n",
    "\n",
    "from keras.utils import get_file\n",
    "\n",
    "from keras import Sequential\n",
    "from keras.layers import Dense\n",
    "\n",
    "from keras.callbacks import Callback, EarlyStopping\n",
    "\n",
    "from tensorflow.keras.optimizers.legacy import RMSprop\n",
    "\n",
    "from sklearn.model_selection import train_test_split as tts\n",
    "from sklearn.preprocessing import StandardScaler\n",
    "\n",
    "import matplotlib.pyplot as plt\n",
    "from datetime import date, time, datetime, timedelta\n",
    "import numpy as np"
   ]
  },
  {
   "cell_type": "markdown",
   "metadata": {},
   "source": [
    "# Preparación del dataset  \n",
    "Las columnas tienen los siguientes significados:  \n",
    "- status (Housing status - a. ready for sale or b. ready to build)\n",
    "- bed (# of beds)\n",
    "- bath (# of bathrooms)\n",
    "- acre_lot (Property / Land size in acres)\n",
    "- city (city name)\n",
    "- state (state name)\n",
    "- zip_code (postal code of the area)\n",
    "- house_size (house area/size/living space in square feet)\n",
    "- prev_sold_date (Previously sold date)\n",
    "- price (Housing price, it is either the current listing price or recently sold price if the house is sold recently)"
   ]
  },
  {
   "cell_type": "code",
   "execution_count": 45,
   "metadata": {},
   "outputs": [],
   "source": [
    "df_realtor = pd.read_csv('realtor-data.csv')"
   ]
  },
  {
   "cell_type": "code",
   "execution_count": 46,
   "metadata": {},
   "outputs": [
    {
     "data": {
      "text/html": [
       "<div>\n",
       "<style scoped>\n",
       "    .dataframe tbody tr th:only-of-type {\n",
       "        vertical-align: middle;\n",
       "    }\n",
       "\n",
       "    .dataframe tbody tr th {\n",
       "        vertical-align: top;\n",
       "    }\n",
       "\n",
       "    .dataframe thead th {\n",
       "        text-align: right;\n",
       "    }\n",
       "</style>\n",
       "<table border=\"1\" class=\"dataframe\">\n",
       "  <thead>\n",
       "    <tr style=\"text-align: right;\">\n",
       "      <th></th>\n",
       "      <th>status</th>\n",
       "      <th>price</th>\n",
       "      <th>bed</th>\n",
       "      <th>bath</th>\n",
       "      <th>acre_lot</th>\n",
       "      <th>full_address</th>\n",
       "      <th>street</th>\n",
       "      <th>city</th>\n",
       "      <th>state</th>\n",
       "      <th>zip_code</th>\n",
       "      <th>house_size</th>\n",
       "      <th>sold_date</th>\n",
       "    </tr>\n",
       "  </thead>\n",
       "  <tbody>\n",
       "    <tr>\n",
       "      <th>0</th>\n",
       "      <td>for_sale</td>\n",
       "      <td>105000.0</td>\n",
       "      <td>3.0</td>\n",
       "      <td>2.0</td>\n",
       "      <td>0.12</td>\n",
       "      <td>Sector Yahuecas Titulo # V84, Adjuntas, PR, 00601</td>\n",
       "      <td>Sector Yahuecas Titulo # V84</td>\n",
       "      <td>Adjuntas</td>\n",
       "      <td>Puerto Rico</td>\n",
       "      <td>601.0</td>\n",
       "      <td>920.0</td>\n",
       "      <td>NaN</td>\n",
       "    </tr>\n",
       "    <tr>\n",
       "      <th>1</th>\n",
       "      <td>for_sale</td>\n",
       "      <td>80000.0</td>\n",
       "      <td>4.0</td>\n",
       "      <td>2.0</td>\n",
       "      <td>0.08</td>\n",
       "      <td>Km 78 9 Carr # 135, Adjuntas, PR, 00601</td>\n",
       "      <td>Km 78 9 Carr # 135</td>\n",
       "      <td>Adjuntas</td>\n",
       "      <td>Puerto Rico</td>\n",
       "      <td>601.0</td>\n",
       "      <td>1527.0</td>\n",
       "      <td>NaN</td>\n",
       "    </tr>\n",
       "    <tr>\n",
       "      <th>2</th>\n",
       "      <td>for_sale</td>\n",
       "      <td>67000.0</td>\n",
       "      <td>2.0</td>\n",
       "      <td>1.0</td>\n",
       "      <td>0.15</td>\n",
       "      <td>556G 556-G 16 St, Juana Diaz, PR, 00795</td>\n",
       "      <td>556G 556-G 16 St</td>\n",
       "      <td>Juana Diaz</td>\n",
       "      <td>Puerto Rico</td>\n",
       "      <td>795.0</td>\n",
       "      <td>748.0</td>\n",
       "      <td>NaN</td>\n",
       "    </tr>\n",
       "    <tr>\n",
       "      <th>3</th>\n",
       "      <td>for_sale</td>\n",
       "      <td>145000.0</td>\n",
       "      <td>4.0</td>\n",
       "      <td>2.0</td>\n",
       "      <td>0.10</td>\n",
       "      <td>R5 Comunidad El Paraso Calle De Oro R-5 Ponce,...</td>\n",
       "      <td>R5 Comunidad El Paraso Calle De Oro R-5 Ponce</td>\n",
       "      <td>Ponce</td>\n",
       "      <td>Puerto Rico</td>\n",
       "      <td>731.0</td>\n",
       "      <td>1800.0</td>\n",
       "      <td>NaN</td>\n",
       "    </tr>\n",
       "    <tr>\n",
       "      <th>4</th>\n",
       "      <td>for_sale</td>\n",
       "      <td>65000.0</td>\n",
       "      <td>6.0</td>\n",
       "      <td>2.0</td>\n",
       "      <td>0.05</td>\n",
       "      <td>14 Navarro, Mayaguez, PR, 00680</td>\n",
       "      <td>14 Navarro</td>\n",
       "      <td>Mayaguez</td>\n",
       "      <td>Puerto Rico</td>\n",
       "      <td>680.0</td>\n",
       "      <td>NaN</td>\n",
       "      <td>NaN</td>\n",
       "    </tr>\n",
       "  </tbody>\n",
       "</table>\n",
       "</div>"
      ],
      "text/plain": [
       "     status     price  bed  bath  acre_lot  \\\n",
       "0  for_sale  105000.0  3.0   2.0      0.12   \n",
       "1  for_sale   80000.0  4.0   2.0      0.08   \n",
       "2  for_sale   67000.0  2.0   1.0      0.15   \n",
       "3  for_sale  145000.0  4.0   2.0      0.10   \n",
       "4  for_sale   65000.0  6.0   2.0      0.05   \n",
       "\n",
       "                                        full_address  \\\n",
       "0  Sector Yahuecas Titulo # V84, Adjuntas, PR, 00601   \n",
       "1            Km 78 9 Carr # 135, Adjuntas, PR, 00601   \n",
       "2            556G 556-G 16 St, Juana Diaz, PR, 00795   \n",
       "3  R5 Comunidad El Paraso Calle De Oro R-5 Ponce,...   \n",
       "4                    14 Navarro, Mayaguez, PR, 00680   \n",
       "\n",
       "                                          street        city        state  \\\n",
       "0                   Sector Yahuecas Titulo # V84    Adjuntas  Puerto Rico   \n",
       "1                             Km 78 9 Carr # 135    Adjuntas  Puerto Rico   \n",
       "2                               556G 556-G 16 St  Juana Diaz  Puerto Rico   \n",
       "3  R5 Comunidad El Paraso Calle De Oro R-5 Ponce       Ponce  Puerto Rico   \n",
       "4                                     14 Navarro    Mayaguez  Puerto Rico   \n",
       "\n",
       "   zip_code  house_size sold_date  \n",
       "0     601.0       920.0       NaN  \n",
       "1     601.0      1527.0       NaN  \n",
       "2     795.0       748.0       NaN  \n",
       "3     731.0      1800.0       NaN  \n",
       "4     680.0         NaN       NaN  "
      ]
     },
     "execution_count": 46,
     "metadata": {},
     "output_type": "execute_result"
    }
   ],
   "source": [
    "df_realtor.head()"
   ]
  },
  {
   "cell_type": "code",
   "execution_count": 47,
   "metadata": {},
   "outputs": [
    {
     "name": "stdout",
     "output_type": "stream",
     "text": [
      "<class 'pandas.core.frame.DataFrame'>\n",
      "RangeIndex: 512159 entries, 0 to 512158\n",
      "Data columns (total 12 columns):\n",
      " #   Column        Non-Null Count   Dtype  \n",
      "---  ------        --------------   -----  \n",
      " 0   status        512159 non-null  object \n",
      " 1   price         512159 non-null  float64\n",
      " 2   bed           413222 non-null  float64\n",
      " 3   bath          416941 non-null  float64\n",
      " 4   acre_lot      407180 non-null  float64\n",
      " 5   full_address  512159 non-null  object \n",
      " 6   street        511543 non-null  object \n",
      " 7   city          512100 non-null  object \n",
      " 8   state         512159 non-null  object \n",
      " 9   zip_code      511962 non-null  float64\n",
      " 10  house_size    395693 non-null  float64\n",
      " 11  sold_date     202507 non-null  object \n",
      "dtypes: float64(6), object(6)\n",
      "memory usage: 46.9+ MB\n"
     ]
    }
   ],
   "source": [
    "df_realtor.info()"
   ]
  },
  {
   "cell_type": "markdown",
   "metadata": {},
   "source": [
    "Examinamos a ver si hay nulos"
   ]
  },
  {
   "cell_type": "code",
   "execution_count": 48,
   "metadata": {},
   "outputs": [
    {
     "data": {
      "text/plain": [
       "status               0\n",
       "price                0\n",
       "bed              98937\n",
       "bath             95218\n",
       "acre_lot        104979\n",
       "full_address         0\n",
       "street             616\n",
       "city                59\n",
       "state                0\n",
       "zip_code           197\n",
       "house_size      116466\n",
       "sold_date       309652\n",
       "dtype: int64"
      ]
     },
     "execution_count": 48,
     "metadata": {},
     "output_type": "execute_result"
    }
   ],
   "source": [
    "df_realtor.isna().sum()"
   ]
  },
  {
   "cell_type": "markdown",
   "metadata": {},
   "source": [
    "Eliminamos todos los nulos, incluso en sold_date, porque nos interesan sólo las casas que han sido vendidas"
   ]
  },
  {
   "cell_type": "code",
   "execution_count": 49,
   "metadata": {},
   "outputs": [],
   "source": [
    "df_realtor.dropna(inplace=True)"
   ]
  },
  {
   "cell_type": "markdown",
   "metadata": {},
   "source": [
    "Cambiamos la columna sold_date a formato fecha"
   ]
  },
  {
   "cell_type": "code",
   "execution_count": 50,
   "metadata": {},
   "outputs": [],
   "source": [
    "df_realtor['sold_date'] = pd.to_datetime(df_realtor['sold_date'], format='%Y-%m-%d', errors='coerce')"
   ]
  },
  {
   "cell_type": "markdown",
   "metadata": {},
   "source": [
    "Creamos una nueva columna con el año de venta"
   ]
  },
  {
   "cell_type": "code",
   "execution_count": 51,
   "metadata": {},
   "outputs": [],
   "source": [
    "def anio(x):\n",
    "    return x.year\n",
    "df_realtor['sold_year'] = df_realtor['sold_date'].apply(anio)"
   ]
  },
  {
   "cell_type": "markdown",
   "metadata": {},
   "source": [
    "Creamos una nueva columna con las estaciones del año"
   ]
  },
  {
   "cell_type": "code",
   "execution_count": 52,
   "metadata": {},
   "outputs": [],
   "source": [
    "def estaciones(x):\n",
    "    dia_mes = datetime(x.year, x.month, x.day)\n",
    "    primavera = datetime(x.year, 3, 21)\n",
    "    verano = datetime(x.year, 6, 21)\n",
    "    otoño = datetime(x.year, 9, 21)\n",
    "    invierno = datetime(x.year, 12, 21)\n",
    "    if primavera <= dia_mes < verano:\n",
    "        return 'spring'\n",
    "    elif verano <= dia_mes < otoño:\n",
    "        return 'summer'\n",
    "    elif otoño <= dia_mes < invierno:\n",
    "        return 'autumn'\n",
    "    else:  \n",
    "        return 'winter'\n",
    "df_realtor['sold_season'] = df_realtor['sold_date'].apply(estaciones)\n"
   ]
  },
  {
   "cell_type": "markdown",
   "metadata": {},
   "source": [
    "Eliminamos la columna date porque ya hemos extraído la información que nos interesaba"
   ]
  },
  {
   "cell_type": "code",
   "execution_count": 53,
   "metadata": {},
   "outputs": [],
   "source": [
    "df_realtor.drop('sold_date', axis=1, inplace=True)"
   ]
  },
  {
   "cell_type": "markdown",
   "metadata": {},
   "source": [
    "Vamos a eliminar las columnas full_address, street y city puesto que esa info es redundante con la información que nos ofrece la columna State"
   ]
  },
  {
   "cell_type": "code",
   "execution_count": 54,
   "metadata": {},
   "outputs": [],
   "source": [
    "df_realtor.drop('full_address', axis=1, inplace=True)\n",
    "df_realtor.drop('street', axis=1, inplace=True)\n",
    "df_realtor.drop('city', axis=1, inplace=True)\n",
    "df_realtor.drop('zip_code', axis=1, inplace=True)"
   ]
  },
  {
   "cell_type": "code",
   "execution_count": 55,
   "metadata": {},
   "outputs": [
    {
     "name": "stdout",
     "output_type": "stream",
     "text": [
      "<class 'pandas.core.frame.DataFrame'>\n",
      "Int64Index: 141519 entries, 829 to 512154\n",
      "Data columns (total 9 columns):\n",
      " #   Column       Non-Null Count   Dtype  \n",
      "---  ------       --------------   -----  \n",
      " 0   status       141519 non-null  object \n",
      " 1   price        141519 non-null  float64\n",
      " 2   bed          141519 non-null  float64\n",
      " 3   bath         141519 non-null  float64\n",
      " 4   acre_lot     141519 non-null  float64\n",
      " 5   state        141519 non-null  object \n",
      " 6   house_size   141519 non-null  float64\n",
      " 7   sold_year    141519 non-null  int64  \n",
      " 8   sold_season  141519 non-null  object \n",
      "dtypes: float64(5), int64(1), object(3)\n",
      "memory usage: 10.8+ MB\n"
     ]
    }
   ],
   "source": [
    "df_realtor.info()"
   ]
  },
  {
   "cell_type": "markdown",
   "metadata": {},
   "source": [
    "Cambiamos las columnas de número de baños y habitaciones a números enteros"
   ]
  },
  {
   "cell_type": "code",
   "execution_count": 56,
   "metadata": {},
   "outputs": [],
   "source": [
    "df_realtor['bed'] = df_realtor['bed'].astype(int)\n",
    "df_realtor['bath'] = df_realtor['bath'].astype(int)"
   ]
  },
  {
   "cell_type": "code",
   "execution_count": 57,
   "metadata": {},
   "outputs": [
    {
     "name": "stdout",
     "output_type": "stream",
     "text": [
      "<class 'pandas.core.frame.DataFrame'>\n",
      "Int64Index: 141519 entries, 829 to 512154\n",
      "Data columns (total 9 columns):\n",
      " #   Column       Non-Null Count   Dtype  \n",
      "---  ------       --------------   -----  \n",
      " 0   status       141519 non-null  object \n",
      " 1   price        141519 non-null  float64\n",
      " 2   bed          141519 non-null  int32  \n",
      " 3   bath         141519 non-null  int32  \n",
      " 4   acre_lot     141519 non-null  float64\n",
      " 5   state        141519 non-null  object \n",
      " 6   house_size   141519 non-null  float64\n",
      " 7   sold_year    141519 non-null  int64  \n",
      " 8   sold_season  141519 non-null  object \n",
      "dtypes: float64(3), int32(2), int64(1), object(3)\n",
      "memory usage: 9.7+ MB\n"
     ]
    }
   ],
   "source": [
    "df_realtor.info()"
   ]
  },
  {
   "cell_type": "markdown",
   "metadata": {},
   "source": [
    "Vemos como queda el dataset"
   ]
  },
  {
   "cell_type": "code",
   "execution_count": 58,
   "metadata": {},
   "outputs": [
    {
     "data": {
      "text/html": [
       "<div>\n",
       "<style scoped>\n",
       "    .dataframe tbody tr th:only-of-type {\n",
       "        vertical-align: middle;\n",
       "    }\n",
       "\n",
       "    .dataframe tbody tr th {\n",
       "        vertical-align: top;\n",
       "    }\n",
       "\n",
       "    .dataframe thead th {\n",
       "        text-align: right;\n",
       "    }\n",
       "</style>\n",
       "<table border=\"1\" class=\"dataframe\">\n",
       "  <thead>\n",
       "    <tr style=\"text-align: right;\">\n",
       "      <th></th>\n",
       "      <th>status</th>\n",
       "      <th>price</th>\n",
       "      <th>bed</th>\n",
       "      <th>bath</th>\n",
       "      <th>acre_lot</th>\n",
       "      <th>state</th>\n",
       "      <th>house_size</th>\n",
       "      <th>sold_year</th>\n",
       "      <th>sold_season</th>\n",
       "    </tr>\n",
       "  </thead>\n",
       "  <tbody>\n",
       "    <tr>\n",
       "      <th>829</th>\n",
       "      <td>for_sale</td>\n",
       "      <td>110000.0</td>\n",
       "      <td>7</td>\n",
       "      <td>3</td>\n",
       "      <td>0.09</td>\n",
       "      <td>Puerto Rico</td>\n",
       "      <td>1192.0</td>\n",
       "      <td>2019</td>\n",
       "      <td>summer</td>\n",
       "    </tr>\n",
       "    <tr>\n",
       "      <th>3380</th>\n",
       "      <td>for_sale</td>\n",
       "      <td>110000.0</td>\n",
       "      <td>7</td>\n",
       "      <td>3</td>\n",
       "      <td>0.09</td>\n",
       "      <td>Puerto Rico</td>\n",
       "      <td>1192.0</td>\n",
       "      <td>2019</td>\n",
       "      <td>summer</td>\n",
       "    </tr>\n",
       "    <tr>\n",
       "      <th>5083</th>\n",
       "      <td>for_sale</td>\n",
       "      <td>110000.0</td>\n",
       "      <td>7</td>\n",
       "      <td>3</td>\n",
       "      <td>0.09</td>\n",
       "      <td>Puerto Rico</td>\n",
       "      <td>1192.0</td>\n",
       "      <td>2019</td>\n",
       "      <td>summer</td>\n",
       "    </tr>\n",
       "    <tr>\n",
       "      <th>5387</th>\n",
       "      <td>for_sale</td>\n",
       "      <td>110000.0</td>\n",
       "      <td>7</td>\n",
       "      <td>3</td>\n",
       "      <td>0.09</td>\n",
       "      <td>Puerto Rico</td>\n",
       "      <td>1192.0</td>\n",
       "      <td>2019</td>\n",
       "      <td>summer</td>\n",
       "    </tr>\n",
       "    <tr>\n",
       "      <th>9053</th>\n",
       "      <td>for_sale</td>\n",
       "      <td>110000.0</td>\n",
       "      <td>7</td>\n",
       "      <td>3</td>\n",
       "      <td>0.09</td>\n",
       "      <td>Puerto Rico</td>\n",
       "      <td>1192.0</td>\n",
       "      <td>2019</td>\n",
       "      <td>summer</td>\n",
       "    </tr>\n",
       "  </tbody>\n",
       "</table>\n",
       "</div>"
      ],
      "text/plain": [
       "        status     price  bed  bath  acre_lot        state  house_size  \\\n",
       "829   for_sale  110000.0    7     3      0.09  Puerto Rico      1192.0   \n",
       "3380  for_sale  110000.0    7     3      0.09  Puerto Rico      1192.0   \n",
       "5083  for_sale  110000.0    7     3      0.09  Puerto Rico      1192.0   \n",
       "5387  for_sale  110000.0    7     3      0.09  Puerto Rico      1192.0   \n",
       "9053  for_sale  110000.0    7     3      0.09  Puerto Rico      1192.0   \n",
       "\n",
       "      sold_year sold_season  \n",
       "829        2019      summer  \n",
       "3380       2019      summer  \n",
       "5083       2019      summer  \n",
       "5387       2019      summer  \n",
       "9053       2019      summer  "
      ]
     },
     "execution_count": 58,
     "metadata": {},
     "output_type": "execute_result"
    }
   ],
   "source": [
    "df_realtor.head()"
   ]
  },
  {
   "cell_type": "markdown",
   "metadata": {},
   "source": [
    "Vamos a observar las variables categóricas que nos quedan"
   ]
  },
  {
   "cell_type": "code",
   "execution_count": 59,
   "metadata": {},
   "outputs": [
    {
     "data": {
      "image/png": "[encoded data removed]",
      "text/plain": [
       "<Figure size 500x1500 with 3 Axes>"
      ]
     },
     "metadata": {},
     "output_type": "display_data"
    }
   ],
   "source": [
    "fig, ax = plt.subplots(nrows=3, ncols=1, figsize=(5,15))\n",
    "fig.subplots_adjust(hspace=0.5)\n",
    "\n",
    "for i, col in enumerate(['status','state','sold_season']):\n",
    "  sns.countplot(x=col, data=df_realtor, ax=ax[i])\n",
    "  ax[i].set_xticklabels(ax[i].get_xticklabels(), rotation=90)"
   ]
  },
  {
   "cell_type": "markdown",
   "metadata": {},
   "source": [
    "Eliminamos status, porque al eliminar todos los nulos, hemos eliminado las casas con la categoría ready to build.  \n",
    "Esto significa que en EEUU no suelen venderse muchas casas sobre plano, es decir que no están construidas."
   ]
  },
  {
   "cell_type": "code",
   "execution_count": 60,
   "metadata": {},
   "outputs": [],
   "source": [
    "df_realtor.drop('status', axis=1, inplace=True)"
   ]
  },
  {
   "cell_type": "code",
   "execution_count": 61,
   "metadata": {},
   "outputs": [
    {
     "data": {
      "text/plain": [
       "Massachusetts     51961\n",
       "Connecticut       44804\n",
       "Rhode Island      12996\n",
       "New Hampshire     10163\n",
       "Vermont            8381\n",
       "New York           5586\n",
       "Maine              4421\n",
       "New Jersey         3181\n",
       "Puerto Rico          20\n",
       "Virgin Islands        6\n",
       "Name: state, dtype: int64"
      ]
     },
     "execution_count": 61,
     "metadata": {},
     "output_type": "execute_result"
    }
   ],
   "source": [
    "df_realtor.state.value_counts()"
   ]
  },
  {
   "cell_type": "markdown",
   "metadata": {},
   "source": [
    "Puerto Rico y las Islas Vírgenes están en el Caribe. Vamos a crear un nuevo valor que sea Caribbean States  \n",
    "Pennsylvania, New Jersey y West Virginia son estados del Este que están muy próximos entre sí y tienen pocos valores. Los agrupamos bajo N.Jersey and nearby"
   ]
  },
  {
   "cell_type": "code",
   "execution_count": 62,
   "metadata": {},
   "outputs": [],
   "source": [
    "def agrupacion(x):\n",
    "    if x == 'Virgin Islands':\n",
    "        return 'Caribbean states'\n",
    "    elif x == 'Puerto Rico':\n",
    "        return 'Caribbean states'\n",
    "    elif x == 'New Jersey':\n",
    "        return 'N.Jersey and nearby'\n",
    "    elif x == 'Pennsylvania':\n",
    "        return 'N.Jersey and nearby'\n",
    "    elif x == 'West Virginia':\n",
    "        return 'N.Jersey and nearby'\n",
    "    else:\n",
    "        return x\n",
    "df_realtor['state']=df_realtor['state'].apply(agrupacion)"
   ]
  },
  {
   "cell_type": "markdown",
   "metadata": {},
   "source": [
    "Observamos las variables categóricas después de la limpieza"
   ]
  },
  {
   "cell_type": "code",
   "execution_count": 63,
   "metadata": {},
   "outputs": [
    {
     "data": {
      "image/png": "[encoded data removed]",
      "text/plain": [
       "<Figure size 500x1000 with 2 Axes>"
      ]
     },
     "metadata": {},
     "output_type": "display_data"
    }
   ],
   "source": [
    "fig, ax = plt.subplots(nrows=2, ncols=1, figsize=(5,10))\n",
    "fig.subplots_adjust(hspace=0.5)\n",
    "\n",
    "for i, col in enumerate(['state','sold_season']):\n",
    "  sns.countplot(x=col, data=df_realtor, ax=ax[i])\n",
    "  ax[i].set_xticklabels(ax[i].get_xticklabels(), rotation=90)"
   ]
  },
  {
   "cell_type": "markdown",
   "metadata": {},
   "source": [
    "Vemos atípicos en variables numéricas"
   ]
  },
  {
   "cell_type": "code",
   "execution_count": 64,
   "metadata": {},
   "outputs": [
    {
     "name": "stdout",
     "output_type": "stream",
     "text": [
      "<class 'pandas.core.frame.DataFrame'>\n",
      "Int64Index: 141519 entries, 829 to 512154\n",
      "Data columns (total 8 columns):\n",
      " #   Column       Non-Null Count   Dtype  \n",
      "---  ------       --------------   -----  \n",
      " 0   price        141519 non-null  float64\n",
      " 1   bed          141519 non-null  int32  \n",
      " 2   bath         141519 non-null  int32  \n",
      " 3   acre_lot     141519 non-null  float64\n",
      " 4   state        141519 non-null  object \n",
      " 5   house_size   141519 non-null  float64\n",
      " 6   sold_year    141519 non-null  int64  \n",
      " 7   sold_season  141519 non-null  object \n",
      "dtypes: float64(3), int32(2), int64(1), object(2)\n",
      "memory usage: 8.6+ MB\n"
     ]
    }
   ],
   "source": [
    "df_realtor.info()"
   ]
  },
  {
   "cell_type": "code",
   "execution_count": 65,
   "metadata": {},
   "outputs": [
    {
     "name": "stdout",
     "output_type": "stream",
     "text": [
      "<class 'pandas.core.frame.DataFrame'>\n",
      "Int64Index: 141519 entries, 829 to 512154\n",
      "Data columns (total 8 columns):\n",
      " #   Column       Non-Null Count   Dtype  \n",
      "---  ------       --------------   -----  \n",
      " 0   price        141519 non-null  float64\n",
      " 1   bed          141519 non-null  int32  \n",
      " 2   bath         141519 non-null  int32  \n",
      " 3   acre_lot     141519 non-null  float64\n",
      " 4   state        141519 non-null  object \n",
      " 5   house_size   141519 non-null  float64\n",
      " 6   sold_year    141519 non-null  int64  \n",
      " 7   sold_season  141519 non-null  object \n",
      "dtypes: float64(3), int32(2), int64(1), object(2)\n",
      "memory usage: 8.6+ MB\n"
     ]
    }
   ],
   "source": [
    "df_realtor.info()"
   ]
  },
  {
   "cell_type": "code",
   "execution_count": 66,
   "metadata": {},
   "outputs": [
    {
     "data": {
      "image/png": "[encoded data removed]",
      "text/plain": [
       "<Figure size 1700x1600 with 6 Axes>"
      ]
     },
     "metadata": {},
     "output_type": "display_data"
    }
   ],
   "source": [
    "fig, ax = plt.subplots(nrows=6, ncols=1, figsize=(17,16))\n",
    "fig.subplots_adjust(hspace=1)\n",
    "for i, col in enumerate(['price', 'bed', 'bath', 'acre_lot', 'house_size', 'sold_year']):\n",
    "    sns.boxplot(x=col, data=df_realtor, ax=ax[i])\n",
    "    ax[i].xaxis.set_major_locator(plt.MaxNLocator(nbins=10)) # set a fixed number of ticks"
   ]
  },
  {
   "cell_type": "markdown",
   "metadata": {},
   "source": [
    "Como vemos, hay muchos atípicos en la variable metros cuadrados. Esto puede deberse a que este dataset contiene propiedades muy grandes como mansiones, edificios enteros...  \n",
    "También puede ser que haya errores tipográficos.  \n",
    "Vamos a quitarnos las casas que tienen más baños que la media puesto que pueden tratarse de hoteles o edificios de oficinas y no de viviendas"
   ]
  },
  {
   "cell_type": "code",
   "execution_count": 67,
   "metadata": {},
   "outputs": [
    {
     "name": "stdout",
     "output_type": "stream",
     "text": [
      "Tamaño dataset anterior: (141519, 8)\n",
      "Tamaño dataset recortado: (131105, 8)\n"
     ]
    }
   ],
   "source": [
    "print(f'Tamaño dataset anterior: {df_realtor.shape}')\n",
    "#Creamos un df con la variable para recortar\n",
    "variablerecorte = df_realtor[['bath']]\n",
    "#Calculamos los cuartiles\n",
    "qs = variablerecorte.quantile([.25, .5, .75], numeric_only=True).values\n",
    "q1 = qs[0][0]\n",
    "q2 = qs[1][0]\n",
    "q3 = qs[2][0]\n",
    "# Definir límites inferior y superior, a partir de los cuales los datos serían considerados como atípicos\n",
    "iqr = q3-q1\n",
    "iqr_lim_inf = q1 - 1.5*iqr\n",
    "iqr_lim_sup = q3 + 1.5*iqr\n",
    "#Aquí le indicamos que elimine los atipicos del nuevo dataframe\n",
    "df_realtor = df_realtor[\n",
    "    (df_realtor['bath']>=iqr_lim_inf) & (df_realtor['bath']<=iqr_lim_sup)\n",
    "]\n",
    "print(f'Tamaño dataset recortado: {df_realtor.shape}')"
   ]
  },
  {
   "cell_type": "code",
   "execution_count": 68,
   "metadata": {},
   "outputs": [
    {
     "data": {
      "image/png": "[encoded data removed]",
      "text/plain": [
       "<Figure size 1700x1600 with 6 Axes>"
      ]
     },
     "metadata": {},
     "output_type": "display_data"
    }
   ],
   "source": [
    "fig, ax = plt.subplots(nrows=6, ncols=1, figsize=(17,16))\n",
    "fig.subplots_adjust(hspace=1)\n",
    "for i, col in enumerate(['price', 'bed', 'bath', 'acre_lot', 'house_size', 'sold_year']):\n",
    "    sns.boxplot(x=col, data=df_realtor, ax=ax[i])\n",
    "    ax[i].xaxis.set_major_locator(plt.MaxNLocator(nbins=10)) # set a fixed number of ticks"
   ]
  },
  {
   "cell_type": "markdown",
   "metadata": {},
   "source": [
    "Haremos lo mismo con las habitaciones. Aunque hayamos eliminado las propiedades con muchos baños, todavía nos quedan propiedades con demasiadas habitaciones.  \n",
    "Pueden ser oficinas, hostales o pensiones con baños compartidos"
   ]
  },
  {
   "cell_type": "code",
   "execution_count": 69,
   "metadata": {},
   "outputs": [
    {
     "name": "stdout",
     "output_type": "stream",
     "text": [
      "Tamaño dataset anterior: (131105, 8)\n",
      "Tamaño dataset recortado: (118454, 8)\n"
     ]
    }
   ],
   "source": [
    "print(f'Tamaño dataset anterior: {df_realtor.shape}')\n",
    "#Creamos un df con la variable para recortar\n",
    "variablerecorte = df_realtor[['bed']]\n",
    "#Calculamos los cuartiles\n",
    "qs = variablerecorte.quantile([.25, .5, .75], numeric_only=True).values\n",
    "q1 = qs[0][0]\n",
    "q2 = qs[1][0]\n",
    "q3 = qs[2][0]\n",
    "# Definir límites inferior y superior, a partir de los cuales los datos serían considerados como atípicos\n",
    "iqr = q3-q1\n",
    "iqr_lim_inf = q1 - 1.5*iqr\n",
    "iqr_lim_sup = q3 + 1.5*iqr\n",
    "#Aquí le indicamos que elimine los atipicos del nuevo dataframe\n",
    "df_realtor = df_realtor[\n",
    "    (df_realtor['bed']>=iqr_lim_inf) & (df_realtor['bed']<=iqr_lim_sup)\n",
    "]\n",
    "print(f'Tamaño dataset recortado: {df_realtor.shape}')"
   ]
  },
  {
   "cell_type": "code",
   "execution_count": 70,
   "metadata": {},
   "outputs": [
    {
     "data": {
      "image/png": "[encoded data removed]",
      "text/plain": [
       "<Figure size 1700x1600 with 6 Axes>"
      ]
     },
     "metadata": {},
     "output_type": "display_data"
    }
   ],
   "source": [
    "fig, ax = plt.subplots(nrows=6, ncols=1, figsize=(17,16))\n",
    "fig.subplots_adjust(hspace=1)\n",
    "for i, col in enumerate(['price', 'bed', 'bath', 'acre_lot', 'house_size', 'sold_year']):\n",
    "    sns.boxplot(x=col, data=df_realtor, ax=ax[i])\n",
    "    ax[i].xaxis.set_major_locator(plt.MaxNLocator(nbins=10)) # set a fixed number of ticks"
   ]
  },
  {
   "cell_type": "markdown",
   "metadata": {},
   "source": [
    "También nos quitaremos los datos de aquellos años pasados de los cuales no tengamos muchos datos"
   ]
  },
  {
   "cell_type": "code",
   "execution_count": 71,
   "metadata": {},
   "outputs": [
    {
     "name": "stdout",
     "output_type": "stream",
     "text": [
      "Tamaño dataset anterior: (118454, 8)\n",
      "Tamaño dataset recortado: (117580, 8)\n"
     ]
    }
   ],
   "source": [
    "print(f'Tamaño dataset anterior: {df_realtor.shape}')\n",
    "#Creamos un df con la variable para recortar\n",
    "variablerecorte = df_realtor[['sold_year']]\n",
    "#Calculamos los cuartiles\n",
    "qs = variablerecorte.quantile([.25, .5, .75], numeric_only=True).values\n",
    "q1 = qs[0][0]\n",
    "q2 = qs[1][0]\n",
    "q3 = qs[2][0]\n",
    "# Definir límites inferior y superior, a partir de los cuales los datos serían considerados como atípicos\n",
    "iqr = q3-q1\n",
    "iqr_lim_inf = q1 - 1.5*iqr\n",
    "iqr_lim_sup = q3 + 1.5*iqr\n",
    "#Aquí le indicamos que elimine los atipicos del nuevo dataframe\n",
    "df_realtor = df_realtor[\n",
    "    (df_realtor['sold_year']>=iqr_lim_inf) & (df_realtor['sold_year']<=iqr_lim_sup)\n",
    "]\n",
    "print(f'Tamaño dataset recortado: {df_realtor.shape}')"
   ]
  },
  {
   "cell_type": "code",
   "execution_count": 72,
   "metadata": {},
   "outputs": [
    {
     "data": {
      "image/png": "[encoded data removed]",
      "text/plain": [
       "<Figure size 1700x1600 with 6 Axes>"
      ]
     },
     "metadata": {},
     "output_type": "display_data"
    }
   ],
   "source": [
    "fig, ax = plt.subplots(nrows=6, ncols=1, figsize=(17,16))\n",
    "fig.subplots_adjust(hspace=1)\n",
    "for i, col in enumerate(['price', 'bed', 'bath', 'acre_lot', 'house_size', 'sold_year']):\n",
    "    sns.boxplot(x=col, data=df_realtor, ax=ax[i])\n",
    "    ax[i].xaxis.set_major_locator(plt.MaxNLocator(nbins=10)) # set a fixed number of ticks"
   ]
  },
  {
   "cell_type": "markdown",
   "metadata": {},
   "source": [
    "Todavía nos quedan propiedades con muchos metros cuadrados (acre_lot) y muchos metros construidos(house_size). Pueden tratarse de fincas o mansiones grandes.  \n",
    "Vamos a eliminar esos datos."
   ]
  },
  {
   "cell_type": "code",
   "execution_count": 73,
   "metadata": {},
   "outputs": [
    {
     "name": "stdout",
     "output_type": "stream",
     "text": [
      "Tamaño dataset anterior: (117580, 8)\n",
      "Tamaño dataset recortado: (104600, 8)\n"
     ]
    }
   ],
   "source": [
    "print(f'Tamaño dataset anterior: {df_realtor.shape}')\n",
    "#Creamos un df con la variable para recortar\n",
    "variablerecorte = df_realtor[['acre_lot']]\n",
    "#Calculamos los cuartiles\n",
    "qs = variablerecorte.quantile([.25, .5, .75], numeric_only=True).values\n",
    "q1 = qs[0][0]\n",
    "q2 = qs[1][0]\n",
    "q3 = qs[2][0]\n",
    "# Definir límites inferior y superior, a partir de los cuales los datos serían considerados como atípicos\n",
    "iqr = q3-q1\n",
    "iqr_lim_inf = q1 - 1.5*iqr\n",
    "iqr_lim_sup = q3 + 1.5*iqr\n",
    "#Aquí le indicamos que elimine los atipicos del nuevo dataframe\n",
    "df_realtor = df_realtor[\n",
    "    (df_realtor['acre_lot']>=iqr_lim_inf) & (df_realtor['acre_lot']<=iqr_lim_sup)\n",
    "]\n",
    "print(f'Tamaño dataset recortado: {df_realtor.shape}')"
   ]
  },
  {
   "cell_type": "code",
   "execution_count": 74,
   "metadata": {},
   "outputs": [
    {
     "name": "stdout",
     "output_type": "stream",
     "text": [
      "Tamaño dataset anterior: (104600, 8)\n",
      "Tamaño dataset recortado: (100826, 8)\n"
     ]
    }
   ],
   "source": [
    "print(f'Tamaño dataset anterior: {df_realtor.shape}')\n",
    "#Creamos un df con la variable para recortar\n",
    "variablerecorte = df_realtor[['house_size']]\n",
    "#Calculamos los cuartiles\n",
    "qs = variablerecorte.quantile([.25, .5, .75], numeric_only=True).values\n",
    "q1 = qs[0][0]\n",
    "q2 = qs[1][0]\n",
    "q3 = qs[2][0]\n",
    "# Definir límites inferior y superior, a partir de los cuales los datos serían considerados como atípicos\n",
    "iqr = q3-q1\n",
    "iqr_lim_inf = q1 - 1.5*iqr\n",
    "iqr_lim_sup = q3 + 1.5*iqr\n",
    "#Aquí le indicamos que elimine los atipicos del nuevo dataframe\n",
    "df_realtor = df_realtor[\n",
    "    (df_realtor['house_size']>=iqr_lim_inf) & (df_realtor['house_size']<=iqr_lim_sup)\n",
    "]\n",
    "print(f'Tamaño dataset recortado: {df_realtor.shape}')"
   ]
  },
  {
   "cell_type": "code",
   "execution_count": 75,
   "metadata": {},
   "outputs": [
    {
     "data": {
      "image/png": "[encoded data removed]",
      "text/plain": [
       "<Figure size 1700x1600 with 6 Axes>"
      ]
     },
     "metadata": {},
     "output_type": "display_data"
    }
   ],
   "source": [
    "fig, ax = plt.subplots(nrows=6, ncols=1, figsize=(17,16))\n",
    "fig.subplots_adjust(hspace=1)\n",
    "for i, col in enumerate(['price', 'bed', 'bath', 'acre_lot', 'house_size', 'sold_year']):\n",
    "    sns.boxplot(x=col, data=df_realtor, ax=ax[i])\n",
    "    ax[i].xaxis.set_major_locator(plt.MaxNLocator(nbins=10)) "
   ]
  },
  {
   "cell_type": "markdown",
   "metadata": {},
   "source": [
    "Además, eliminaremos aquellas propiedades con un precio más grande, puesto que estas seguramente sean propiedades de lujo y a nosotros nos interesa estudiar el mercado   \n",
    "de la vivienda habitual"
   ]
  },
  {
   "cell_type": "code",
   "execution_count": 76,
   "metadata": {},
   "outputs": [
    {
     "name": "stdout",
     "output_type": "stream",
     "text": [
      "Tamaño dataset anterior: (100826, 8)\n",
      "Tamaño dataset recortado: (94977, 8)\n"
     ]
    }
   ],
   "source": [
    "print(f'Tamaño dataset anterior: {df_realtor.shape}')\n",
    "#Creamos un df con la variable para recortar\n",
    "variablerecorte = df_realtor[['price']]\n",
    "#Calculamos los cuartiles\n",
    "qs = variablerecorte.quantile([.25, .5, .75], numeric_only=True).values\n",
    "q1 = qs[0][0]\n",
    "q2 = qs[1][0]\n",
    "q3 = qs[2][0]\n",
    "# Definir límites inferior y superior, a partir de los cuales los datos serían considerados como atípicos\n",
    "iqr = q3-q1\n",
    "iqr_lim_inf = q1 - 1.5*iqr\n",
    "iqr_lim_sup = q3 + 1.5*iqr\n",
    "#Aquí le indicamos que elimine los atipicos del nuevo dataframe\n",
    "df_realtor = df_realtor[\n",
    "    (df_realtor['price']>=iqr_lim_inf) & (df_realtor['price']<=iqr_lim_sup)\n",
    "]\n",
    "print(f'Tamaño dataset recortado: {df_realtor.shape}')"
   ]
  },
  {
   "cell_type": "code",
   "execution_count": 77,
   "metadata": {},
   "outputs": [
    {
     "data": {
      "image/png": "[encoded data removed]",
      "text/plain": [
       "<Figure size 1700x1600 with 6 Axes>"
      ]
     },
     "metadata": {},
     "output_type": "display_data"
    }
   ],
   "source": [
    "fig, ax = plt.subplots(nrows=6, ncols=1, figsize=(17,16))\n",
    "fig.subplots_adjust(hspace=1)\n",
    "for i, col in enumerate(['price', 'bed', 'bath', 'acre_lot', 'house_size', 'sold_year']):\n",
    "    sns.boxplot(x=col, data=df_realtor, ax=ax[i])\n",
    "    ax[i].xaxis.set_major_locator(plt.MaxNLocator(nbins=10)) "
   ]
  },
  {
   "cell_type": "markdown",
   "metadata": {},
   "source": [
    "Convertimos las variables categóricas a Dummies"
   ]
  },
  {
   "cell_type": "code",
   "execution_count": 78,
   "metadata": {},
   "outputs": [],
   "source": [
    "df_realtor = pd.get_dummies(df_realtor, columns=['sold_season'])"
   ]
  },
  {
   "cell_type": "code",
   "execution_count": 79,
   "metadata": {},
   "outputs": [],
   "source": [
    "nombres_antiguos = list(df_realtor.columns[7:13])\n",
    "nombres_nuevos = []\n",
    "for i in range(len(nombres_antiguos)):\n",
    "    nombres_nuevos.append((nombres_antiguos[i])[12:(len(nombres_antiguos[i]))])\n",
    "cambio_nombres = {}\n",
    "for i in range(len(nombres_antiguos)):\n",
    "    cambio_nombres[nombres_antiguos[i]] = nombres_nuevos[i]\n",
    "df_realtor.rename(columns = cambio_nombres, inplace=True)"
   ]
  },
  {
   "cell_type": "code",
   "execution_count": 80,
   "metadata": {},
   "outputs": [
    {
     "data": {
      "text/html": [
       "<div>\n",
       "<style scoped>\n",
       "    .dataframe tbody tr th:only-of-type {\n",
       "        vertical-align: middle;\n",
       "    }\n",
       "\n",
       "    .dataframe tbody tr th {\n",
       "        vertical-align: top;\n",
       "    }\n",
       "\n",
       "    .dataframe thead th {\n",
       "        text-align: right;\n",
       "    }\n",
       "</style>\n",
       "<table border=\"1\" class=\"dataframe\">\n",
       "  <thead>\n",
       "    <tr style=\"text-align: right;\">\n",
       "      <th></th>\n",
       "      <th>price</th>\n",
       "      <th>bed</th>\n",
       "      <th>bath</th>\n",
       "      <th>acre_lot</th>\n",
       "      <th>state</th>\n",
       "      <th>house_size</th>\n",
       "      <th>sold_year</th>\n",
       "      <th>autumn</th>\n",
       "      <th>spring</th>\n",
       "      <th>summer</th>\n",
       "      <th>winter</th>\n",
       "    </tr>\n",
       "  </thead>\n",
       "  <tbody>\n",
       "    <tr>\n",
       "      <th>24237</th>\n",
       "      <td>525000.0</td>\n",
       "      <td>3</td>\n",
       "      <td>3</td>\n",
       "      <td>0.45</td>\n",
       "      <td>Massachusetts</td>\n",
       "      <td>2314.0</td>\n",
       "      <td>2014</td>\n",
       "      <td>0</td>\n",
       "      <td>0</td>\n",
       "      <td>1</td>\n",
       "      <td>0</td>\n",
       "    </tr>\n",
       "    <tr>\n",
       "      <th>24238</th>\n",
       "      <td>289900.0</td>\n",
       "      <td>3</td>\n",
       "      <td>2</td>\n",
       "      <td>0.36</td>\n",
       "      <td>Massachusetts</td>\n",
       "      <td>1276.0</td>\n",
       "      <td>2012</td>\n",
       "      <td>1</td>\n",
       "      <td>0</td>\n",
       "      <td>0</td>\n",
       "      <td>0</td>\n",
       "    </tr>\n",
       "    <tr>\n",
       "      <th>24244</th>\n",
       "      <td>384900.0</td>\n",
       "      <td>3</td>\n",
       "      <td>2</td>\n",
       "      <td>0.46</td>\n",
       "      <td>Massachusetts</td>\n",
       "      <td>1476.0</td>\n",
       "      <td>1986</td>\n",
       "      <td>1</td>\n",
       "      <td>0</td>\n",
       "      <td>0</td>\n",
       "      <td>0</td>\n",
       "    </tr>\n",
       "    <tr>\n",
       "      <th>24251</th>\n",
       "      <td>199999.0</td>\n",
       "      <td>3</td>\n",
       "      <td>2</td>\n",
       "      <td>1.76</td>\n",
       "      <td>Massachusetts</td>\n",
       "      <td>1968.0</td>\n",
       "      <td>2008</td>\n",
       "      <td>0</td>\n",
       "      <td>0</td>\n",
       "      <td>1</td>\n",
       "      <td>0</td>\n",
       "    </tr>\n",
       "    <tr>\n",
       "      <th>24258</th>\n",
       "      <td>419000.0</td>\n",
       "      <td>4</td>\n",
       "      <td>2</td>\n",
       "      <td>2.00</td>\n",
       "      <td>Massachusetts</td>\n",
       "      <td>1607.0</td>\n",
       "      <td>2005</td>\n",
       "      <td>0</td>\n",
       "      <td>0</td>\n",
       "      <td>1</td>\n",
       "      <td>0</td>\n",
       "    </tr>\n",
       "    <tr>\n",
       "      <th>...</th>\n",
       "      <td>...</td>\n",
       "      <td>...</td>\n",
       "      <td>...</td>\n",
       "      <td>...</td>\n",
       "      <td>...</td>\n",
       "      <td>...</td>\n",
       "      <td>...</td>\n",
       "      <td>...</td>\n",
       "      <td>...</td>\n",
       "      <td>...</td>\n",
       "      <td>...</td>\n",
       "    </tr>\n",
       "    <tr>\n",
       "      <th>512091</th>\n",
       "      <td>795000.0</td>\n",
       "      <td>3</td>\n",
       "      <td>3</td>\n",
       "      <td>0.06</td>\n",
       "      <td>New York</td>\n",
       "      <td>1570.0</td>\n",
       "      <td>1998</td>\n",
       "      <td>0</td>\n",
       "      <td>0</td>\n",
       "      <td>1</td>\n",
       "      <td>0</td>\n",
       "    </tr>\n",
       "    <tr>\n",
       "      <th>512127</th>\n",
       "      <td>639000.0</td>\n",
       "      <td>4</td>\n",
       "      <td>2</td>\n",
       "      <td>0.07</td>\n",
       "      <td>New York</td>\n",
       "      <td>1729.0</td>\n",
       "      <td>2018</td>\n",
       "      <td>0</td>\n",
       "      <td>0</td>\n",
       "      <td>1</td>\n",
       "      <td>0</td>\n",
       "    </tr>\n",
       "    <tr>\n",
       "      <th>512130</th>\n",
       "      <td>785000.0</td>\n",
       "      <td>3</td>\n",
       "      <td>3</td>\n",
       "      <td>0.11</td>\n",
       "      <td>New York</td>\n",
       "      <td>1920.0</td>\n",
       "      <td>2004</td>\n",
       "      <td>1</td>\n",
       "      <td>0</td>\n",
       "      <td>0</td>\n",
       "      <td>0</td>\n",
       "    </tr>\n",
       "    <tr>\n",
       "      <th>512134</th>\n",
       "      <td>929000.0</td>\n",
       "      <td>3</td>\n",
       "      <td>3</td>\n",
       "      <td>0.06</td>\n",
       "      <td>New York</td>\n",
       "      <td>1873.0</td>\n",
       "      <td>1990</td>\n",
       "      <td>0</td>\n",
       "      <td>0</td>\n",
       "      <td>1</td>\n",
       "      <td>0</td>\n",
       "    </tr>\n",
       "    <tr>\n",
       "      <th>512154</th>\n",
       "      <td>980000.0</td>\n",
       "      <td>3</td>\n",
       "      <td>2</td>\n",
       "      <td>0.05</td>\n",
       "      <td>New York</td>\n",
       "      <td>1462.0</td>\n",
       "      <td>2001</td>\n",
       "      <td>0</td>\n",
       "      <td>0</td>\n",
       "      <td>0</td>\n",
       "      <td>1</td>\n",
       "    </tr>\n",
       "  </tbody>\n",
       "</table>\n",
       "<p>94977 rows × 11 columns</p>\n",
       "</div>"
      ],
      "text/plain": [
       "           price  bed  bath  acre_lot          state  house_size  sold_year  \\\n",
       "24237   525000.0    3     3      0.45  Massachusetts      2314.0       2014   \n",
       "24238   289900.0    3     2      0.36  Massachusetts      1276.0       2012   \n",
       "24244   384900.0    3     2      0.46  Massachusetts      1476.0       1986   \n",
       "24251   199999.0    3     2      1.76  Massachusetts      1968.0       2008   \n",
       "24258   419000.0    4     2      2.00  Massachusetts      1607.0       2005   \n",
       "...          ...  ...   ...       ...            ...         ...        ...   \n",
       "512091  795000.0    3     3      0.06       New York      1570.0       1998   \n",
       "512127  639000.0    4     2      0.07       New York      1729.0       2018   \n",
       "512130  785000.0    3     3      0.11       New York      1920.0       2004   \n",
       "512134  929000.0    3     3      0.06       New York      1873.0       1990   \n",
       "512154  980000.0    3     2      0.05       New York      1462.0       2001   \n",
       "\n",
       "        autumn  spring  summer  winter  \n",
       "24237        0       0       1       0  \n",
       "24238        1       0       0       0  \n",
       "24244        1       0       0       0  \n",
       "24251        0       0       1       0  \n",
       "24258        0       0       1       0  \n",
       "...        ...     ...     ...     ...  \n",
       "512091       0       0       1       0  \n",
       "512127       0       0       1       0  \n",
       "512130       1       0       0       0  \n",
       "512134       0       0       1       0  \n",
       "512154       0       0       0       1  \n",
       "\n",
       "[94977 rows x 11 columns]"
      ]
     },
     "execution_count": 80,
     "metadata": {},
     "output_type": "execute_result"
    }
   ],
   "source": [
    "df_realtor"
   ]
  },
  {
   "cell_type": "code",
   "execution_count": 81,
   "metadata": {},
   "outputs": [],
   "source": [
    "df_realtor = pd.get_dummies(df_realtor, columns=['state'])"
   ]
  },
  {
   "cell_type": "code",
   "execution_count": 82,
   "metadata": {},
   "outputs": [],
   "source": [
    "nombres_antiguos = list(df_realtor.columns[11:20])\n",
    "nombres_nuevos = []\n",
    "for i in range(len(nombres_antiguos)):\n",
    "    nombres_nuevos.append((nombres_antiguos[i])[6:(len(nombres_antiguos[i]))])\n",
    "cambio_nombres = {}\n",
    "for i in range(len(nombres_antiguos)):\n",
    "    cambio_nombres[nombres_antiguos[i]] = nombres_nuevos[i]\n",
    "df_realtor.rename(columns = cambio_nombres, inplace=True)"
   ]
  },
  {
   "cell_type": "code",
   "execution_count": 83,
   "metadata": {
    "scrolled": true
   },
   "outputs": [
    {
     "data": {
      "text/html": [
       "<div>\n",
       "<style scoped>\n",
       "    .dataframe tbody tr th:only-of-type {\n",
       "        vertical-align: middle;\n",
       "    }\n",
       "\n",
       "    .dataframe tbody tr th {\n",
       "        vertical-align: top;\n",
       "    }\n",
       "\n",
       "    .dataframe thead th {\n",
       "        text-align: right;\n",
       "    }\n",
       "</style>\n",
       "<table border=\"1\" class=\"dataframe\">\n",
       "  <thead>\n",
       "    <tr style=\"text-align: right;\">\n",
       "      <th></th>\n",
       "      <th>price</th>\n",
       "      <th>bed</th>\n",
       "      <th>bath</th>\n",
       "      <th>acre_lot</th>\n",
       "      <th>house_size</th>\n",
       "      <th>sold_year</th>\n",
       "      <th>autumn</th>\n",
       "      <th>spring</th>\n",
       "      <th>summer</th>\n",
       "      <th>winter</th>\n",
       "      <th>state_Connecticut</th>\n",
       "      <th>Maine</th>\n",
       "      <th>Massachusetts</th>\n",
       "      <th>N.Jersey and nearby</th>\n",
       "      <th>New Hampshire</th>\n",
       "      <th>New York</th>\n",
       "      <th>Rhode Island</th>\n",
       "      <th>Vermont</th>\n",
       "    </tr>\n",
       "  </thead>\n",
       "  <tbody>\n",
       "    <tr>\n",
       "      <th>24237</th>\n",
       "      <td>525000.0</td>\n",
       "      <td>3</td>\n",
       "      <td>3</td>\n",
       "      <td>0.45</td>\n",
       "      <td>2314.0</td>\n",
       "      <td>2014</td>\n",
       "      <td>0</td>\n",
       "      <td>0</td>\n",
       "      <td>1</td>\n",
       "      <td>0</td>\n",
       "      <td>0</td>\n",
       "      <td>0</td>\n",
       "      <td>1</td>\n",
       "      <td>0</td>\n",
       "      <td>0</td>\n",
       "      <td>0</td>\n",
       "      <td>0</td>\n",
       "      <td>0</td>\n",
       "    </tr>\n",
       "    <tr>\n",
       "      <th>24238</th>\n",
       "      <td>289900.0</td>\n",
       "      <td>3</td>\n",
       "      <td>2</td>\n",
       "      <td>0.36</td>\n",
       "      <td>1276.0</td>\n",
       "      <td>2012</td>\n",
       "      <td>1</td>\n",
       "      <td>0</td>\n",
       "      <td>0</td>\n",
       "      <td>0</td>\n",
       "      <td>0</td>\n",
       "      <td>0</td>\n",
       "      <td>1</td>\n",
       "      <td>0</td>\n",
       "      <td>0</td>\n",
       "      <td>0</td>\n",
       "      <td>0</td>\n",
       "      <td>0</td>\n",
       "    </tr>\n",
       "    <tr>\n",
       "      <th>24244</th>\n",
       "      <td>384900.0</td>\n",
       "      <td>3</td>\n",
       "      <td>2</td>\n",
       "      <td>0.46</td>\n",
       "      <td>1476.0</td>\n",
       "      <td>1986</td>\n",
       "      <td>1</td>\n",
       "      <td>0</td>\n",
       "      <td>0</td>\n",
       "      <td>0</td>\n",
       "      <td>0</td>\n",
       "      <td>0</td>\n",
       "      <td>1</td>\n",
       "      <td>0</td>\n",
       "      <td>0</td>\n",
       "      <td>0</td>\n",
       "      <td>0</td>\n",
       "      <td>0</td>\n",
       "    </tr>\n",
       "    <tr>\n",
       "      <th>24251</th>\n",
       "      <td>199999.0</td>\n",
       "      <td>3</td>\n",
       "      <td>2</td>\n",
       "      <td>1.76</td>\n",
       "      <td>1968.0</td>\n",
       "      <td>2008</td>\n",
       "      <td>0</td>\n",
       "      <td>0</td>\n",
       "      <td>1</td>\n",
       "      <td>0</td>\n",
       "      <td>0</td>\n",
       "      <td>0</td>\n",
       "      <td>1</td>\n",
       "      <td>0</td>\n",
       "      <td>0</td>\n",
       "      <td>0</td>\n",
       "      <td>0</td>\n",
       "      <td>0</td>\n",
       "    </tr>\n",
       "    <tr>\n",
       "      <th>24258</th>\n",
       "      <td>419000.0</td>\n",
       "      <td>4</td>\n",
       "      <td>2</td>\n",
       "      <td>2.00</td>\n",
       "      <td>1607.0</td>\n",
       "      <td>2005</td>\n",
       "      <td>0</td>\n",
       "      <td>0</td>\n",
       "      <td>1</td>\n",
       "      <td>0</td>\n",
       "      <td>0</td>\n",
       "      <td>0</td>\n",
       "      <td>1</td>\n",
       "      <td>0</td>\n",
       "      <td>0</td>\n",
       "      <td>0</td>\n",
       "      <td>0</td>\n",
       "      <td>0</td>\n",
       "    </tr>\n",
       "    <tr>\n",
       "      <th>...</th>\n",
       "      <td>...</td>\n",
       "      <td>...</td>\n",
       "      <td>...</td>\n",
       "      <td>...</td>\n",
       "      <td>...</td>\n",
       "      <td>...</td>\n",
       "      <td>...</td>\n",
       "      <td>...</td>\n",
       "      <td>...</td>\n",
       "      <td>...</td>\n",
       "      <td>...</td>\n",
       "      <td>...</td>\n",
       "      <td>...</td>\n",
       "      <td>...</td>\n",
       "      <td>...</td>\n",
       "      <td>...</td>\n",
       "      <td>...</td>\n",
       "      <td>...</td>\n",
       "    </tr>\n",
       "    <tr>\n",
       "      <th>512091</th>\n",
       "      <td>795000.0</td>\n",
       "      <td>3</td>\n",
       "      <td>3</td>\n",
       "      <td>0.06</td>\n",
       "      <td>1570.0</td>\n",
       "      <td>1998</td>\n",
       "      <td>0</td>\n",
       "      <td>0</td>\n",
       "      <td>1</td>\n",
       "      <td>0</td>\n",
       "      <td>0</td>\n",
       "      <td>0</td>\n",
       "      <td>0</td>\n",
       "      <td>0</td>\n",
       "      <td>0</td>\n",
       "      <td>1</td>\n",
       "      <td>0</td>\n",
       "      <td>0</td>\n",
       "    </tr>\n",
       "    <tr>\n",
       "      <th>512127</th>\n",
       "      <td>639000.0</td>\n",
       "      <td>4</td>\n",
       "      <td>2</td>\n",
       "      <td>0.07</td>\n",
       "      <td>1729.0</td>\n",
       "      <td>2018</td>\n",
       "      <td>0</td>\n",
       "      <td>0</td>\n",
       "      <td>1</td>\n",
       "      <td>0</td>\n",
       "      <td>0</td>\n",
       "      <td>0</td>\n",
       "      <td>0</td>\n",
       "      <td>0</td>\n",
       "      <td>0</td>\n",
       "      <td>1</td>\n",
       "      <td>0</td>\n",
       "      <td>0</td>\n",
       "    </tr>\n",
       "    <tr>\n",
       "      <th>512130</th>\n",
       "      <td>785000.0</td>\n",
       "      <td>3</td>\n",
       "      <td>3</td>\n",
       "      <td>0.11</td>\n",
       "      <td>1920.0</td>\n",
       "      <td>2004</td>\n",
       "      <td>1</td>\n",
       "      <td>0</td>\n",
       "      <td>0</td>\n",
       "      <td>0</td>\n",
       "      <td>0</td>\n",
       "      <td>0</td>\n",
       "      <td>0</td>\n",
       "      <td>0</td>\n",
       "      <td>0</td>\n",
       "      <td>1</td>\n",
       "      <td>0</td>\n",
       "      <td>0</td>\n",
       "    </tr>\n",
       "    <tr>\n",
       "      <th>512134</th>\n",
       "      <td>929000.0</td>\n",
       "      <td>3</td>\n",
       "      <td>3</td>\n",
       "      <td>0.06</td>\n",
       "      <td>1873.0</td>\n",
       "      <td>1990</td>\n",
       "      <td>0</td>\n",
       "      <td>0</td>\n",
       "      <td>1</td>\n",
       "      <td>0</td>\n",
       "      <td>0</td>\n",
       "      <td>0</td>\n",
       "      <td>0</td>\n",
       "      <td>0</td>\n",
       "      <td>0</td>\n",
       "      <td>1</td>\n",
       "      <td>0</td>\n",
       "      <td>0</td>\n",
       "    </tr>\n",
       "    <tr>\n",
       "      <th>512154</th>\n",
       "      <td>980000.0</td>\n",
       "      <td>3</td>\n",
       "      <td>2</td>\n",
       "      <td>0.05</td>\n",
       "      <td>1462.0</td>\n",
       "      <td>2001</td>\n",
       "      <td>0</td>\n",
       "      <td>0</td>\n",
       "      <td>0</td>\n",
       "      <td>1</td>\n",
       "      <td>0</td>\n",
       "      <td>0</td>\n",
       "      <td>0</td>\n",
       "      <td>0</td>\n",
       "      <td>0</td>\n",
       "      <td>1</td>\n",
       "      <td>0</td>\n",
       "      <td>0</td>\n",
       "    </tr>\n",
       "  </tbody>\n",
       "</table>\n",
       "<p>94977 rows × 18 columns</p>\n",
       "</div>"
      ],
      "text/plain": [
       "           price  bed  bath  acre_lot  house_size  sold_year  autumn  spring  \\\n",
       "24237   525000.0    3     3      0.45      2314.0       2014       0       0   \n",
       "24238   289900.0    3     2      0.36      1276.0       2012       1       0   \n",
       "24244   384900.0    3     2      0.46      1476.0       1986       1       0   \n",
       "24251   199999.0    3     2      1.76      1968.0       2008       0       0   \n",
       "24258   419000.0    4     2      2.00      1607.0       2005       0       0   \n",
       "...          ...  ...   ...       ...         ...        ...     ...     ...   \n",
       "512091  795000.0    3     3      0.06      1570.0       1998       0       0   \n",
       "512127  639000.0    4     2      0.07      1729.0       2018       0       0   \n",
       "512130  785000.0    3     3      0.11      1920.0       2004       1       0   \n",
       "512134  929000.0    3     3      0.06      1873.0       1990       0       0   \n",
       "512154  980000.0    3     2      0.05      1462.0       2001       0       0   \n",
       "\n",
       "        summer  winter  state_Connecticut  Maine  Massachusetts  \\\n",
       "24237        1       0                  0      0              1   \n",
       "24238        0       0                  0      0              1   \n",
       "24244        0       0                  0      0              1   \n",
       "24251        1       0                  0      0              1   \n",
       "24258        1       0                  0      0              1   \n",
       "...        ...     ...                ...    ...            ...   \n",
       "512091       1       0                  0      0              0   \n",
       "512127       1       0                  0      0              0   \n",
       "512130       0       0                  0      0              0   \n",
       "512134       1       0                  0      0              0   \n",
       "512154       0       1                  0      0              0   \n",
       "\n",
       "        N.Jersey and nearby  New Hampshire  New York  Rhode Island  Vermont  \n",
       "24237                     0              0         0             0        0  \n",
       "24238                     0              0         0             0        0  \n",
       "24244                     0              0         0             0        0  \n",
       "24251                     0              0         0             0        0  \n",
       "24258                     0              0         0             0        0  \n",
       "...                     ...            ...       ...           ...      ...  \n",
       "512091                    0              0         1             0        0  \n",
       "512127                    0              0         1             0        0  \n",
       "512130                    0              0         1             0        0  \n",
       "512134                    0              0         1             0        0  \n",
       "512154                    0              0         1             0        0  \n",
       "\n",
       "[94977 rows x 18 columns]"
      ]
     },
     "execution_count": 83,
     "metadata": {},
     "output_type": "execute_result"
    }
   ],
   "source": [
    "df_realtor"
   ]
  },
  {
   "cell_type": "code",
   "execution_count": 84,
   "metadata": {
    "scrolled": true
   },
   "outputs": [
    {
     "name": "stdout",
     "output_type": "stream",
     "text": [
      "<class 'pandas.core.frame.DataFrame'>\n",
      "Int64Index: 94977 entries, 24237 to 512154\n",
      "Data columns (total 18 columns):\n",
      " #   Column               Non-Null Count  Dtype  \n",
      "---  ------               --------------  -----  \n",
      " 0   price                94977 non-null  float64\n",
      " 1   bed                  94977 non-null  int32  \n",
      " 2   bath                 94977 non-null  int32  \n",
      " 3   acre_lot             94977 non-null  float64\n",
      " 4   house_size           94977 non-null  float64\n",
      " 5   sold_year            94977 non-null  int64  \n",
      " 6   autumn               94977 non-null  uint8  \n",
      " 7   spring               94977 non-null  uint8  \n",
      " 8   summer               94977 non-null  uint8  \n",
      " 9   winter               94977 non-null  uint8  \n",
      " 10  state_Connecticut    94977 non-null  uint8  \n",
      " 11  Maine                94977 non-null  uint8  \n",
      " 12  Massachusetts        94977 non-null  uint8  \n",
      " 13  N.Jersey and nearby  94977 non-null  uint8  \n",
      " 14  New Hampshire        94977 non-null  uint8  \n",
      " 15  New York             94977 non-null  uint8  \n",
      " 16  Rhode Island         94977 non-null  uint8  \n",
      " 17  Vermont              94977 non-null  uint8  \n",
      "dtypes: float64(3), int32(2), int64(1), uint8(12)\n",
      "memory usage: 5.4 MB\n"
     ]
    }
   ],
   "source": [
    "df_realtor.info()"
   ]
  },
  {
   "cell_type": "code",
   "execution_count": 85,
   "metadata": {
    "scrolled": true
   },
   "outputs": [
    {
     "data": {
      "text/html": [
       "<div>\n",
       "<style scoped>\n",
       "    .dataframe tbody tr th:only-of-type {\n",
       "        vertical-align: middle;\n",
       "    }\n",
       "\n",
       "    .dataframe tbody tr th {\n",
       "        vertical-align: top;\n",
       "    }\n",
       "\n",
       "    .dataframe thead th {\n",
       "        text-align: right;\n",
       "    }\n",
       "</style>\n",
       "<table border=\"1\" class=\"dataframe\">\n",
       "  <thead>\n",
       "    <tr style=\"text-align: right;\">\n",
       "      <th></th>\n",
       "      <th>price</th>\n",
       "      <th>bed</th>\n",
       "      <th>bath</th>\n",
       "      <th>acre_lot</th>\n",
       "      <th>house_size</th>\n",
       "      <th>sold_year</th>\n",
       "      <th>autumn</th>\n",
       "      <th>spring</th>\n",
       "      <th>summer</th>\n",
       "      <th>winter</th>\n",
       "      <th>state_Connecticut</th>\n",
       "      <th>Maine</th>\n",
       "      <th>Massachusetts</th>\n",
       "      <th>N.Jersey and nearby</th>\n",
       "      <th>New Hampshire</th>\n",
       "      <th>New York</th>\n",
       "      <th>Rhode Island</th>\n",
       "      <th>Vermont</th>\n",
       "    </tr>\n",
       "  </thead>\n",
       "  <tbody>\n",
       "    <tr>\n",
       "      <th>24237</th>\n",
       "      <td>525000.0</td>\n",
       "      <td>3</td>\n",
       "      <td>3</td>\n",
       "      <td>0.45</td>\n",
       "      <td>2314.0</td>\n",
       "      <td>2014</td>\n",
       "      <td>0</td>\n",
       "      <td>0</td>\n",
       "      <td>1</td>\n",
       "      <td>0</td>\n",
       "      <td>0</td>\n",
       "      <td>0</td>\n",
       "      <td>1</td>\n",
       "      <td>0</td>\n",
       "      <td>0</td>\n",
       "      <td>0</td>\n",
       "      <td>0</td>\n",
       "      <td>0</td>\n",
       "    </tr>\n",
       "    <tr>\n",
       "      <th>24238</th>\n",
       "      <td>289900.0</td>\n",
       "      <td>3</td>\n",
       "      <td>2</td>\n",
       "      <td>0.36</td>\n",
       "      <td>1276.0</td>\n",
       "      <td>2012</td>\n",
       "      <td>1</td>\n",
       "      <td>0</td>\n",
       "      <td>0</td>\n",
       "      <td>0</td>\n",
       "      <td>0</td>\n",
       "      <td>0</td>\n",
       "      <td>1</td>\n",
       "      <td>0</td>\n",
       "      <td>0</td>\n",
       "      <td>0</td>\n",
       "      <td>0</td>\n",
       "      <td>0</td>\n",
       "    </tr>\n",
       "    <tr>\n",
       "      <th>24244</th>\n",
       "      <td>384900.0</td>\n",
       "      <td>3</td>\n",
       "      <td>2</td>\n",
       "      <td>0.46</td>\n",
       "      <td>1476.0</td>\n",
       "      <td>1986</td>\n",
       "      <td>1</td>\n",
       "      <td>0</td>\n",
       "      <td>0</td>\n",
       "      <td>0</td>\n",
       "      <td>0</td>\n",
       "      <td>0</td>\n",
       "      <td>1</td>\n",
       "      <td>0</td>\n",
       "      <td>0</td>\n",
       "      <td>0</td>\n",
       "      <td>0</td>\n",
       "      <td>0</td>\n",
       "    </tr>\n",
       "    <tr>\n",
       "      <th>24251</th>\n",
       "      <td>199999.0</td>\n",
       "      <td>3</td>\n",
       "      <td>2</td>\n",
       "      <td>1.76</td>\n",
       "      <td>1968.0</td>\n",
       "      <td>2008</td>\n",
       "      <td>0</td>\n",
       "      <td>0</td>\n",
       "      <td>1</td>\n",
       "      <td>0</td>\n",
       "      <td>0</td>\n",
       "      <td>0</td>\n",
       "      <td>1</td>\n",
       "      <td>0</td>\n",
       "      <td>0</td>\n",
       "      <td>0</td>\n",
       "      <td>0</td>\n",
       "      <td>0</td>\n",
       "    </tr>\n",
       "    <tr>\n",
       "      <th>24258</th>\n",
       "      <td>419000.0</td>\n",
       "      <td>4</td>\n",
       "      <td>2</td>\n",
       "      <td>2.00</td>\n",
       "      <td>1607.0</td>\n",
       "      <td>2005</td>\n",
       "      <td>0</td>\n",
       "      <td>0</td>\n",
       "      <td>1</td>\n",
       "      <td>0</td>\n",
       "      <td>0</td>\n",
       "      <td>0</td>\n",
       "      <td>1</td>\n",
       "      <td>0</td>\n",
       "      <td>0</td>\n",
       "      <td>0</td>\n",
       "      <td>0</td>\n",
       "      <td>0</td>\n",
       "    </tr>\n",
       "    <tr>\n",
       "      <th>...</th>\n",
       "      <td>...</td>\n",
       "      <td>...</td>\n",
       "      <td>...</td>\n",
       "      <td>...</td>\n",
       "      <td>...</td>\n",
       "      <td>...</td>\n",
       "      <td>...</td>\n",
       "      <td>...</td>\n",
       "      <td>...</td>\n",
       "      <td>...</td>\n",
       "      <td>...</td>\n",
       "      <td>...</td>\n",
       "      <td>...</td>\n",
       "      <td>...</td>\n",
       "      <td>...</td>\n",
       "      <td>...</td>\n",
       "      <td>...</td>\n",
       "      <td>...</td>\n",
       "    </tr>\n",
       "    <tr>\n",
       "      <th>512091</th>\n",
       "      <td>795000.0</td>\n",
       "      <td>3</td>\n",
       "      <td>3</td>\n",
       "      <td>0.06</td>\n",
       "      <td>1570.0</td>\n",
       "      <td>1998</td>\n",
       "      <td>0</td>\n",
       "      <td>0</td>\n",
       "      <td>1</td>\n",
       "      <td>0</td>\n",
       "      <td>0</td>\n",
       "      <td>0</td>\n",
       "      <td>0</td>\n",
       "      <td>0</td>\n",
       "      <td>0</td>\n",
       "      <td>1</td>\n",
       "      <td>0</td>\n",
       "      <td>0</td>\n",
       "    </tr>\n",
       "    <tr>\n",
       "      <th>512127</th>\n",
       "      <td>639000.0</td>\n",
       "      <td>4</td>\n",
       "      <td>2</td>\n",
       "      <td>0.07</td>\n",
       "      <td>1729.0</td>\n",
       "      <td>2018</td>\n",
       "      <td>0</td>\n",
       "      <td>0</td>\n",
       "      <td>1</td>\n",
       "      <td>0</td>\n",
       "      <td>0</td>\n",
       "      <td>0</td>\n",
       "      <td>0</td>\n",
       "      <td>0</td>\n",
       "      <td>0</td>\n",
       "      <td>1</td>\n",
       "      <td>0</td>\n",
       "      <td>0</td>\n",
       "    </tr>\n",
       "    <tr>\n",
       "      <th>512130</th>\n",
       "      <td>785000.0</td>\n",
       "      <td>3</td>\n",
       "      <td>3</td>\n",
       "      <td>0.11</td>\n",
       "      <td>1920.0</td>\n",
       "      <td>2004</td>\n",
       "      <td>1</td>\n",
       "      <td>0</td>\n",
       "      <td>0</td>\n",
       "      <td>0</td>\n",
       "      <td>0</td>\n",
       "      <td>0</td>\n",
       "      <td>0</td>\n",
       "      <td>0</td>\n",
       "      <td>0</td>\n",
       "      <td>1</td>\n",
       "      <td>0</td>\n",
       "      <td>0</td>\n",
       "    </tr>\n",
       "    <tr>\n",
       "      <th>512134</th>\n",
       "      <td>929000.0</td>\n",
       "      <td>3</td>\n",
       "      <td>3</td>\n",
       "      <td>0.06</td>\n",
       "      <td>1873.0</td>\n",
       "      <td>1990</td>\n",
       "      <td>0</td>\n",
       "      <td>0</td>\n",
       "      <td>1</td>\n",
       "      <td>0</td>\n",
       "      <td>0</td>\n",
       "      <td>0</td>\n",
       "      <td>0</td>\n",
       "      <td>0</td>\n",
       "      <td>0</td>\n",
       "      <td>1</td>\n",
       "      <td>0</td>\n",
       "      <td>0</td>\n",
       "    </tr>\n",
       "    <tr>\n",
       "      <th>512154</th>\n",
       "      <td>980000.0</td>\n",
       "      <td>3</td>\n",
       "      <td>2</td>\n",
       "      <td>0.05</td>\n",
       "      <td>1462.0</td>\n",
       "      <td>2001</td>\n",
       "      <td>0</td>\n",
       "      <td>0</td>\n",
       "      <td>0</td>\n",
       "      <td>1</td>\n",
       "      <td>0</td>\n",
       "      <td>0</td>\n",
       "      <td>0</td>\n",
       "      <td>0</td>\n",
       "      <td>0</td>\n",
       "      <td>1</td>\n",
       "      <td>0</td>\n",
       "      <td>0</td>\n",
       "    </tr>\n",
       "  </tbody>\n",
       "</table>\n",
       "<p>94977 rows × 18 columns</p>\n",
       "</div>"
      ],
      "text/plain": [
       "           price  bed  bath  acre_lot  house_size  sold_year  autumn  spring  \\\n",
       "24237   525000.0    3     3      0.45      2314.0       2014       0       0   \n",
       "24238   289900.0    3     2      0.36      1276.0       2012       1       0   \n",
       "24244   384900.0    3     2      0.46      1476.0       1986       1       0   \n",
       "24251   199999.0    3     2      1.76      1968.0       2008       0       0   \n",
       "24258   419000.0    4     2      2.00      1607.0       2005       0       0   \n",
       "...          ...  ...   ...       ...         ...        ...     ...     ...   \n",
       "512091  795000.0    3     3      0.06      1570.0       1998       0       0   \n",
       "512127  639000.0    4     2      0.07      1729.0       2018       0       0   \n",
       "512130  785000.0    3     3      0.11      1920.0       2004       1       0   \n",
       "512134  929000.0    3     3      0.06      1873.0       1990       0       0   \n",
       "512154  980000.0    3     2      0.05      1462.0       2001       0       0   \n",
       "\n",
       "        summer  winter  state_Connecticut  Maine  Massachusetts  \\\n",
       "24237        1       0                  0      0              1   \n",
       "24238        0       0                  0      0              1   \n",
       "24244        0       0                  0      0              1   \n",
       "24251        1       0                  0      0              1   \n",
       "24258        1       0                  0      0              1   \n",
       "...        ...     ...                ...    ...            ...   \n",
       "512091       1       0                  0      0              0   \n",
       "512127       1       0                  0      0              0   \n",
       "512130       0       0                  0      0              0   \n",
       "512134       1       0                  0      0              0   \n",
       "512154       0       1                  0      0              0   \n",
       "\n",
       "        N.Jersey and nearby  New Hampshire  New York  Rhode Island  Vermont  \n",
       "24237                     0              0         0             0        0  \n",
       "24238                     0              0         0             0        0  \n",
       "24244                     0              0         0             0        0  \n",
       "24251                     0              0         0             0        0  \n",
       "24258                     0              0         0             0        0  \n",
       "...                     ...            ...       ...           ...      ...  \n",
       "512091                    0              0         1             0        0  \n",
       "512127                    0              0         1             0        0  \n",
       "512130                    0              0         1             0        0  \n",
       "512134                    0              0         1             0        0  \n",
       "512154                    0              0         1             0        0  \n",
       "\n",
       "[94977 rows x 18 columns]"
      ]
     },
     "execution_count": 85,
     "metadata": {},
     "output_type": "execute_result"
    }
   ],
   "source": [
    "df_realtor"
   ]
  },
  {
   "cell_type": "markdown",
   "metadata": {},
   "source": [
    "### Separación e inspección de los datos "
   ]
  },
  {
   "cell_type": "code",
   "execution_count": 86,
   "metadata": {},
   "outputs": [],
   "source": [
    "X = df_realtor.drop('price', axis=1)\n",
    "\n",
    "y = df_realtor.price"
   ]
  },
  {
   "cell_type": "markdown",
   "metadata": {},
   "source": [
    "Como tarda mucho en generar el pairplot, vamos a guardarlo en imagen.  \n",
    "El código para generarlo sería:  \n",
    "sns.pairplot(X, diag_kind='kde');  \n",
    "![Output2](output2.png)"
   ]
  },
  {
   "cell_type": "code",
   "execution_count": 87,
   "metadata": {},
   "outputs": [],
   "source": [
    "# normalización\n",
    "\n",
    "X[X.columns] = StandardScaler().fit_transform(X)"
   ]
  },
  {
   "cell_type": "code",
   "execution_count": 88,
   "metadata": {},
   "outputs": [
    {
     "data": {
      "text/html": [
       "<div>\n",
       "<style scoped>\n",
       "    .dataframe tbody tr th:only-of-type {\n",
       "        vertical-align: middle;\n",
       "    }\n",
       "\n",
       "    .dataframe tbody tr th {\n",
       "        vertical-align: top;\n",
       "    }\n",
       "\n",
       "    .dataframe thead th {\n",
       "        text-align: right;\n",
       "    }\n",
       "</style>\n",
       "<table border=\"1\" class=\"dataframe\">\n",
       "  <thead>\n",
       "    <tr style=\"text-align: right;\">\n",
       "      <th></th>\n",
       "      <th>bed</th>\n",
       "      <th>bath</th>\n",
       "      <th>acre_lot</th>\n",
       "      <th>house_size</th>\n",
       "      <th>sold_year</th>\n",
       "      <th>autumn</th>\n",
       "      <th>spring</th>\n",
       "      <th>summer</th>\n",
       "      <th>winter</th>\n",
       "      <th>state_Connecticut</th>\n",
       "      <th>Maine</th>\n",
       "      <th>Massachusetts</th>\n",
       "      <th>N.Jersey and nearby</th>\n",
       "      <th>New Hampshire</th>\n",
       "      <th>New York</th>\n",
       "      <th>Rhode Island</th>\n",
       "      <th>Vermont</th>\n",
       "    </tr>\n",
       "  </thead>\n",
       "  <tbody>\n",
       "    <tr>\n",
       "      <th>24237</th>\n",
       "      <td>-0.323483</td>\n",
       "      <td>1.101561</td>\n",
       "      <td>-0.015077</td>\n",
       "      <td>0.949468</td>\n",
       "      <td>0.658837</td>\n",
       "      <td>-0.604351</td>\n",
       "      <td>-0.570246</td>\n",
       "      <td>1.538281</td>\n",
       "      <td>-0.484361</td>\n",
       "      <td>-0.738629</td>\n",
       "      <td>-0.178979</td>\n",
       "      <td>1.402039</td>\n",
       "      <td>-0.150807</td>\n",
       "      <td>-0.273521</td>\n",
       "      <td>-0.181841</td>\n",
       "      <td>-0.344671</td>\n",
       "      <td>-0.226378</td>\n",
       "    </tr>\n",
       "    <tr>\n",
       "      <th>24238</th>\n",
       "      <td>-0.323483</td>\n",
       "      <td>-0.156925</td>\n",
       "      <td>-0.214326</td>\n",
       "      <td>-0.699240</td>\n",
       "      <td>0.451339</td>\n",
       "      <td>1.654668</td>\n",
       "      <td>-0.570246</td>\n",
       "      <td>-0.650076</td>\n",
       "      <td>-0.484361</td>\n",
       "      <td>-0.738629</td>\n",
       "      <td>-0.178979</td>\n",
       "      <td>1.402039</td>\n",
       "      <td>-0.150807</td>\n",
       "      <td>-0.273521</td>\n",
       "      <td>-0.181841</td>\n",
       "      <td>-0.344671</td>\n",
       "      <td>-0.226378</td>\n",
       "    </tr>\n",
       "    <tr>\n",
       "      <th>24244</th>\n",
       "      <td>-0.323483</td>\n",
       "      <td>-0.156925</td>\n",
       "      <td>0.007062</td>\n",
       "      <td>-0.381570</td>\n",
       "      <td>-2.246136</td>\n",
       "      <td>1.654668</td>\n",
       "      <td>-0.570246</td>\n",
       "      <td>-0.650076</td>\n",
       "      <td>-0.484361</td>\n",
       "      <td>-0.738629</td>\n",
       "      <td>-0.178979</td>\n",
       "      <td>1.402039</td>\n",
       "      <td>-0.150807</td>\n",
       "      <td>-0.273521</td>\n",
       "      <td>-0.181841</td>\n",
       "      <td>-0.344671</td>\n",
       "      <td>-0.226378</td>\n",
       "    </tr>\n",
       "    <tr>\n",
       "      <th>24251</th>\n",
       "      <td>-0.323483</td>\n",
       "      <td>-0.156925</td>\n",
       "      <td>2.885111</td>\n",
       "      <td>0.399899</td>\n",
       "      <td>0.036343</td>\n",
       "      <td>-0.604351</td>\n",
       "      <td>-0.570246</td>\n",
       "      <td>1.538281</td>\n",
       "      <td>-0.484361</td>\n",
       "      <td>-0.738629</td>\n",
       "      <td>-0.178979</td>\n",
       "      <td>1.402039</td>\n",
       "      <td>-0.150807</td>\n",
       "      <td>-0.273521</td>\n",
       "      <td>-0.181841</td>\n",
       "      <td>-0.344671</td>\n",
       "      <td>-0.226378</td>\n",
       "    </tr>\n",
       "    <tr>\n",
       "      <th>24258</th>\n",
       "      <td>0.962823</td>\n",
       "      <td>-0.156925</td>\n",
       "      <td>3.416443</td>\n",
       "      <td>-0.173496</td>\n",
       "      <td>-0.274904</td>\n",
       "      <td>-0.604351</td>\n",
       "      <td>-0.570246</td>\n",
       "      <td>1.538281</td>\n",
       "      <td>-0.484361</td>\n",
       "      <td>-0.738629</td>\n",
       "      <td>-0.178979</td>\n",
       "      <td>1.402039</td>\n",
       "      <td>-0.150807</td>\n",
       "      <td>-0.273521</td>\n",
       "      <td>-0.181841</td>\n",
       "      <td>-0.344671</td>\n",
       "      <td>-0.226378</td>\n",
       "    </tr>\n",
       "  </tbody>\n",
       "</table>\n",
       "</div>"
      ],
      "text/plain": [
       "            bed      bath  acre_lot  house_size  sold_year    autumn  \\\n",
       "24237 -0.323483  1.101561 -0.015077    0.949468   0.658837 -0.604351   \n",
       "24238 -0.323483 -0.156925 -0.214326   -0.699240   0.451339  1.654668   \n",
       "24244 -0.323483 -0.156925  0.007062   -0.381570  -2.246136  1.654668   \n",
       "24251 -0.323483 -0.156925  2.885111    0.399899   0.036343 -0.604351   \n",
       "24258  0.962823 -0.156925  3.416443   -0.173496  -0.274904 -0.604351   \n",
       "\n",
       "         spring    summer    winter  state_Connecticut     Maine  \\\n",
       "24237 -0.570246  1.538281 -0.484361          -0.738629 -0.178979   \n",
       "24238 -0.570246 -0.650076 -0.484361          -0.738629 -0.178979   \n",
       "24244 -0.570246 -0.650076 -0.484361          -0.738629 -0.178979   \n",
       "24251 -0.570246  1.538281 -0.484361          -0.738629 -0.178979   \n",
       "24258 -0.570246  1.538281 -0.484361          -0.738629 -0.178979   \n",
       "\n",
       "       Massachusetts  N.Jersey and nearby  New Hampshire  New York  \\\n",
       "24237       1.402039            -0.150807      -0.273521 -0.181841   \n",
       "24238       1.402039            -0.150807      -0.273521 -0.181841   \n",
       "24244       1.402039            -0.150807      -0.273521 -0.181841   \n",
       "24251       1.402039            -0.150807      -0.273521 -0.181841   \n",
       "24258       1.402039            -0.150807      -0.273521 -0.181841   \n",
       "\n",
       "       Rhode Island   Vermont  \n",
       "24237     -0.344671 -0.226378  \n",
       "24238     -0.344671 -0.226378  \n",
       "24244     -0.344671 -0.226378  \n",
       "24251     -0.344671 -0.226378  \n",
       "24258     -0.344671 -0.226378  "
      ]
     },
     "execution_count": 88,
     "metadata": {},
     "output_type": "execute_result"
    }
   ],
   "source": [
    "X.head()"
   ]
  },
  {
   "cell_type": "code",
   "execution_count": 89,
   "metadata": {},
   "outputs": [],
   "source": [
    "# separacion en paquetes de entrenamiento y testeo\n",
    "\n",
    "X_train, X_test, y_train, y_test = tts(X, y)"
   ]
  },
  {
   "cell_type": "code",
   "execution_count": 90,
   "metadata": {},
   "outputs": [
    {
     "data": {
      "text/plain": [
       "((71232, 17), (23745, 17), (71232,), (23745,))"
      ]
     },
     "execution_count": 90,
     "metadata": {},
     "output_type": "execute_result"
    }
   ],
   "source": [
    "X_train.shape, X_test.shape, y_train.shape, y_test.shape"
   ]
  },
  {
   "cell_type": "markdown",
   "metadata": {},
   "source": [
    "### Modelo\n",
    "\n",
    "Construyamos nuestro modelo. Aquí, utilizaremos un modelo `secuencial` con dos capas ocultas densamente conectadas y una capa de salida que devuelve un único valor continuo. "
   ]
  },
  {
   "cell_type": "code",
   "execution_count": 91,
   "metadata": {},
   "outputs": [],
   "source": [
    "model = Sequential()\n",
    "\n",
    "model.add(Dense(64,  #64 neuronas\n",
    "                activation='relu',     #Función de activación, relu = unidad de rectificado lineal\n",
    "                input_shape=[X_train.shape[1]])) # lAS COLUMNas del df, 9 en este caso\n",
    "model.add(Dense(64, activation='relu')) \n",
    "\n",
    "model.add(Dense(1))\n",
    "\n",
    "\n",
    "\n",
    "optimizer = RMSprop(0.001)\n",
    "\n",
    "\n",
    "\n",
    "model.compile(loss='mse', optimizer='adam', metrics=['mae', 'mse'])  "
   ]
  },
  {
   "cell_type": "code",
   "execution_count": 92,
   "metadata": {},
   "outputs": [
    {
     "name": "stdout",
     "output_type": "stream",
     "text": [
      "Model: \"sequential\"\n",
      "_________________________________________________________________\n",
      " Layer (type)                Output Shape              Param #   \n",
      "=================================================================\n",
      " dense (Dense)               (None, 64)                1152      \n",
      "                                                                 \n",
      " dense_1 (Dense)             (None, 64)                4160      \n",
      "                                                                 \n",
      " dense_2 (Dense)             (None, 1)                 65        \n",
      "                                                                 \n",
      "=================================================================\n",
      "Total params: 5377 (21.00 KB)\n",
      "Trainable params: 5377 (21.00 KB)\n",
      "Non-trainable params: 0 (0.00 Byte)\n",
      "_________________________________________________________________\n"
     ]
    }
   ],
   "source": [
    "# inspeccion del modelo\n",
    "\n",
    "model.summary()"
   ]
  },
  {
   "cell_type": "markdown",
   "metadata": {},
   "source": [
    "**Entrenamiento**"
   ]
  },
  {
   "cell_type": "code",
   "execution_count": 93,
   "metadata": {},
   "outputs": [
    {
     "name": "stdout",
     "output_type": "stream",
     "text": [
      "Epoch 1/2\n",
      "1/1 [==============================] - 2s 2s/step - loss: 240276373504.0000 - mae: 443204.1875 - mse: 240276373504.0000\n",
      "Epoch 2/2\n",
      "1/1 [==============================] - 0s 10ms/step - loss: 240276291584.0000 - mae: 443204.0938 - mse: 240276291584.0000\n"
     ]
    },
    {
     "data": {
      "text/plain": [
       "<keras.src.callbacks.History at 0x26c319bfee0>"
      ]
     },
     "execution_count": 93,
     "metadata": {},
     "output_type": "execute_result"
    }
   ],
   "source": [
    "model.fit(X_train[:20], y_train[:20], epochs=2)"
   ]
  },
  {
   "cell_type": "code",
   "execution_count": 94,
   "metadata": {},
   "outputs": [],
   "source": [
    "class PrintDot(Callback):\n",
    "    \n",
    "  def on_epoch_end(self, epoch, logs):\n",
    "    if epoch % 100 == 0: \n",
    "        print('')\n",
    "    else:\n",
    "        print('.', end='')"
   ]
  },
  {
   "cell_type": "code",
   "execution_count": 95,
   "metadata": {},
   "outputs": [],
   "source": [
    "EPOCAS = 1000"
   ]
  },
  {
   "cell_type": "code",
   "execution_count": null,
   "metadata": {},
   "outputs": [
    {
     "name": "stdout",
     "output_type": "stream",
     "text": [
      "\n",
      "...................................................................................................\n",
      "...................................................................................................\n",
      "...................................................................................................\n",
      "...................................................................................................\n",
      "...................................................................................................\n",
      "...................................................................................................\n",
      "................................"
     ]
    }
   ],
   "source": [
    "history = model.fit(X_train, y_train,\n",
    "                    epochs=EPOCAS, \n",
    "                    validation_split = 0.2, \n",
    "                    verbose=0,\n",
    "                    callbacks=[PrintDot()])"
   ]
  },
  {
   "cell_type": "code",
   "execution_count": null,
   "metadata": {},
   "outputs": [],
   "source": [
    "history"
   ]
  },
  {
   "cell_type": "markdown",
   "metadata": {},
   "source": [
    "### Resultados"
   ]
  },
  {
   "cell_type": "code",
   "execution_count": null,
   "metadata": {},
   "outputs": [],
   "source": [
    "pd.DataFrame(history.history).head()"
   ]
  },
  {
   "cell_type": "code",
   "execution_count": null,
   "metadata": {},
   "outputs": [],
   "source": [
    "def plot_history(history):\n",
    "    hist = pd.DataFrame(history.history)\n",
    "    hist['epoch'] = history.epoch\n",
    "    \n",
    "    plt.figure()\n",
    "    plt.xlabel('Epoch')\n",
    "    plt.ylabel('Mean Abs Error [price]')\n",
    "    plt.plot(hist['epoch'], hist['mae'], label='Train Error')\n",
    "    plt.plot(hist['epoch'], hist['val_mae'], label = 'Val Error')\n",
    "    plt.ylim([130000,175000])\n",
    "    plt.legend()\n",
    "    \n",
    "    \n",
    "    plt.figure()\n",
    "    plt.xlabel('Epoch')\n",
    "    plt.ylabel('Mean Square Error [$price^2$]')\n",
    "    plt.plot(hist['epoch'], hist['mse'], label='Train Error')\n",
    "    plt.plot(hist['epoch'], hist['val_mse'], label = 'Val Error')\n",
    "    plt.ylim([37000000000,60000000000])\n",
    "    plt.legend()\n",
    "    \n",
    "    plt.show();"
   ]
  },
  {
   "cell_type": "code",
   "execution_count": null,
   "metadata": {},
   "outputs": [],
   "source": [
    "plot_history(history)"
   ]
  },
  {
   "cell_type": "markdown",
   "metadata": {},
   "source": [
    "Este gráfico ha salido mejor que el gráfico de clase en cuanto al el error de validación. No obstante se observa que después de 700 épocas, el error de validación comienza a degradarse. \n",
    "\n",
    "Vamos a hacer lo que hemos visto en clase.\n",
    "Actualicemos la llamada `model.fit` para detener automáticamente el entrenamiento cuando el puntaje de validación no mejore. Utilizaremos una * devolución de llamada de EarlyStopping * que pruebe una condición de entrenamiento para cada época. "
   ]
  },
  {
   "cell_type": "code",
   "execution_count": null,
   "metadata": {},
   "outputs": [],
   "source": [
    "model = Sequential()\n",
    "\n",
    "model.add(Dense(64, activation='relu', input_shape=[X_train.shape[1]]))\n",
    "\n",
    "model.add(Dense(64, activation='relu'))\n",
    "\n",
    "model.add(Dense(1))\n",
    "\n",
    "\n",
    "optimizer = RMSprop(0.001)\n",
    "\n",
    "\n",
    "model.compile(loss='mse', optimizer=optimizer, metrics=['mae', 'mse'])  "
   ]
  },
  {
   "cell_type": "code",
   "execution_count": null,
   "metadata": {},
   "outputs": [],
   "source": [
    "early_stop = EarlyStopping(monitor='val_loss', patience=10)"
   ]
  },
  {
   "cell_type": "code",
   "execution_count": null,
   "metadata": {},
   "outputs": [],
   "source": [
    "history = model.fit(X_train, y_train,\n",
    "                    epochs=EPOCAS, \n",
    "                    validation_split = 0.2, \n",
    "                    verbose=0,\n",
    "                    callbacks=[early_stop, PrintDot()])"
   ]
  },
  {
   "cell_type": "code",
   "execution_count": null,
   "metadata": {},
   "outputs": [],
   "source": [
    "plot_history(history)"
   ]
  },
  {
   "cell_type": "code",
   "execution_count": null,
   "metadata": {},
   "outputs": [],
   "source": []
  },
  {
   "cell_type": "markdown",
   "metadata": {},
   "source": [
    "A raíz de los gráficos, vemos que se ha mejorado un poco, Al haber menos épocas el error de validación no ha ido degradándose.\n",
    "\n",
    "Veamos qué tan bien generaliza el modelo al usar el conjunto de testeo, que no usamos al entrenar el modelo. Esto nos dice qué tan bien podemos esperar que el modelo prediga cuándo lo usamos en el mundo real."
   ]
  },
  {
   "cell_type": "markdown",
   "metadata": {},
   "source": [
    "### Predicciones"
   ]
  },
  {
   "cell_type": "code",
   "execution_count": null,
   "metadata": {},
   "outputs": [],
   "source": [
    "y_pred = model.predict(X_test).flatten()"
   ]
  },
  {
   "cell_type": "code",
   "execution_count": null,
   "metadata": {},
   "outputs": [],
   "source": [
    "y_pred[:10]"
   ]
  },
  {
   "cell_type": "code",
   "execution_count": null,
   "metadata": {},
   "outputs": [],
   "source": [
    "plt.scatter(y_test, y_pred)\n",
    "\n",
    "plt.xlabel('True Values [price]')\n",
    "plt.ylabel('Predictions [price]')\n",
    "\n",
    "plt.axis('equal')\n",
    "plt.axis('square')\n",
    "\n",
    "plt.xlim([0, plt.xlim()[1]])\n",
    "plt.ylim([0, plt.ylim()[1]])\n",
    "\n",
    "_ = plt.plot([-100, 100], [-100, 100])"
   ]
  },
  {
   "cell_type": "code",
   "execution_count": null,
   "metadata": {},
   "outputs": [],
   "source": [
    "loss, mae, mse = model.evaluate(X_test, y_test, verbose=1)\n",
    "\n",
    "print('Testing MAE: {:5.2f} Price'.format(mae))\n",
    "print('Testing RMSE: {:5.2f} Price'.format(mse**0.5))"
   ]
  },
  {
   "cell_type": "markdown",
   "metadata": {},
   "source": [
    "Parece ser que el modelo no es muy bueno. Analicemos las métricas:  \n",
    "- loss: 40532807680.0000 - Esta es la función de pérdida (o error) que el modelo ha obtenido en el conjunto de datos de prueba. \n",
    "    Mide la discrepancia entre las predicciones del modelo y los valores reales. En este caso, el valor es bastante grande. \n",
    "    Al estár prediciendo precios en el rango de millones, este error podría ser razonable. \n",
    "- mse: 40532807680.0000 - MSE significa Error Cuadrático Medio. Esta métrica es similar a la función de pérdida.  \n",
    "  El MSE penaliza los errores grandes más que el MAE, porque los errores se elevan al cuadrado antes de calcular el promedio.\n",
    "- Testing MAE: 142789.27 Price MAE significa Error Absoluto Medio. Otra métrica que se utiliza para cuantificar cuán lejos  \n",
    "  están las predicciones del modelo de los valores verdaderos. En este caso, en promedio, laspredicciones se desvían en    142789.27 de los valores reales\n",
    "- Testing RMSE: 201327.61 Price - RMSE es la raíz cuadrada del Error Cuadrático Medio. Esta métrica es útil porque tiene las  \n",
    "  mismas unidades que la variable que se está predicioendo, lo que a veces la hace más interpretable que el MSE.  \n",
    "\n",
    "Estas métricas sugieren que hay margen para mejorar el modelo. Para mejorarlo, podríamos sólo haber tomado los datos de las viviendas que realmente se han vendido y haber recortado atípicos en lugar de ajustar.  \n",
    "En resumen, parece que hemos incluido datos que aportan más bien poco."
   ]
  },
  {
   "cell_type": "code",
   "execution_count": null,
   "metadata": {},
   "outputs": [],
   "source": [
    "y.mean(), y.std()"
   ]
  },
  {
   "cell_type": "code",
   "execution_count": null,
   "metadata": {},
   "outputs": [],
   "source": [
    "error = y_pred - y_test\n",
    "\n",
    "plt.hist(error, bins = 25)\n",
    "\n",
    "plt.xlabel('Prediction Error [MPG]')\n",
    "_ = plt.ylabel('Count')"
   ]
  },
  {
   "cell_type": "markdown",
   "metadata": {},
   "source": [
    "No es del todo gaussiano, pero se aproxima bastante"
   ]
  },
  {
   "cell_type": "markdown",
   "metadata": {},
   "source": [
    "## Conclusion\n",
    "\n",
    "Este cuaderno introdujo algunas técnicas para manejar un problema de regresión.\n",
    "\n",
    "* El error cuadrático medio (MSE) es una función de pérdida común utilizada para problemas de regresión (se utilizan diferentes funciones de pérdida para problemas de clasificación).\n",
    "* Del mismo modo, las métricas de evaluación utilizadas para la regresión difieren de la clasificación. Una métrica de regresión común es el error absoluto medio (MAE).\n",
    "* Cuando las características de datos de entrada numéricos tienen valores con diferentes rangos, cada característica debe escalarse independientemente al mismo rango."
   ]
  },
  {
   "cell_type": "code",
   "execution_count": null,
   "metadata": {},
   "outputs": [],
   "source": []
  }
 ],
 "metadata": {
  "kernelspec": {
   "display_name": "Python 3 (ipykernel)",
   "language": "python",
   "name": "python3"
  },
  "language_info": {
   "codemirror_mode": {
    "name": "ipython",
    "version": 3
   },
   "file_extension": ".py",
   "mimetype": "text/x-python",
   "name": "python",
   "nbconvert_exporter": "python",
   "pygments_lexer": "ipython3",
   "version": "3.10.9"
  }
 },
 "nbformat": 4,
 "nbformat_minor": 2
}
