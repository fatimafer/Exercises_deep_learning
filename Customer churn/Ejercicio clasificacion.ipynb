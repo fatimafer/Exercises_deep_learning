{
 "cells": [
  {
   "cell_type": "code",
   "execution_count": 1,
   "id": "920a8b2a",
   "metadata": {},
   "outputs": [],
   "source": [
    "# librerias\n",
    "\n",
    "import warnings\n",
    "warnings.filterwarnings('ignore')\n",
    "\n",
    "import pandas as pd\n",
    "import seaborn as sns\n",
    "import matplotlib.pyplot as plt\n",
    "from datetime import date, time, datetime, timedelta\n",
    "import numpy as np\n",
    "\n",
    "from keras import Sequential, Input\n",
    "from keras.layers import Flatten, Dense\n",
    "\n",
    "import numpy as np\n",
    "\n",
    "import pylab as plt\n",
    "import seaborn as sns\n",
    "\n",
    "from sklearn.model_selection import train_test_split as tts\n",
    "from sklearn.preprocessing import StandardScaler\n",
    "\n",
    "from sklearn.metrics import confusion_matrix as cm\n",
    "from sklearn.metrics import classification_report as report"
   ]
  },
  {
   "cell_type": "markdown",
   "id": "b44c512a",
   "metadata": {},
   "source": [
    "# Objetivo del análisis  \n",
    "El objetivo de este análisis es predecir la tasa de abandono de los clientes de una determinada compañía (Churn).\n",
    "- Tenemos que predecir si un cliente, según sus características abandonará la compañía (Churn = 1)\n",
    "- O por el contrario, permanecerá (Churn = 0)"
   ]
  },
  {
   "cell_type": "code",
   "execution_count": 2,
   "id": "37e2fc64",
   "metadata": {},
   "outputs": [],
   "source": [
    "label_names = {0: 'Not churn', \n",
    "               1: 'churn'}"
   ]
  },
  {
   "cell_type": "markdown",
   "id": "90c805fb",
   "metadata": {},
   "source": [
    "Cargamos los datos de entrenamiento"
   ]
  },
  {
   "cell_type": "code",
   "execution_count": 3,
   "id": "3f6380e7",
   "metadata": {},
   "outputs": [],
   "source": [
    "df_training = pd.read_csv('customer_churn_dataset-training-master.csv')"
   ]
  },
  {
   "cell_type": "markdown",
   "id": "ce319f3c",
   "metadata": {},
   "source": [
    "Comprobamos si hay nulos"
   ]
  },
  {
   "cell_type": "code",
   "execution_count": 4,
   "id": "ff7eb7a0",
   "metadata": {},
   "outputs": [
    {
     "data": {
      "text/plain": [
       "CustomerID           1\n",
       "Age                  1\n",
       "Gender               1\n",
       "Tenure               1\n",
       "Usage Frequency      1\n",
       "Support Calls        1\n",
       "Payment Delay        1\n",
       "Subscription Type    1\n",
       "Contract Length      1\n",
       "Total Spend          1\n",
       "Last Interaction     1\n",
       "Churn                1\n",
       "dtype: int64"
      ]
     },
     "execution_count": 4,
     "metadata": {},
     "output_type": "execute_result"
    }
   ],
   "source": [
    "df_training.isna().sum()"
   ]
  },
  {
   "cell_type": "markdown",
   "id": "c322dd2e",
   "metadata": {},
   "source": [
    "Borramos los nulos"
   ]
  },
  {
   "cell_type": "code",
   "execution_count": 5,
   "id": "84e21bad",
   "metadata": {},
   "outputs": [],
   "source": [
    "df_training.dropna(inplace=True)"
   ]
  },
  {
   "cell_type": "markdown",
   "id": "1949ce98",
   "metadata": {},
   "source": [
    "Hacemos que la columna Customer ID sea el índice"
   ]
  },
  {
   "cell_type": "code",
   "execution_count": 6,
   "id": "31055ebc",
   "metadata": {},
   "outputs": [],
   "source": [
    "df_training['CustomerID'] = df_training['CustomerID'].astype(int)\n",
    "df_training.set_index('CustomerID', inplace=True)"
   ]
  },
  {
   "cell_type": "code",
   "execution_count": 7,
   "id": "58e1a7dc",
   "metadata": {
    "scrolled": true
   },
   "outputs": [
    {
     "data": {
      "text/html": [
       "<div>\n",
       "<style scoped>\n",
       "    .dataframe tbody tr th:only-of-type {\n",
       "        vertical-align: middle;\n",
       "    }\n",
       "\n",
       "    .dataframe tbody tr th {\n",
       "        vertical-align: top;\n",
       "    }\n",
       "\n",
       "    .dataframe thead th {\n",
       "        text-align: right;\n",
       "    }\n",
       "</style>\n",
       "<table border=\"1\" class=\"dataframe\">\n",
       "  <thead>\n",
       "    <tr style=\"text-align: right;\">\n",
       "      <th></th>\n",
       "      <th>Age</th>\n",
       "      <th>Gender</th>\n",
       "      <th>Tenure</th>\n",
       "      <th>Usage Frequency</th>\n",
       "      <th>Support Calls</th>\n",
       "      <th>Payment Delay</th>\n",
       "      <th>Subscription Type</th>\n",
       "      <th>Contract Length</th>\n",
       "      <th>Total Spend</th>\n",
       "      <th>Last Interaction</th>\n",
       "      <th>Churn</th>\n",
       "    </tr>\n",
       "    <tr>\n",
       "      <th>CustomerID</th>\n",
       "      <th></th>\n",
       "      <th></th>\n",
       "      <th></th>\n",
       "      <th></th>\n",
       "      <th></th>\n",
       "      <th></th>\n",
       "      <th></th>\n",
       "      <th></th>\n",
       "      <th></th>\n",
       "      <th></th>\n",
       "      <th></th>\n",
       "    </tr>\n",
       "  </thead>\n",
       "  <tbody>\n",
       "    <tr>\n",
       "      <th>2</th>\n",
       "      <td>30.0</td>\n",
       "      <td>Female</td>\n",
       "      <td>39.0</td>\n",
       "      <td>14.0</td>\n",
       "      <td>5.0</td>\n",
       "      <td>18.0</td>\n",
       "      <td>Standard</td>\n",
       "      <td>Annual</td>\n",
       "      <td>932.0</td>\n",
       "      <td>17.0</td>\n",
       "      <td>1.0</td>\n",
       "    </tr>\n",
       "    <tr>\n",
       "      <th>3</th>\n",
       "      <td>65.0</td>\n",
       "      <td>Female</td>\n",
       "      <td>49.0</td>\n",
       "      <td>1.0</td>\n",
       "      <td>10.0</td>\n",
       "      <td>8.0</td>\n",
       "      <td>Basic</td>\n",
       "      <td>Monthly</td>\n",
       "      <td>557.0</td>\n",
       "      <td>6.0</td>\n",
       "      <td>1.0</td>\n",
       "    </tr>\n",
       "    <tr>\n",
       "      <th>4</th>\n",
       "      <td>55.0</td>\n",
       "      <td>Female</td>\n",
       "      <td>14.0</td>\n",
       "      <td>4.0</td>\n",
       "      <td>6.0</td>\n",
       "      <td>18.0</td>\n",
       "      <td>Basic</td>\n",
       "      <td>Quarterly</td>\n",
       "      <td>185.0</td>\n",
       "      <td>3.0</td>\n",
       "      <td>1.0</td>\n",
       "    </tr>\n",
       "    <tr>\n",
       "      <th>5</th>\n",
       "      <td>58.0</td>\n",
       "      <td>Male</td>\n",
       "      <td>38.0</td>\n",
       "      <td>21.0</td>\n",
       "      <td>7.0</td>\n",
       "      <td>7.0</td>\n",
       "      <td>Standard</td>\n",
       "      <td>Monthly</td>\n",
       "      <td>396.0</td>\n",
       "      <td>29.0</td>\n",
       "      <td>1.0</td>\n",
       "    </tr>\n",
       "    <tr>\n",
       "      <th>6</th>\n",
       "      <td>23.0</td>\n",
       "      <td>Male</td>\n",
       "      <td>32.0</td>\n",
       "      <td>20.0</td>\n",
       "      <td>5.0</td>\n",
       "      <td>8.0</td>\n",
       "      <td>Basic</td>\n",
       "      <td>Monthly</td>\n",
       "      <td>617.0</td>\n",
       "      <td>20.0</td>\n",
       "      <td>1.0</td>\n",
       "    </tr>\n",
       "  </tbody>\n",
       "</table>\n",
       "</div>"
      ],
      "text/plain": [
       "             Age  Gender  Tenure  Usage Frequency  Support Calls  \\\n",
       "CustomerID                                                         \n",
       "2           30.0  Female    39.0             14.0            5.0   \n",
       "3           65.0  Female    49.0              1.0           10.0   \n",
       "4           55.0  Female    14.0              4.0            6.0   \n",
       "5           58.0    Male    38.0             21.0            7.0   \n",
       "6           23.0    Male    32.0             20.0            5.0   \n",
       "\n",
       "            Payment Delay Subscription Type Contract Length  Total Spend  \\\n",
       "CustomerID                                                                 \n",
       "2                    18.0          Standard          Annual        932.0   \n",
       "3                     8.0             Basic         Monthly        557.0   \n",
       "4                    18.0             Basic       Quarterly        185.0   \n",
       "5                     7.0          Standard         Monthly        396.0   \n",
       "6                     8.0             Basic         Monthly        617.0   \n",
       "\n",
       "            Last Interaction  Churn  \n",
       "CustomerID                           \n",
       "2                       17.0    1.0  \n",
       "3                        6.0    1.0  \n",
       "4                        3.0    1.0  \n",
       "5                       29.0    1.0  \n",
       "6                       20.0    1.0  "
      ]
     },
     "execution_count": 7,
     "metadata": {},
     "output_type": "execute_result"
    }
   ],
   "source": [
    "df_training.head()"
   ]
  },
  {
   "cell_type": "code",
   "execution_count": 8,
   "id": "21f80436",
   "metadata": {
    "scrolled": true
   },
   "outputs": [
    {
     "name": "stdout",
     "output_type": "stream",
     "text": [
      "<class 'pandas.core.frame.DataFrame'>\n",
      "Int64Index: 440832 entries, 2 to 449999\n",
      "Data columns (total 11 columns):\n",
      " #   Column             Non-Null Count   Dtype  \n",
      "---  ------             --------------   -----  \n",
      " 0   Age                440832 non-null  float64\n",
      " 1   Gender             440832 non-null  object \n",
      " 2   Tenure             440832 non-null  float64\n",
      " 3   Usage Frequency    440832 non-null  float64\n",
      " 4   Support Calls      440832 non-null  float64\n",
      " 5   Payment Delay      440832 non-null  float64\n",
      " 6   Subscription Type  440832 non-null  object \n",
      " 7   Contract Length    440832 non-null  object \n",
      " 8   Total Spend        440832 non-null  float64\n",
      " 9   Last Interaction   440832 non-null  float64\n",
      " 10  Churn              440832 non-null  float64\n",
      "dtypes: float64(8), object(3)\n",
      "memory usage: 40.4+ MB\n"
     ]
    }
   ],
   "source": [
    "df_training.info()"
   ]
  },
  {
   "cell_type": "markdown",
   "id": "235d45a9",
   "metadata": {},
   "source": [
    "Convertimos las variables float a enteros porque todas son enteras"
   ]
  },
  {
   "cell_type": "code",
   "execution_count": 9,
   "id": "a25870cd",
   "metadata": {},
   "outputs": [],
   "source": [
    "df_training['Age'] = df_training['Age'].astype(int)\n",
    "df_training['Tenure'] = df_training['Tenure'].astype(int)\n",
    "df_training['Usage Frequency'] = df_training['Usage Frequency'].astype(int)\n",
    "df_training['Support Calls'] = df_training['Support Calls'].astype(int)\n",
    "df_training['Payment Delay'] = df_training['Payment Delay'].astype(int)\n",
    "df_training['Total Spend'] = df_training['Total Spend'].astype(int)\n",
    "df_training['Last Interaction'] = df_training['Last Interaction'].astype(int)\n",
    "df_training['Churn'] = df_training['Churn'].astype(int)"
   ]
  },
  {
   "cell_type": "markdown",
   "id": "87b55c82",
   "metadata": {},
   "source": [
    "Cambiamos los nombres de las variables Usage Frequency, Support Calls, Payment Delay, Subscription Type,  \n",
    "Contract Length, Total Spend y Last Interaction"
   ]
  },
  {
   "cell_type": "code",
   "execution_count": 10,
   "id": "4e1c12fa",
   "metadata": {},
   "outputs": [],
   "source": [
    "df_training.rename(columns = {'Usage Frequency':'Usage_Frequency', 'Support Calls':'Support_Calls', 'Payment Delay':'Payment_Delay', 'Subscription Type':'Subscription_Type', 'Contract Length':'Contract_Length', 'Total Spend':'Total_Spend', 'Last Interaction':'Last_Interaction'}, inplace=True)"
   ]
  },
  {
   "cell_type": "markdown",
   "id": "9c7527aa",
   "metadata": {},
   "source": [
    "Vamos a observar las variables categóricas que nos quedan"
   ]
  },
  {
   "cell_type": "code",
   "execution_count": 11,
   "id": "83755a7c",
   "metadata": {
    "scrolled": true
   },
   "outputs": [
    {
     "data": {
      "image/png": "[encoded data removed]",
      "text/plain": [
       "<Figure size 500x1500 with 3 Axes>"
      ]
     },
     "metadata": {},
     "output_type": "display_data"
    }
   ],
   "source": [
    "fig, ax = plt.subplots(nrows=3, ncols=1, figsize=(5,15))\n",
    "fig.subplots_adjust(hspace=0.5)\n",
    "\n",
    "for i, col in enumerate(['Gender','Subscription_Type','Contract_Length']):\n",
    "  sns.countplot(x=col, data=df_training, ax=ax[i])\n",
    "  ax[i].set_xticklabels(ax[i].get_xticklabels(), rotation=90)"
   ]
  },
  {
   "cell_type": "markdown",
   "id": "3ef2d946",
   "metadata": {},
   "source": [
    "Vamos a cambiar Contract_Length a numérica que indique los días de contrato en meses\n",
    "- 12 si es un año\n",
    "- 3 si es 1/4 de año\n",
    "- 1 si es un mes"
   ]
  },
  {
   "cell_type": "code",
   "execution_count": 12,
   "id": "79656182",
   "metadata": {},
   "outputs": [],
   "source": [
    "def agrupacion(x):\n",
    "    if x == 'Annual':\n",
    "        return 12\n",
    "    elif x == 'Quarterly':\n",
    "        return 3\n",
    "    elif x == 'Monthly':\n",
    "        return 1\n",
    "    else:\n",
    "        return x\n",
    "df_training['Contract_Length']=df_training['Contract_Length'].apply(agrupacion)"
   ]
  },
  {
   "cell_type": "markdown",
   "id": "74e69c0c",
   "metadata": {},
   "source": [
    "Vamos a cambiar Subcription_Type a numérica de tal manera que tenga un valor más alto si la suscripción es Premium\n",
    "- 3 si es un Premium\n",
    "- 2 si es Estándar\n",
    "- 1 si es Basic"
   ]
  },
  {
   "cell_type": "code",
   "execution_count": 13,
   "id": "d98c4284",
   "metadata": {},
   "outputs": [],
   "source": [
    "def agrupacion(x):\n",
    "    if x == 'Premium':\n",
    "        return 3\n",
    "    elif x == 'Standard':\n",
    "        return 2\n",
    "    elif x == 'Basic':\n",
    "        return 1\n",
    "    else:\n",
    "        return x\n",
    "df_training['Subscription_Type']=df_training['Subscription_Type'].apply(agrupacion)"
   ]
  },
  {
   "cell_type": "markdown",
   "id": "a55a6b00",
   "metadata": {},
   "source": [
    "Convertimos la variable género a dummies"
   ]
  },
  {
   "cell_type": "code",
   "execution_count": 14,
   "id": "0392f8b4",
   "metadata": {},
   "outputs": [],
   "source": [
    "df_training = pd.get_dummies(df_training, columns=['Gender'])"
   ]
  },
  {
   "cell_type": "markdown",
   "id": "59962a39",
   "metadata": {},
   "source": [
    "Mantenemos la columna Gender_Male"
   ]
  },
  {
   "cell_type": "code",
   "execution_count": 15,
   "id": "5877fb33",
   "metadata": {},
   "outputs": [],
   "source": [
    "df_training.drop('Gender_Female', axis=1, inplace=True)"
   ]
  },
  {
   "cell_type": "code",
   "execution_count": 16,
   "id": "977ac756",
   "metadata": {
    "scrolled": true
   },
   "outputs": [
    {
     "data": {
      "text/html": [
       "<div>\n",
       "<style scoped>\n",
       "    .dataframe tbody tr th:only-of-type {\n",
       "        vertical-align: middle;\n",
       "    }\n",
       "\n",
       "    .dataframe tbody tr th {\n",
       "        vertical-align: top;\n",
       "    }\n",
       "\n",
       "    .dataframe thead th {\n",
       "        text-align: right;\n",
       "    }\n",
       "</style>\n",
       "<table border=\"1\" class=\"dataframe\">\n",
       "  <thead>\n",
       "    <tr style=\"text-align: right;\">\n",
       "      <th></th>\n",
       "      <th>Age</th>\n",
       "      <th>Tenure</th>\n",
       "      <th>Usage_Frequency</th>\n",
       "      <th>Support_Calls</th>\n",
       "      <th>Payment_Delay</th>\n",
       "      <th>Subscription_Type</th>\n",
       "      <th>Contract_Length</th>\n",
       "      <th>Total_Spend</th>\n",
       "      <th>Last_Interaction</th>\n",
       "      <th>Churn</th>\n",
       "      <th>Gender_Male</th>\n",
       "    </tr>\n",
       "    <tr>\n",
       "      <th>CustomerID</th>\n",
       "      <th></th>\n",
       "      <th></th>\n",
       "      <th></th>\n",
       "      <th></th>\n",
       "      <th></th>\n",
       "      <th></th>\n",
       "      <th></th>\n",
       "      <th></th>\n",
       "      <th></th>\n",
       "      <th></th>\n",
       "      <th></th>\n",
       "    </tr>\n",
       "  </thead>\n",
       "  <tbody>\n",
       "    <tr>\n",
       "      <th>2</th>\n",
       "      <td>30</td>\n",
       "      <td>39</td>\n",
       "      <td>14</td>\n",
       "      <td>5</td>\n",
       "      <td>18</td>\n",
       "      <td>2</td>\n",
       "      <td>12</td>\n",
       "      <td>932</td>\n",
       "      <td>17</td>\n",
       "      <td>1</td>\n",
       "      <td>0</td>\n",
       "    </tr>\n",
       "    <tr>\n",
       "      <th>3</th>\n",
       "      <td>65</td>\n",
       "      <td>49</td>\n",
       "      <td>1</td>\n",
       "      <td>10</td>\n",
       "      <td>8</td>\n",
       "      <td>1</td>\n",
       "      <td>1</td>\n",
       "      <td>557</td>\n",
       "      <td>6</td>\n",
       "      <td>1</td>\n",
       "      <td>0</td>\n",
       "    </tr>\n",
       "    <tr>\n",
       "      <th>4</th>\n",
       "      <td>55</td>\n",
       "      <td>14</td>\n",
       "      <td>4</td>\n",
       "      <td>6</td>\n",
       "      <td>18</td>\n",
       "      <td>1</td>\n",
       "      <td>3</td>\n",
       "      <td>185</td>\n",
       "      <td>3</td>\n",
       "      <td>1</td>\n",
       "      <td>0</td>\n",
       "    </tr>\n",
       "    <tr>\n",
       "      <th>5</th>\n",
       "      <td>58</td>\n",
       "      <td>38</td>\n",
       "      <td>21</td>\n",
       "      <td>7</td>\n",
       "      <td>7</td>\n",
       "      <td>2</td>\n",
       "      <td>1</td>\n",
       "      <td>396</td>\n",
       "      <td>29</td>\n",
       "      <td>1</td>\n",
       "      <td>1</td>\n",
       "    </tr>\n",
       "    <tr>\n",
       "      <th>6</th>\n",
       "      <td>23</td>\n",
       "      <td>32</td>\n",
       "      <td>20</td>\n",
       "      <td>5</td>\n",
       "      <td>8</td>\n",
       "      <td>1</td>\n",
       "      <td>1</td>\n",
       "      <td>617</td>\n",
       "      <td>20</td>\n",
       "      <td>1</td>\n",
       "      <td>1</td>\n",
       "    </tr>\n",
       "  </tbody>\n",
       "</table>\n",
       "</div>"
      ],
      "text/plain": [
       "            Age  Tenure  Usage_Frequency  Support_Calls  Payment_Delay  \\\n",
       "CustomerID                                                               \n",
       "2            30      39               14              5             18   \n",
       "3            65      49                1             10              8   \n",
       "4            55      14                4              6             18   \n",
       "5            58      38               21              7              7   \n",
       "6            23      32               20              5              8   \n",
       "\n",
       "            Subscription_Type  Contract_Length  Total_Spend  Last_Interaction  \\\n",
       "CustomerID                                                                      \n",
       "2                           2               12          932                17   \n",
       "3                           1                1          557                 6   \n",
       "4                           1                3          185                 3   \n",
       "5                           2                1          396                29   \n",
       "6                           1                1          617                20   \n",
       "\n",
       "            Churn  Gender_Male  \n",
       "CustomerID                      \n",
       "2               1            0  \n",
       "3               1            0  \n",
       "4               1            0  \n",
       "5               1            1  \n",
       "6               1            1  "
      ]
     },
     "execution_count": 16,
     "metadata": {},
     "output_type": "execute_result"
    }
   ],
   "source": [
    "df_training.head()"
   ]
  },
  {
   "cell_type": "code",
   "execution_count": 17,
   "id": "0a65fb5d",
   "metadata": {},
   "outputs": [
    {
     "name": "stdout",
     "output_type": "stream",
     "text": [
      "<class 'pandas.core.frame.DataFrame'>\n",
      "Int64Index: 440832 entries, 2 to 449999\n",
      "Data columns (total 11 columns):\n",
      " #   Column             Non-Null Count   Dtype\n",
      "---  ------             --------------   -----\n",
      " 0   Age                440832 non-null  int32\n",
      " 1   Tenure             440832 non-null  int32\n",
      " 2   Usage_Frequency    440832 non-null  int32\n",
      " 3   Support_Calls      440832 non-null  int32\n",
      " 4   Payment_Delay      440832 non-null  int32\n",
      " 5   Subscription_Type  440832 non-null  int64\n",
      " 6   Contract_Length    440832 non-null  int64\n",
      " 7   Total_Spend        440832 non-null  int32\n",
      " 8   Last_Interaction   440832 non-null  int32\n",
      " 9   Churn              440832 non-null  int32\n",
      " 10  Gender_Male        440832 non-null  uint8\n",
      "dtypes: int32(8), int64(2), uint8(1)\n",
      "memory usage: 24.0 MB\n"
     ]
    }
   ],
   "source": [
    "df_training.info()"
   ]
  },
  {
   "cell_type": "markdown",
   "id": "f7489a0d",
   "metadata": {},
   "source": [
    "Examinamos los atípicos"
   ]
  },
  {
   "cell_type": "code",
   "execution_count": 18,
   "id": "467e3f60",
   "metadata": {
    "scrolled": true
   },
   "outputs": [
    {
     "data": {
      "image/png": "[encoded data removed]",
      "text/plain": [
       "<Figure size 1600x2000 with 9 Axes>"
      ]
     },
     "metadata": {},
     "output_type": "display_data"
    }
   ],
   "source": [
    "fig, ax = plt.subplots(nrows=9, ncols=1, figsize=(16,20))\n",
    "fig.subplots_adjust(hspace=1)\n",
    "for i, col in enumerate(['Age', 'Tenure', 'Usage_Frequency', 'Support_Calls',\n",
    "       'Payment_Delay', 'Contract_Length', 'Total_Spend',\n",
    "       'Last_Interaction', 'Churn']):\n",
    "    sns.boxplot(x=col, data=df_training, ax=ax[i])\n",
    "    ax[i].xaxis.set_major_locator(plt.MaxNLocator(nbins=10)) "
   ]
  },
  {
   "cell_type": "markdown",
   "id": "5b845482",
   "metadata": {},
   "source": [
    "No hay atípicos, así que la limpieza está finalizada"
   ]
  },
  {
   "cell_type": "markdown",
   "id": "d459a5f8",
   "metadata": {},
   "source": [
    "Cargamos el dataset de test"
   ]
  },
  {
   "cell_type": "code",
   "execution_count": 19,
   "id": "1d3fa131",
   "metadata": {},
   "outputs": [],
   "source": [
    "df_testing = pd.read_csv('customer_churn_dataset-testing-master.csv')"
   ]
  },
  {
   "cell_type": "markdown",
   "id": "b12e6dc4",
   "metadata": {},
   "source": [
    "Comprobamos si hay nulos"
   ]
  },
  {
   "cell_type": "code",
   "execution_count": 20,
   "id": "acf4daaa",
   "metadata": {
    "scrolled": true
   },
   "outputs": [
    {
     "data": {
      "text/plain": [
       "CustomerID           0\n",
       "Age                  0\n",
       "Gender               0\n",
       "Tenure               0\n",
       "Usage Frequency      0\n",
       "Support Calls        0\n",
       "Payment Delay        0\n",
       "Subscription Type    0\n",
       "Contract Length      0\n",
       "Total Spend          0\n",
       "Last Interaction     0\n",
       "Churn                0\n",
       "dtype: int64"
      ]
     },
     "execution_count": 20,
     "metadata": {},
     "output_type": "execute_result"
    }
   ],
   "source": [
    "df_testing.isna().sum()"
   ]
  },
  {
   "cell_type": "markdown",
   "id": "f295f96f",
   "metadata": {},
   "source": [
    "Hacemos que customerID sea la columna índice"
   ]
  },
  {
   "cell_type": "code",
   "execution_count": 21,
   "id": "3fa3fc9f",
   "metadata": {},
   "outputs": [],
   "source": [
    "df_testing['CustomerID'] = df_testing['CustomerID'].astype(int)\n",
    "df_testing.set_index('CustomerID', inplace=True)"
   ]
  },
  {
   "cell_type": "code",
   "execution_count": 22,
   "id": "e3be0dab",
   "metadata": {
    "scrolled": false
   },
   "outputs": [
    {
     "data": {
      "text/html": [
       "<div>\n",
       "<style scoped>\n",
       "    .dataframe tbody tr th:only-of-type {\n",
       "        vertical-align: middle;\n",
       "    }\n",
       "\n",
       "    .dataframe tbody tr th {\n",
       "        vertical-align: top;\n",
       "    }\n",
       "\n",
       "    .dataframe thead th {\n",
       "        text-align: right;\n",
       "    }\n",
       "</style>\n",
       "<table border=\"1\" class=\"dataframe\">\n",
       "  <thead>\n",
       "    <tr style=\"text-align: right;\">\n",
       "      <th></th>\n",
       "      <th>Age</th>\n",
       "      <th>Gender</th>\n",
       "      <th>Tenure</th>\n",
       "      <th>Usage Frequency</th>\n",
       "      <th>Support Calls</th>\n",
       "      <th>Payment Delay</th>\n",
       "      <th>Subscription Type</th>\n",
       "      <th>Contract Length</th>\n",
       "      <th>Total Spend</th>\n",
       "      <th>Last Interaction</th>\n",
       "      <th>Churn</th>\n",
       "    </tr>\n",
       "    <tr>\n",
       "      <th>CustomerID</th>\n",
       "      <th></th>\n",
       "      <th></th>\n",
       "      <th></th>\n",
       "      <th></th>\n",
       "      <th></th>\n",
       "      <th></th>\n",
       "      <th></th>\n",
       "      <th></th>\n",
       "      <th></th>\n",
       "      <th></th>\n",
       "      <th></th>\n",
       "    </tr>\n",
       "  </thead>\n",
       "  <tbody>\n",
       "    <tr>\n",
       "      <th>1</th>\n",
       "      <td>22</td>\n",
       "      <td>Female</td>\n",
       "      <td>25</td>\n",
       "      <td>14</td>\n",
       "      <td>4</td>\n",
       "      <td>27</td>\n",
       "      <td>Basic</td>\n",
       "      <td>Monthly</td>\n",
       "      <td>598</td>\n",
       "      <td>9</td>\n",
       "      <td>1</td>\n",
       "    </tr>\n",
       "    <tr>\n",
       "      <th>2</th>\n",
       "      <td>41</td>\n",
       "      <td>Female</td>\n",
       "      <td>28</td>\n",
       "      <td>28</td>\n",
       "      <td>7</td>\n",
       "      <td>13</td>\n",
       "      <td>Standard</td>\n",
       "      <td>Monthly</td>\n",
       "      <td>584</td>\n",
       "      <td>20</td>\n",
       "      <td>0</td>\n",
       "    </tr>\n",
       "    <tr>\n",
       "      <th>3</th>\n",
       "      <td>47</td>\n",
       "      <td>Male</td>\n",
       "      <td>27</td>\n",
       "      <td>10</td>\n",
       "      <td>2</td>\n",
       "      <td>29</td>\n",
       "      <td>Premium</td>\n",
       "      <td>Annual</td>\n",
       "      <td>757</td>\n",
       "      <td>21</td>\n",
       "      <td>0</td>\n",
       "    </tr>\n",
       "    <tr>\n",
       "      <th>4</th>\n",
       "      <td>35</td>\n",
       "      <td>Male</td>\n",
       "      <td>9</td>\n",
       "      <td>12</td>\n",
       "      <td>5</td>\n",
       "      <td>17</td>\n",
       "      <td>Premium</td>\n",
       "      <td>Quarterly</td>\n",
       "      <td>232</td>\n",
       "      <td>18</td>\n",
       "      <td>0</td>\n",
       "    </tr>\n",
       "    <tr>\n",
       "      <th>5</th>\n",
       "      <td>53</td>\n",
       "      <td>Female</td>\n",
       "      <td>58</td>\n",
       "      <td>24</td>\n",
       "      <td>9</td>\n",
       "      <td>2</td>\n",
       "      <td>Standard</td>\n",
       "      <td>Annual</td>\n",
       "      <td>533</td>\n",
       "      <td>18</td>\n",
       "      <td>0</td>\n",
       "    </tr>\n",
       "  </tbody>\n",
       "</table>\n",
       "</div>"
      ],
      "text/plain": [
       "            Age  Gender  Tenure  Usage Frequency  Support Calls  \\\n",
       "CustomerID                                                        \n",
       "1            22  Female      25               14              4   \n",
       "2            41  Female      28               28              7   \n",
       "3            47    Male      27               10              2   \n",
       "4            35    Male       9               12              5   \n",
       "5            53  Female      58               24              9   \n",
       "\n",
       "            Payment Delay Subscription Type Contract Length  Total Spend  \\\n",
       "CustomerID                                                                 \n",
       "1                      27             Basic         Monthly          598   \n",
       "2                      13          Standard         Monthly          584   \n",
       "3                      29           Premium          Annual          757   \n",
       "4                      17           Premium       Quarterly          232   \n",
       "5                       2          Standard          Annual          533   \n",
       "\n",
       "            Last Interaction  Churn  \n",
       "CustomerID                           \n",
       "1                          9      1  \n",
       "2                         20      0  \n",
       "3                         21      0  \n",
       "4                         18      0  \n",
       "5                         18      0  "
      ]
     },
     "execution_count": 22,
     "metadata": {},
     "output_type": "execute_result"
    }
   ],
   "source": [
    "df_testing.head()"
   ]
  },
  {
   "cell_type": "code",
   "execution_count": 23,
   "id": "ec16b3f0",
   "metadata": {},
   "outputs": [
    {
     "name": "stdout",
     "output_type": "stream",
     "text": [
      "<class 'pandas.core.frame.DataFrame'>\n",
      "Int64Index: 64374 entries, 1 to 64374\n",
      "Data columns (total 11 columns):\n",
      " #   Column             Non-Null Count  Dtype \n",
      "---  ------             --------------  ----- \n",
      " 0   Age                64374 non-null  int64 \n",
      " 1   Gender             64374 non-null  object\n",
      " 2   Tenure             64374 non-null  int64 \n",
      " 3   Usage Frequency    64374 non-null  int64 \n",
      " 4   Support Calls      64374 non-null  int64 \n",
      " 5   Payment Delay      64374 non-null  int64 \n",
      " 6   Subscription Type  64374 non-null  object\n",
      " 7   Contract Length    64374 non-null  object\n",
      " 8   Total Spend        64374 non-null  int64 \n",
      " 9   Last Interaction   64374 non-null  int64 \n",
      " 10  Churn              64374 non-null  int64 \n",
      "dtypes: int64(8), object(3)\n",
      "memory usage: 5.9+ MB\n"
     ]
    }
   ],
   "source": [
    "df_testing.info()"
   ]
  },
  {
   "cell_type": "markdown",
   "id": "4ae109f5",
   "metadata": {},
   "source": [
    "Cambiamos los nombres de las variables Usage Frequency, Support Calls, Payment Delay, Subscription Type,  \n",
    "Contract Length, Total Spend y Last Interaction"
   ]
  },
  {
   "cell_type": "code",
   "execution_count": 24,
   "id": "615386c1",
   "metadata": {},
   "outputs": [],
   "source": [
    "df_testing.rename(columns = {'Usage Frequency':'Usage_Frequency', 'Support Calls':'Support_Calls', 'Payment Delay':'Payment_Delay', 'Subscription Type':'Subscription_Type', 'Contract Length':'Contract_Length', 'Total Spend':'Total_Spend', 'Last Interaction':'Last_Interaction'}, inplace=True)"
   ]
  },
  {
   "cell_type": "markdown",
   "id": "f73db830",
   "metadata": {},
   "source": [
    "Vamos a observar las variables categóricas que nos quedan"
   ]
  },
  {
   "cell_type": "code",
   "execution_count": 25,
   "id": "c43da0fe",
   "metadata": {},
   "outputs": [
    {
     "data": {
      "image/png": "[encoded data removed]",
      "text/plain": [
       "<Figure size 500x1500 with 3 Axes>"
      ]
     },
     "metadata": {},
     "output_type": "display_data"
    }
   ],
   "source": [
    "fig, ax = plt.subplots(nrows=3, ncols=1, figsize=(5,15))\n",
    "fig.subplots_adjust(hspace=0.5)\n",
    "\n",
    "for i, col in enumerate(['Gender','Subscription_Type','Contract_Length']):\n",
    "  sns.countplot(x=col, data=df_testing, ax=ax[i])\n",
    "  ax[i].set_xticklabels(ax[i].get_xticklabels(), rotation=90)"
   ]
  },
  {
   "cell_type": "markdown",
   "id": "a77b22f3",
   "metadata": {},
   "source": [
    "Vamos a cambiar Contract_Length a numérica que indique los días de contrato en meses\n",
    "- 12 si es un año\n",
    "- 3 si es 1/4 de año\n",
    "- 1 si es un mes"
   ]
  },
  {
   "cell_type": "code",
   "execution_count": 26,
   "id": "29a8d23f",
   "metadata": {},
   "outputs": [],
   "source": [
    "def agrupacion(x):\n",
    "    if x == 'Annual':\n",
    "        return 12\n",
    "    elif x == 'Quarterly':\n",
    "        return 3\n",
    "    elif x == 'Monthly':\n",
    "        return 1\n",
    "    else:\n",
    "        return x\n",
    "df_testing['Contract_Length']=df_testing['Contract_Length'].apply(agrupacion)"
   ]
  },
  {
   "cell_type": "markdown",
   "id": "50eda043",
   "metadata": {},
   "source": [
    "Vamos a cambiar Subcription_Type a numérica de tal manera que tenga un valor más alto si la suscripción es Premium\n",
    "- 3 si es un Premium\n",
    "- 2 si es Estándar\n",
    "- 1 si es Basic"
   ]
  },
  {
   "cell_type": "code",
   "execution_count": 27,
   "id": "1f01bf73",
   "metadata": {},
   "outputs": [],
   "source": [
    "def agrupacion(x):\n",
    "    if x == 'Premium':\n",
    "        return 3\n",
    "    elif x == 'Standard':\n",
    "        return 2\n",
    "    elif x == 'Basic':\n",
    "        return 1\n",
    "    else:\n",
    "        return x\n",
    "df_testing['Subscription_Type']=df_testing['Subscription_Type'].apply(agrupacion)"
   ]
  },
  {
   "cell_type": "markdown",
   "id": "44a46b6d",
   "metadata": {},
   "source": [
    "Convertimos la variable género a dummies"
   ]
  },
  {
   "cell_type": "code",
   "execution_count": 28,
   "id": "755b5731",
   "metadata": {},
   "outputs": [],
   "source": [
    "df_testing = pd.get_dummies(df_testing, columns=['Gender'])"
   ]
  },
  {
   "cell_type": "markdown",
   "id": "ce4b1f43",
   "metadata": {},
   "source": [
    "Mantenemos la columna Gender_Male"
   ]
  },
  {
   "cell_type": "code",
   "execution_count": 29,
   "id": "fd2ea8c9",
   "metadata": {},
   "outputs": [],
   "source": [
    "df_testing.drop('Gender_Female', axis=1, inplace=True)"
   ]
  },
  {
   "cell_type": "code",
   "execution_count": 30,
   "id": "ee6c664c",
   "metadata": {},
   "outputs": [
    {
     "data": {
      "text/html": [
       "<div>\n",
       "<style scoped>\n",
       "    .dataframe tbody tr th:only-of-type {\n",
       "        vertical-align: middle;\n",
       "    }\n",
       "\n",
       "    .dataframe tbody tr th {\n",
       "        vertical-align: top;\n",
       "    }\n",
       "\n",
       "    .dataframe thead th {\n",
       "        text-align: right;\n",
       "    }\n",
       "</style>\n",
       "<table border=\"1\" class=\"dataframe\">\n",
       "  <thead>\n",
       "    <tr style=\"text-align: right;\">\n",
       "      <th></th>\n",
       "      <th>Age</th>\n",
       "      <th>Tenure</th>\n",
       "      <th>Usage_Frequency</th>\n",
       "      <th>Support_Calls</th>\n",
       "      <th>Payment_Delay</th>\n",
       "      <th>Subscription_Type</th>\n",
       "      <th>Contract_Length</th>\n",
       "      <th>Total_Spend</th>\n",
       "      <th>Last_Interaction</th>\n",
       "      <th>Churn</th>\n",
       "      <th>Gender_Male</th>\n",
       "    </tr>\n",
       "    <tr>\n",
       "      <th>CustomerID</th>\n",
       "      <th></th>\n",
       "      <th></th>\n",
       "      <th></th>\n",
       "      <th></th>\n",
       "      <th></th>\n",
       "      <th></th>\n",
       "      <th></th>\n",
       "      <th></th>\n",
       "      <th></th>\n",
       "      <th></th>\n",
       "      <th></th>\n",
       "    </tr>\n",
       "  </thead>\n",
       "  <tbody>\n",
       "    <tr>\n",
       "      <th>1</th>\n",
       "      <td>22</td>\n",
       "      <td>25</td>\n",
       "      <td>14</td>\n",
       "      <td>4</td>\n",
       "      <td>27</td>\n",
       "      <td>1</td>\n",
       "      <td>1</td>\n",
       "      <td>598</td>\n",
       "      <td>9</td>\n",
       "      <td>1</td>\n",
       "      <td>0</td>\n",
       "    </tr>\n",
       "    <tr>\n",
       "      <th>2</th>\n",
       "      <td>41</td>\n",
       "      <td>28</td>\n",
       "      <td>28</td>\n",
       "      <td>7</td>\n",
       "      <td>13</td>\n",
       "      <td>2</td>\n",
       "      <td>1</td>\n",
       "      <td>584</td>\n",
       "      <td>20</td>\n",
       "      <td>0</td>\n",
       "      <td>0</td>\n",
       "    </tr>\n",
       "    <tr>\n",
       "      <th>3</th>\n",
       "      <td>47</td>\n",
       "      <td>27</td>\n",
       "      <td>10</td>\n",
       "      <td>2</td>\n",
       "      <td>29</td>\n",
       "      <td>3</td>\n",
       "      <td>12</td>\n",
       "      <td>757</td>\n",
       "      <td>21</td>\n",
       "      <td>0</td>\n",
       "      <td>1</td>\n",
       "    </tr>\n",
       "    <tr>\n",
       "      <th>4</th>\n",
       "      <td>35</td>\n",
       "      <td>9</td>\n",
       "      <td>12</td>\n",
       "      <td>5</td>\n",
       "      <td>17</td>\n",
       "      <td>3</td>\n",
       "      <td>3</td>\n",
       "      <td>232</td>\n",
       "      <td>18</td>\n",
       "      <td>0</td>\n",
       "      <td>1</td>\n",
       "    </tr>\n",
       "    <tr>\n",
       "      <th>5</th>\n",
       "      <td>53</td>\n",
       "      <td>58</td>\n",
       "      <td>24</td>\n",
       "      <td>9</td>\n",
       "      <td>2</td>\n",
       "      <td>2</td>\n",
       "      <td>12</td>\n",
       "      <td>533</td>\n",
       "      <td>18</td>\n",
       "      <td>0</td>\n",
       "      <td>0</td>\n",
       "    </tr>\n",
       "  </tbody>\n",
       "</table>\n",
       "</div>"
      ],
      "text/plain": [
       "            Age  Tenure  Usage_Frequency  Support_Calls  Payment_Delay  \\\n",
       "CustomerID                                                               \n",
       "1            22      25               14              4             27   \n",
       "2            41      28               28              7             13   \n",
       "3            47      27               10              2             29   \n",
       "4            35       9               12              5             17   \n",
       "5            53      58               24              9              2   \n",
       "\n",
       "            Subscription_Type  Contract_Length  Total_Spend  Last_Interaction  \\\n",
       "CustomerID                                                                      \n",
       "1                           1                1          598                 9   \n",
       "2                           2                1          584                20   \n",
       "3                           3               12          757                21   \n",
       "4                           3                3          232                18   \n",
       "5                           2               12          533                18   \n",
       "\n",
       "            Churn  Gender_Male  \n",
       "CustomerID                      \n",
       "1               1            0  \n",
       "2               0            0  \n",
       "3               0            1  \n",
       "4               0            1  \n",
       "5               0            0  "
      ]
     },
     "execution_count": 30,
     "metadata": {},
     "output_type": "execute_result"
    }
   ],
   "source": [
    "df_testing.head()"
   ]
  },
  {
   "cell_type": "code",
   "execution_count": 31,
   "id": "606f787d",
   "metadata": {},
   "outputs": [
    {
     "name": "stdout",
     "output_type": "stream",
     "text": [
      "<class 'pandas.core.frame.DataFrame'>\n",
      "Int64Index: 64374 entries, 1 to 64374\n",
      "Data columns (total 11 columns):\n",
      " #   Column             Non-Null Count  Dtype\n",
      "---  ------             --------------  -----\n",
      " 0   Age                64374 non-null  int64\n",
      " 1   Tenure             64374 non-null  int64\n",
      " 2   Usage_Frequency    64374 non-null  int64\n",
      " 3   Support_Calls      64374 non-null  int64\n",
      " 4   Payment_Delay      64374 non-null  int64\n",
      " 5   Subscription_Type  64374 non-null  int64\n",
      " 6   Contract_Length    64374 non-null  int64\n",
      " 7   Total_Spend        64374 non-null  int64\n",
      " 8   Last_Interaction   64374 non-null  int64\n",
      " 9   Churn              64374 non-null  int64\n",
      " 10  Gender_Male        64374 non-null  uint8\n",
      "dtypes: int64(10), uint8(1)\n",
      "memory usage: 5.5 MB\n"
     ]
    }
   ],
   "source": [
    "df_testing.info()"
   ]
  },
  {
   "cell_type": "markdown",
   "id": "96fdf38b",
   "metadata": {},
   "source": [
    "Examinamos los atípicos"
   ]
  },
  {
   "cell_type": "code",
   "execution_count": 32,
   "id": "53e3566e",
   "metadata": {},
   "outputs": [
    {
     "data": {
      "image/png": "[encoded data removed]",
      "text/plain": [
       "<Figure size 1600x2000 with 9 Axes>"
      ]
     },
     "metadata": {},
     "output_type": "display_data"
    }
   ],
   "source": [
    "fig, ax = plt.subplots(nrows=9, ncols=1, figsize=(16,20))\n",
    "fig.subplots_adjust(hspace=1)\n",
    "for i, col in enumerate(['Age', 'Tenure', 'Usage_Frequency', 'Support_Calls',\n",
    "       'Payment_Delay', 'Contract_Length', 'Total_Spend',\n",
    "       'Last_Interaction', 'Churn']):\n",
    "    sns.boxplot(x=col, data=df_testing, ax=ax[i])\n",
    "    ax[i].xaxis.set_major_locator(plt.MaxNLocator(nbins=10)) "
   ]
  },
  {
   "cell_type": "markdown",
   "id": "6bd5859e",
   "metadata": {},
   "source": [
    "No hay atípicos, así que la limpieza está finalizada"
   ]
  },
  {
   "cell_type": "markdown",
   "id": "da69a198",
   "metadata": {},
   "source": [
    "Juntamos los dos datasets"
   ]
  },
  {
   "cell_type": "code",
   "execution_count": 33,
   "id": "07704e5f",
   "metadata": {},
   "outputs": [],
   "source": [
    "df_completo = pd.concat([df_training,df_testing],join='inner')"
   ]
  },
  {
   "cell_type": "markdown",
   "id": "738cea1c",
   "metadata": {},
   "source": [
    "**Caraga de datos**"
   ]
  },
  {
   "cell_type": "code",
   "execution_count": 34,
   "id": "0f84d7cc",
   "metadata": {},
   "outputs": [],
   "source": [
    "X = df_completo.drop('Churn', axis=1)\n",
    "y = df_completo.Churn"
   ]
  },
  {
   "cell_type": "code",
   "execution_count": 35,
   "id": "626b4a71",
   "metadata": {},
   "outputs": [],
   "source": [
    "X_train, X_test, y_train, y_test = tts(X, y)\n",
    "X_train, X_val, y_train, y_val = tts(X_train, y_train)"
   ]
  },
  {
   "cell_type": "code",
   "execution_count": 36,
   "id": "f09371f3",
   "metadata": {},
   "outputs": [
    {
     "data": {
      "text/plain": [
       "((284178, 10), (126302, 10), (284178,), (126302,))"
      ]
     },
     "execution_count": 36,
     "metadata": {},
     "output_type": "execute_result"
    }
   ],
   "source": [
    "# Este es el tamaño de nuestos dataset de entrenamiento y prueba\n",
    "X_train.shape, X_test.shape, y_train.shape, y_test.shape"
   ]
  },
  {
   "cell_type": "markdown",
   "id": "5da3ff20",
   "metadata": {},
   "source": [
    "### Exploración de los datos"
   ]
  },
  {
   "cell_type": "markdown",
   "id": "6e2ab00a",
   "metadata": {},
   "source": [
    "Los datos de entrada en una red neuronal tienen que ser normalizados"
   ]
  },
  {
   "cell_type": "code",
   "execution_count": 37,
   "id": "ae881b7a",
   "metadata": {},
   "outputs": [],
   "source": [
    "X[X.columns] = StandardScaler().fit_transform(X)"
   ]
  },
  {
   "cell_type": "code",
   "execution_count": 38,
   "id": "04cf7d98",
   "metadata": {},
   "outputs": [],
   "source": [
    "X_train[X_train.columns] = StandardScaler().fit_transform(X_train)"
   ]
  },
  {
   "cell_type": "code",
   "execution_count": 39,
   "id": "a1584da1",
   "metadata": {},
   "outputs": [],
   "source": [
    "X_test[X_test.columns] = StandardScaler().fit_transform(X_test)"
   ]
  },
  {
   "cell_type": "markdown",
   "id": "9ca93a56",
   "metadata": {},
   "source": [
    "Verificamos el pairplot"
   ]
  },
  {
   "cell_type": "markdown",
   "id": "22ca5b64",
   "metadata": {},
   "source": [
    "Como tarda mucho en generar el pairplot, vamos a guardarlo en imagen.  \n",
    "El código para generarlo sería:  \n",
    "sns.pairplot(df_completo, hue='Churn', palette='tab10')\n",
    "plt.show();  \n",
    "![Output](output.png)"
   ]
  },
  {
   "cell_type": "markdown",
   "id": "c11f49b4",
   "metadata": {},
   "source": [
    "### Modelo\n",
    "\n",
    "Construir la red neuronal requiere configurar las capas del modelo y luego compilar el modelo. \n",
    "\n",
    "Los bloques de construccion básicos de una red neuronal son las *capas*. La función de las capas es extraer la características fundamentales de los clientes para luego clasificarlos. La mayoria de las capas como `Dense`, tienen parametros que son aprendidos durante el entrenamiento.\n",
    "\n",
    "La primera capa de esta red, `Flatten`, \n",
    "transforma el formato de las imágenes de un df bidimensional (440832, 10) a un array unidimensional (10).\n",
    "\n",
    "Después de que los datos sean \"aplanados\", la secuencia consiste de dos capas `Dense`. También se llama a estas capa `Full connected`, pues está todo conectado con todo. La primera capa `Dense` tiene 128 nodos o neuronas. La segunda capa es una capa de 10 nodos *softmax* (regresión logística) que devuelve un array de 10 probabilidades que suman a 1. Cada nodo contiene una calificacion que indica la probabilidad que la actual imagen pertenece a una de las 10 clases."
   ]
  },
  {
   "cell_type": "code",
   "execution_count": 40,
   "id": "d330c395",
   "metadata": {},
   "outputs": [],
   "source": [
    "model = Sequential()\n",
    "\n",
    "model.add(Flatten(input_shape=(10,)))\n",
    "\n",
    "model.add(Dense(128, activation='relu'))\n",
    "\n",
    "model.add(Dense(10, activation='softmax')) # Es una regresión logística que predice probabilidad"
   ]
  },
  {
   "cell_type": "markdown",
   "id": "f55db148",
   "metadata": {},
   "source": [
    "Antes de que el modelo este listo para entrenar, se necesitan algunas configuraciones más. Estas son agregadas durante el paso de compilación del modelo:\n",
    "\n",
    "* *Loss function* — Función de coste o pérdida. Funcióin a minimizar para el ajuste.\n",
    "\n",
    "* *Optimizer* — Algoritmo de optimización.\n",
    "\n",
    "* *Metrics* — Métrica para el ajuste.\n",
    "\n",
    "El siguiente ejemplo usa *accuracy* (acierto) , la proporción de imágenes que son correctamente clasificadas."
   ]
  },
  {
   "cell_type": "code",
   "execution_count": 41,
   "id": "bf317f7a",
   "metadata": {},
   "outputs": [],
   "source": [
    "model.compile(optimizer='adam',\n",
    "              loss='sparse_categorical_crossentropy',\n",
    "              metrics=['accuracy'])"
   ]
  },
  {
   "cell_type": "code",
   "execution_count": 42,
   "id": "2996e1e0",
   "metadata": {
    "scrolled": true
   },
   "outputs": [
    {
     "name": "stdout",
     "output_type": "stream",
     "text": [
      "Model: \"sequential\"\n",
      "_________________________________________________________________\n",
      " Layer (type)                Output Shape              Param #   \n",
      "=================================================================\n",
      " flatten (Flatten)           (None, 10)                0         \n",
      "                                                                 \n",
      " dense (Dense)               (None, 128)               1408      \n",
      "                                                                 \n",
      " dense_1 (Dense)             (None, 10)                1290      \n",
      "                                                                 \n",
      "=================================================================\n",
      "Total params: 2698 (10.54 KB)\n",
      "Trainable params: 2698 (10.54 KB)\n",
      "Non-trainable params: 0 (0.00 Byte)\n",
      "_________________________________________________________________\n"
     ]
    }
   ],
   "source": [
    "model.summary()"
   ]
  },
  {
   "cell_type": "markdown",
   "id": "92c649fc",
   "metadata": {},
   "source": [
    "### Entrenamiento"
   ]
  },
  {
   "cell_type": "code",
   "execution_count": 43,
   "id": "17a4c525",
   "metadata": {
    "scrolled": true
   },
   "outputs": [
    {
     "name": "stdout",
     "output_type": "stream",
     "text": [
      "Epoch 1/50\n",
      "8881/8881 [==============================] - 45s 5ms/step - loss: 0.3227 - accuracy: 0.8858\n",
      "Epoch 2/50\n",
      "8881/8881 [==============================] - 50s 6ms/step - loss: 0.2800 - accuracy: 0.9033\n",
      "Epoch 3/50\n",
      "8881/8881 [==============================] - 43s 5ms/step - loss: 0.2716 - accuracy: 0.9063\n",
      "Epoch 4/50\n",
      "8881/8881 [==============================] - 26s 3ms/step - loss: 0.2653 - accuracy: 0.9086\n",
      "Epoch 5/50\n",
      "8881/8881 [==============================] - 25s 3ms/step - loss: 0.2606 - accuracy: 0.9106\n",
      "Epoch 6/50\n",
      "8881/8881 [==============================] - 25s 3ms/step - loss: 0.2570 - accuracy: 0.9118\n",
      "Epoch 7/50\n",
      "8881/8881 [==============================] - 23s 3ms/step - loss: 0.2538 - accuracy: 0.9130\n",
      "Epoch 8/50\n",
      "8881/8881 [==============================] - 22s 3ms/step - loss: 0.2509 - accuracy: 0.9144\n",
      "Epoch 9/50\n",
      "8881/8881 [==============================] - 22s 2ms/step - loss: 0.2494 - accuracy: 0.9150\n",
      "Epoch 10/50\n",
      "8881/8881 [==============================] - 22s 2ms/step - loss: 0.2481 - accuracy: 0.9155\n",
      "Epoch 11/50\n",
      "8881/8881 [==============================] - 25s 3ms/step - loss: 0.2472 - accuracy: 0.9159\n",
      "Epoch 12/50\n",
      "8881/8881 [==============================] - 20s 2ms/step - loss: 0.2464 - accuracy: 0.9164\n",
      "Epoch 13/50\n",
      "8881/8881 [==============================] - 16s 2ms/step - loss: 0.2452 - accuracy: 0.9167\n",
      "Epoch 14/50\n",
      "8881/8881 [==============================] - 19s 2ms/step - loss: 0.2445 - accuracy: 0.9169\n",
      "Epoch 15/50\n",
      "8881/8881 [==============================] - 19s 2ms/step - loss: 0.2440 - accuracy: 0.9171\n",
      "Epoch 16/50\n",
      "8881/8881 [==============================] - 17s 2ms/step - loss: 0.2433 - accuracy: 0.9174\n",
      "Epoch 17/50\n",
      "8881/8881 [==============================] - 15s 2ms/step - loss: 0.2425 - accuracy: 0.9177\n",
      "Epoch 18/50\n",
      "8881/8881 [==============================] - 15s 2ms/step - loss: 0.2419 - accuracy: 0.9178\n",
      "Epoch 19/50\n",
      "8881/8881 [==============================] - 15s 2ms/step - loss: 0.2416 - accuracy: 0.9179\n",
      "Epoch 20/50\n",
      "8881/8881 [==============================] - 16s 2ms/step - loss: 0.2412 - accuracy: 0.9185\n",
      "Epoch 21/50\n",
      "8881/8881 [==============================] - 15s 2ms/step - loss: 0.2407 - accuracy: 0.9182\n",
      "Epoch 22/50\n",
      "8881/8881 [==============================] - 15s 2ms/step - loss: 0.2407 - accuracy: 0.9187\n",
      "Epoch 23/50\n",
      "8881/8881 [==============================] - 16s 2ms/step - loss: 0.2400 - accuracy: 0.9185\n",
      "Epoch 24/50\n",
      "8881/8881 [==============================] - 28s 3ms/step - loss: 0.2401 - accuracy: 0.9189\n",
      "Epoch 25/50\n",
      "8881/8881 [==============================] - 26s 3ms/step - loss: 0.2399 - accuracy: 0.9187\n",
      "Epoch 26/50\n",
      "8881/8881 [==============================] - 16s 2ms/step - loss: 0.2397 - accuracy: 0.9191\n",
      "Epoch 27/50\n",
      "8881/8881 [==============================] - 13s 2ms/step - loss: 0.2390 - accuracy: 0.9192\n",
      "Epoch 28/50\n",
      "8881/8881 [==============================] - 14s 2ms/step - loss: 0.2389 - accuracy: 0.9187\n",
      "Epoch 29/50\n",
      "8881/8881 [==============================] - 14s 2ms/step - loss: 0.2387 - accuracy: 0.9192\n",
      "Epoch 30/50\n",
      "8881/8881 [==============================] - 14s 2ms/step - loss: 0.2387 - accuracy: 0.9193\n",
      "Epoch 31/50\n",
      "8881/8881 [==============================] - 15s 2ms/step - loss: 0.2382 - accuracy: 0.9193\n",
      "Epoch 32/50\n",
      "8881/8881 [==============================] - 13s 2ms/step - loss: 0.2384 - accuracy: 0.9196\n",
      "Epoch 33/50\n",
      "8881/8881 [==============================] - 13s 1ms/step - loss: 0.2379 - accuracy: 0.9196\n",
      "Epoch 34/50\n",
      "8881/8881 [==============================] - 14s 2ms/step - loss: 0.2381 - accuracy: 0.9198\n",
      "Epoch 35/50\n",
      "8881/8881 [==============================] - 19s 2ms/step - loss: 0.2374 - accuracy: 0.9196\n",
      "Epoch 36/50\n",
      "8881/8881 [==============================] - 15s 2ms/step - loss: 0.2376 - accuracy: 0.9197\n",
      "Epoch 37/50\n",
      "8881/8881 [==============================] - 16s 2ms/step - loss: 0.2375 - accuracy: 0.9196\n",
      "Epoch 38/50\n",
      "8881/8881 [==============================] - 14s 2ms/step - loss: 0.2375 - accuracy: 0.9196\n",
      "Epoch 39/50\n",
      "8881/8881 [==============================] - 18s 2ms/step - loss: 0.2372 - accuracy: 0.9197\n",
      "Epoch 40/50\n",
      "8881/8881 [==============================] - 15s 2ms/step - loss: 0.2371 - accuracy: 0.9203\n",
      "Epoch 41/50\n",
      "8881/8881 [==============================] - 13s 2ms/step - loss: 0.2369 - accuracy: 0.9199\n",
      "Epoch 42/50\n",
      "8881/8881 [==============================] - 15s 2ms/step - loss: 0.2369 - accuracy: 0.9202\n",
      "Epoch 43/50\n",
      "8881/8881 [==============================] - 21s 2ms/step - loss: 0.2370 - accuracy: 0.9201\n",
      "Epoch 44/50\n",
      "8881/8881 [==============================] - 18s 2ms/step - loss: 0.2363 - accuracy: 0.9203\n",
      "Epoch 45/50\n",
      "8881/8881 [==============================] - 17s 2ms/step - loss: 0.2368 - accuracy: 0.9201\n",
      "Epoch 46/50\n",
      "8881/8881 [==============================] - 16s 2ms/step - loss: 0.2363 - accuracy: 0.9199\n",
      "Epoch 47/50\n",
      "8881/8881 [==============================] - 18s 2ms/step - loss: 0.2365 - accuracy: 0.9202\n",
      "Epoch 48/50\n",
      "8881/8881 [==============================] - 29s 3ms/step - loss: 0.2364 - accuracy: 0.9204\n",
      "Epoch 49/50\n",
      "8881/8881 [==============================] - 25s 3ms/step - loss: 0.2362 - accuracy: 0.9201\n",
      "Epoch 50/50\n",
      "8881/8881 [==============================] - 15s 2ms/step - loss: 0.2364 - accuracy: 0.9203\n"
     ]
    },
    {
     "data": {
      "text/plain": [
       "<keras.src.callbacks.History at 0x1b520d1d5a0>"
      ]
     },
     "execution_count": 43,
     "metadata": {},
     "output_type": "execute_result"
    }
   ],
   "source": [
    "model.fit(X_train, y_train, epochs=50)"
   ]
  },
  {
   "cell_type": "markdown",
   "id": "f74d9f21",
   "metadata": {},
   "source": [
    "### Evaluación y predicción"
   ]
  },
  {
   "cell_type": "code",
   "execution_count": 63,
   "id": "cd417e84",
   "metadata": {},
   "outputs": [
    {
     "name": "stdout",
     "output_type": "stream",
     "text": [
      "3947/3947 - 4s - loss: 0.2339 - accuracy: 0.9216 - 4s/epoch - 1ms/step\n",
      "\n",
      "Test accuracy: 0.9216480851173401\n"
     ]
    }
   ],
   "source": [
    "test_loss, test_acc = model.evaluate(X_test,  y_test, verbose=2)\n",
    "\n",
    "print('\\nTest accuracy:', test_acc)"
   ]
  },
  {
   "cell_type": "code",
   "execution_count": 64,
   "id": "9dcf40f0",
   "metadata": {},
   "outputs": [
    {
     "name": "stdout",
     "output_type": "stream",
     "text": [
      "3947/3947 [==============================] - 5s 1ms/step\n"
     ]
    }
   ],
   "source": [
    "y_prob = model.predict(X_test)"
   ]
  },
  {
   "cell_type": "code",
   "execution_count": 65,
   "id": "a533ea27",
   "metadata": {
    "scrolled": true
   },
   "outputs": [
    {
     "data": {
      "text/plain": [
       "array([[2.1135274e-01, 7.8864723e-01, 1.9651296e-30, ..., 1.4111552e-29,\n",
       "        9.5682622e-30, 2.8454310e-28],\n",
       "       [9.8193812e-01, 1.8061914e-02, 1.2432591e-20, ..., 5.5002890e-20,\n",
       "        7.2867221e-21, 2.7145641e-20],\n",
       "       [4.9969118e-02, 9.5003086e-01, 1.0064191e-22, ..., 3.0590617e-22,\n",
       "        3.5950078e-22, 4.3319950e-21],\n",
       "       ...,\n",
       "       [9.9211055e-01, 7.8894729e-03, 1.6795736e-26, ..., 8.4903921e-27,\n",
       "        7.4703125e-27, 6.2504068e-25],\n",
       "       [9.4429320e-01, 5.5706792e-02, 4.4160891e-13, ..., 6.1101417e-13,\n",
       "        5.2652224e-13, 2.0982474e-13],\n",
       "       [3.0526251e-01, 6.9473749e-01, 6.4722099e-23, ..., 1.3935501e-22,\n",
       "        1.2859944e-22, 1.2019622e-21]], dtype=float32)"
      ]
     },
     "execution_count": 65,
     "metadata": {},
     "output_type": "execute_result"
    }
   ],
   "source": [
    "y_prob"
   ]
  },
  {
   "cell_type": "code",
   "execution_count": 66,
   "id": "41a9077c",
   "metadata": {},
   "outputs": [
    {
     "data": {
      "text/plain": [
       "array([2.1135274e-01, 7.8864723e-01, 1.9651296e-30, 2.2784080e-30,\n",
       "       3.4732029e-30, 1.6287218e-29, 7.2214564e-30, 1.4111552e-29,\n",
       "       9.5682622e-30, 2.8454310e-28], dtype=float32)"
      ]
     },
     "execution_count": 66,
     "metadata": {},
     "output_type": "execute_result"
    }
   ],
   "source": [
    "y_prob[0]"
   ]
  },
  {
   "cell_type": "code",
   "execution_count": 67,
   "id": "63f19346",
   "metadata": {},
   "outputs": [
    {
     "data": {
      "text/plain": [
       "1"
      ]
     },
     "execution_count": 67,
     "metadata": {},
     "output_type": "execute_result"
    }
   ],
   "source": [
    "np.argmax(y_prob[0])"
   ]
  },
  {
   "cell_type": "code",
   "execution_count": 68,
   "id": "27205c26",
   "metadata": {},
   "outputs": [
    {
     "data": {
      "text/plain": [
       "'churn'"
      ]
     },
     "execution_count": 68,
     "metadata": {},
     "output_type": "execute_result"
    }
   ],
   "source": [
    "label_names[np.argmax(y_prob[0])]"
   ]
  },
  {
   "cell_type": "code",
   "execution_count": 69,
   "id": "5a874df9",
   "metadata": {},
   "outputs": [
    {
     "data": {
      "text/plain": [
       "array([1, 0, 1, ..., 0, 0, 1], dtype=int64)"
      ]
     },
     "execution_count": 69,
     "metadata": {},
     "output_type": "execute_result"
    }
   ],
   "source": [
    "y_pred = np.argmax(y_prob, axis=1)\n",
    "\n",
    "y_pred"
   ]
  },
  {
   "cell_type": "code",
   "execution_count": 70,
   "id": "de9fb59f",
   "metadata": {
    "scrolled": false
   },
   "outputs": [
    {
     "data": {
      "text/plain": [
       "CustomerID\n",
       "31989     1\n",
       "364124    0\n",
       "5376      0\n",
       "120528    1\n",
       "316660    0\n",
       "         ..\n",
       "270135    0\n",
       "62485     1\n",
       "359041    0\n",
       "275362    0\n",
       "22935     1\n",
       "Name: Churn, Length: 126302, dtype: int64"
      ]
     },
     "execution_count": 70,
     "metadata": {},
     "output_type": "execute_result"
    }
   ],
   "source": [
    "y_test"
   ]
  },
  {
   "cell_type": "code",
   "execution_count": 71,
   "id": "587ef32b",
   "metadata": {},
   "outputs": [],
   "source": [
    "y_pred2 = pd.Series(y_pred)"
   ]
  },
  {
   "cell_type": "code",
   "execution_count": 72,
   "id": "e4145609",
   "metadata": {},
   "outputs": [
    {
     "data": {
      "image/png": "[encoded data removed]",
      "text/plain": [
       "<Figure size 1500x800 with 2 Axes>"
      ]
     },
     "metadata": {},
     "output_type": "display_data"
    }
   ],
   "source": [
    "plt.figure(figsize=(15, 8))\n",
    "\n",
    "ax=sns.heatmap(cm(y_test, y_pred)/cm(y_test, y_pred).sum(), annot=True)\n",
    "\n",
    "plt.title('Matriz confusion')\n",
    "plt.ylabel('Verdad')\n",
    "plt.xlabel('Prediccion')\n",
    "plt.show();"
   ]
  },
  {
   "cell_type": "code",
   "execution_count": 54,
   "id": "9f465d69",
   "metadata": {
    "scrolled": false
   },
   "outputs": [
    {
     "name": "stdout",
     "output_type": "stream",
     "text": [
      "              precision    recall  f1-score   support\n",
      "\n",
      "           0       0.95      0.86      0.91     55980\n",
      "           1       0.90      0.97      0.93     70322\n",
      "\n",
      "    accuracy                           0.92    126302\n",
      "   macro avg       0.93      0.92      0.92    126302\n",
      "weighted avg       0.92      0.92      0.92    126302\n",
      "\n"
     ]
    }
   ],
   "source": [
    "print(report(y_test, y_pred))"
   ]
  },
  {
   "cell_type": "code",
   "execution_count": 55,
   "id": "4cee0b9d",
   "metadata": {},
   "outputs": [
    {
     "data": {
      "text/plain": [
       "{0: 'Not churn', 1: 'churn'}"
      ]
     },
     "execution_count": 55,
     "metadata": {},
     "output_type": "execute_result"
    }
   ],
   "source": [
    "label_names"
   ]
  },
  {
   "cell_type": "markdown",
   "id": "f627450c",
   "metadata": {},
   "source": [
    "Parece que el modelo es bueno para predecir si un cliente abandona la compañía o no.  \n",
    "\n",
    "- Precisión.Esto significa que cuando tu modelo predice que un cliente se quedará, está correcto el 95% de las veces.  \n",
    "  Y cuando predice que un cliente abandonará, está correcto el 90% de las veces.\n",
    "\n",
    "- Recall (sensibilidad): ativos. El tu modelo identifica correctamente el 86% de los clientes que se quedan y el 97% de los clientes que abandonan.\n",
    "\n",
    "- F1-score: El F1-score es una medida que combina precisión y recall.Los F1-scores son del 91% para la clase 0 y del 93% para la clase 1, lo que indica que el modelo tiene un buen equilibrio entre precisión y recall."
   ]
  },
  {
   "cell_type": "markdown",
   "id": "d18a2cbc",
   "metadata": {},
   "source": [
    "### Guardado y carga del modelo"
   ]
  },
  {
   "cell_type": "code",
   "execution_count": 73,
   "id": "38da2fdf",
   "metadata": {},
   "outputs": [
    {
     "data": {
      "text/plain": [
       "<keras.src.engine.sequential.Sequential at 0x1b5248f6740>"
      ]
     },
     "execution_count": 73,
     "metadata": {},
     "output_type": "execute_result"
    }
   ],
   "source": [
    "model"
   ]
  },
  {
   "cell_type": "code",
   "execution_count": 74,
   "id": "87ad98e3",
   "metadata": {},
   "outputs": [],
   "source": [
    "model.save_weights('MNIST_weights.h5')    # pesos de la red"
   ]
  },
  {
   "cell_type": "code",
   "execution_count": 75,
   "id": "71554480",
   "metadata": {},
   "outputs": [],
   "source": [
    "model.load_weights('MNIST_weights.h5')"
   ]
  },
  {
   "cell_type": "code",
   "execution_count": 76,
   "id": "fe2fa6ca",
   "metadata": {},
   "outputs": [],
   "source": [
    "model.save('MNIST_Model.h5')              # modelo completo"
   ]
  },
  {
   "cell_type": "code",
   "execution_count": 77,
   "id": "3a517661",
   "metadata": {},
   "outputs": [],
   "source": [
    "from keras.models import load_model"
   ]
  },
  {
   "cell_type": "code",
   "execution_count": 78,
   "id": "bd4b7654",
   "metadata": {},
   "outputs": [],
   "source": [
    "modelo_nuevo = load_model('MNIST_Model.h5')"
   ]
  },
  {
   "cell_type": "code",
   "execution_count": 62,
   "id": "705e7d98",
   "metadata": {},
   "outputs": [
    {
     "name": "stdout",
     "output_type": "stream",
     "text": [
      "3947/3947 [==============================] - 6s 2ms/step\n"
     ]
    },
    {
     "data": {
      "text/plain": [
       "array([2.1135274e-01, 7.8864723e-01, 1.9651296e-30, 2.2784080e-30,\n",
       "       3.4732029e-30, 1.6287218e-29, 7.2214564e-30, 1.4111552e-29,\n",
       "       9.5682622e-30, 2.8454310e-28], dtype=float32)"
      ]
     },
     "execution_count": 62,
     "metadata": {},
     "output_type": "execute_result"
    }
   ],
   "source": [
    "modelo_nuevo.predict(X_test)[0]"
   ]
  },
  {
   "cell_type": "code",
   "execution_count": null,
   "id": "434d501d",
   "metadata": {},
   "outputs": [],
   "source": []
  },
  {
   "cell_type": "code",
   "execution_count": null,
   "id": "ca32b45d",
   "metadata": {},
   "outputs": [],
   "source": []
  }
 ],
 "metadata": {
  "kernelspec": {
   "display_name": "Python 3 (ipykernel)",
   "language": "python",
   "name": "python3"
  },
  "language_info": {
   "codemirror_mode": {
    "name": "ipython",
    "version": 3
   },
   "file_extension": ".py",
   "mimetype": "text/x-python",
   "name": "python",
   "nbconvert_exporter": "python",
   "pygments_lexer": "ipython3",
   "version": "3.10.9"
  }
 },
 "nbformat": 4,
 "nbformat_minor": 5
}
