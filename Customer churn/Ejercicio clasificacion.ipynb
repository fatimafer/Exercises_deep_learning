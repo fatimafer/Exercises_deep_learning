{
 "cells": [
  {
   "cell_type": "code",
   "execution_count": 1,
   "id": "920a8b2a",
   "metadata": {},
   "outputs": [],
   "source": [
    "# librerias\n",
    "\n",
    "import warnings\n",
    "warnings.filterwarnings('ignore')\n",
    "\n",
    "import pandas as pd\n",
    "import seaborn as sns\n",
    "import matplotlib.pyplot as plt\n",
    "from datetime import date, time, datetime, timedelta\n",
    "import numpy as np\n",
    "\n",
    "from keras import Sequential, Input\n",
    "from keras.layers import Flatten, Dense\n",
    "\n",
    "import numpy as np\n",
    "\n",
    "import pylab as plt\n",
    "import seaborn as sns\n",
    "\n",
    "from sklearn.model_selection import train_test_split as tts\n",
    "from sklearn.preprocessing import StandardScaler\n",
    "\n",
    "from sklearn.metrics import confusion_matrix as cm\n",
    "from sklearn.metrics import classification_report as report"
   ]
  },
  {
   "cell_type": "markdown",
   "id": "b44c512a",
   "metadata": {},
   "source": [
    "# Objetivo del análisis  \n",
    "El objetivo de este análisis es predecir la tasa de abandono de los clientes de una determinada compañía (Churn).\n",
    "- Tenemos que predecir si un cliente, según sus características abandonará la compañía (Churn = 1)\n",
    "- O por el contrario, permanecerá (Churn = 0)"
   ]
  },
  {
   "cell_type": "code",
   "execution_count": null,
   "id": "37e2fc64",
   "metadata": {},
   "outputs": [],
   "source": [
    "label_names = {0: 'Not churn', \n",
    "               1: 'churn'}"
   ]
  },
  {
   "cell_type": "markdown",
   "id": "90c805fb",
   "metadata": {},
   "source": [
    "Cargamos los datos de entrenamiento"
   ]
  },
  {
   "cell_type": "code",
   "execution_count": 2,
   "id": "3f6380e7",
   "metadata": {},
   "outputs": [],
   "source": [
    "df_training = pd.read_csv('customer_churn_dataset-training-master.csv')"
   ]
  },
  {
   "cell_type": "markdown",
   "id": "ce319f3c",
   "metadata": {},
   "source": [
    "Comprobamos si hay nulos"
   ]
  },
  {
   "cell_type": "code",
   "execution_count": 3,
   "id": "ff7eb7a0",
   "metadata": {},
   "outputs": [
    {
     "data": {
      "text/plain": [
       "CustomerID           1\n",
       "Age                  1\n",
       "Gender               1\n",
       "Tenure               1\n",
       "Usage Frequency      1\n",
       "Support Calls        1\n",
       "Payment Delay        1\n",
       "Subscription Type    1\n",
       "Contract Length      1\n",
       "Total Spend          1\n",
       "Last Interaction     1\n",
       "Churn                1\n",
       "dtype: int64"
      ]
     },
     "execution_count": 3,
     "metadata": {},
     "output_type": "execute_result"
    }
   ],
   "source": [
    "df_training.isna().sum()"
   ]
  },
  {
   "cell_type": "markdown",
   "id": "c322dd2e",
   "metadata": {},
   "source": [
    "Borramos los nulos"
   ]
  },
  {
   "cell_type": "code",
   "execution_count": 4,
   "id": "84e21bad",
   "metadata": {},
   "outputs": [],
   "source": [
    "df_training.dropna(inplace=True)"
   ]
  },
  {
   "cell_type": "markdown",
   "id": "1949ce98",
   "metadata": {},
   "source": [
    "Hacemos que la columna Customer ID sea el índice"
   ]
  },
  {
   "cell_type": "code",
   "execution_count": 5,
   "id": "31055ebc",
   "metadata": {},
   "outputs": [],
   "source": [
    "df_training['CustomerID'] = df_training['CustomerID'].astype(int)\n",
    "df_training.set_index('CustomerID', inplace=True)"
   ]
  },
  {
   "cell_type": "code",
   "execution_count": 6,
   "id": "58e1a7dc",
   "metadata": {
    "scrolled": true
   },
   "outputs": [
    {
     "data": {
      "text/html": [
       "<div>\n",
       "<style scoped>\n",
       "    .dataframe tbody tr th:only-of-type {\n",
       "        vertical-align: middle;\n",
       "    }\n",
       "\n",
       "    .dataframe tbody tr th {\n",
       "        vertical-align: top;\n",
       "    }\n",
       "\n",
       "    .dataframe thead th {\n",
       "        text-align: right;\n",
       "    }\n",
       "</style>\n",
       "<table border=\"1\" class=\"dataframe\">\n",
       "  <thead>\n",
       "    <tr style=\"text-align: right;\">\n",
       "      <th></th>\n",
       "      <th>Age</th>\n",
       "      <th>Gender</th>\n",
       "      <th>Tenure</th>\n",
       "      <th>Usage Frequency</th>\n",
       "      <th>Support Calls</th>\n",
       "      <th>Payment Delay</th>\n",
       "      <th>Subscription Type</th>\n",
       "      <th>Contract Length</th>\n",
       "      <th>Total Spend</th>\n",
       "      <th>Last Interaction</th>\n",
       "      <th>Churn</th>\n",
       "    </tr>\n",
       "    <tr>\n",
       "      <th>CustomerID</th>\n",
       "      <th></th>\n",
       "      <th></th>\n",
       "      <th></th>\n",
       "      <th></th>\n",
       "      <th></th>\n",
       "      <th></th>\n",
       "      <th></th>\n",
       "      <th></th>\n",
       "      <th></th>\n",
       "      <th></th>\n",
       "      <th></th>\n",
       "    </tr>\n",
       "  </thead>\n",
       "  <tbody>\n",
       "    <tr>\n",
       "      <th>2</th>\n",
       "      <td>30.0</td>\n",
       "      <td>Female</td>\n",
       "      <td>39.0</td>\n",
       "      <td>14.0</td>\n",
       "      <td>5.0</td>\n",
       "      <td>18.0</td>\n",
       "      <td>Standard</td>\n",
       "      <td>Annual</td>\n",
       "      <td>932.0</td>\n",
       "      <td>17.0</td>\n",
       "      <td>1.0</td>\n",
       "    </tr>\n",
       "    <tr>\n",
       "      <th>3</th>\n",
       "      <td>65.0</td>\n",
       "      <td>Female</td>\n",
       "      <td>49.0</td>\n",
       "      <td>1.0</td>\n",
       "      <td>10.0</td>\n",
       "      <td>8.0</td>\n",
       "      <td>Basic</td>\n",
       "      <td>Monthly</td>\n",
       "      <td>557.0</td>\n",
       "      <td>6.0</td>\n",
       "      <td>1.0</td>\n",
       "    </tr>\n",
       "    <tr>\n",
       "      <th>4</th>\n",
       "      <td>55.0</td>\n",
       "      <td>Female</td>\n",
       "      <td>14.0</td>\n",
       "      <td>4.0</td>\n",
       "      <td>6.0</td>\n",
       "      <td>18.0</td>\n",
       "      <td>Basic</td>\n",
       "      <td>Quarterly</td>\n",
       "      <td>185.0</td>\n",
       "      <td>3.0</td>\n",
       "      <td>1.0</td>\n",
       "    </tr>\n",
       "    <tr>\n",
       "      <th>5</th>\n",
       "      <td>58.0</td>\n",
       "      <td>Male</td>\n",
       "      <td>38.0</td>\n",
       "      <td>21.0</td>\n",
       "      <td>7.0</td>\n",
       "      <td>7.0</td>\n",
       "      <td>Standard</td>\n",
       "      <td>Monthly</td>\n",
       "      <td>396.0</td>\n",
       "      <td>29.0</td>\n",
       "      <td>1.0</td>\n",
       "    </tr>\n",
       "    <tr>\n",
       "      <th>6</th>\n",
       "      <td>23.0</td>\n",
       "      <td>Male</td>\n",
       "      <td>32.0</td>\n",
       "      <td>20.0</td>\n",
       "      <td>5.0</td>\n",
       "      <td>8.0</td>\n",
       "      <td>Basic</td>\n",
       "      <td>Monthly</td>\n",
       "      <td>617.0</td>\n",
       "      <td>20.0</td>\n",
       "      <td>1.0</td>\n",
       "    </tr>\n",
       "  </tbody>\n",
       "</table>\n",
       "</div>"
      ],
      "text/plain": [
       "             Age  Gender  Tenure  Usage Frequency  Support Calls  \\\n",
       "CustomerID                                                         \n",
       "2           30.0  Female    39.0             14.0            5.0   \n",
       "3           65.0  Female    49.0              1.0           10.0   \n",
       "4           55.0  Female    14.0              4.0            6.0   \n",
       "5           58.0    Male    38.0             21.0            7.0   \n",
       "6           23.0    Male    32.0             20.0            5.0   \n",
       "\n",
       "            Payment Delay Subscription Type Contract Length  Total Spend  \\\n",
       "CustomerID                                                                 \n",
       "2                    18.0          Standard          Annual        932.0   \n",
       "3                     8.0             Basic         Monthly        557.0   \n",
       "4                    18.0             Basic       Quarterly        185.0   \n",
       "5                     7.0          Standard         Monthly        396.0   \n",
       "6                     8.0             Basic         Monthly        617.0   \n",
       "\n",
       "            Last Interaction  Churn  \n",
       "CustomerID                           \n",
       "2                       17.0    1.0  \n",
       "3                        6.0    1.0  \n",
       "4                        3.0    1.0  \n",
       "5                       29.0    1.0  \n",
       "6                       20.0    1.0  "
      ]
     },
     "execution_count": 6,
     "metadata": {},
     "output_type": "execute_result"
    }
   ],
   "source": [
    "df_training.head()"
   ]
  },
  {
   "cell_type": "code",
   "execution_count": 7,
   "id": "21f80436",
   "metadata": {
    "scrolled": true
   },
   "outputs": [
    {
     "name": "stdout",
     "output_type": "stream",
     "text": [
      "<class 'pandas.core.frame.DataFrame'>\n",
      "Index: 440832 entries, 2 to 449999\n",
      "Data columns (total 11 columns):\n",
      " #   Column             Non-Null Count   Dtype  \n",
      "---  ------             --------------   -----  \n",
      " 0   Age                440832 non-null  float64\n",
      " 1   Gender             440832 non-null  object \n",
      " 2   Tenure             440832 non-null  float64\n",
      " 3   Usage Frequency    440832 non-null  float64\n",
      " 4   Support Calls      440832 non-null  float64\n",
      " 5   Payment Delay      440832 non-null  float64\n",
      " 6   Subscription Type  440832 non-null  object \n",
      " 7   Contract Length    440832 non-null  object \n",
      " 8   Total Spend        440832 non-null  float64\n",
      " 9   Last Interaction   440832 non-null  float64\n",
      " 10  Churn              440832 non-null  float64\n",
      "dtypes: float64(8), object(3)\n",
      "memory usage: 38.7+ MB\n"
     ]
    }
   ],
   "source": [
    "df_training.info()"
   ]
  },
  {
   "cell_type": "markdown",
   "id": "235d45a9",
   "metadata": {},
   "source": [
    "Convertimos las variables float a enteros porque todas son enteras"
   ]
  },
  {
   "cell_type": "code",
   "execution_count": 8,
   "id": "a25870cd",
   "metadata": {},
   "outputs": [],
   "source": [
    "df_training['Age'] = df_training['Age'].astype(int)\n",
    "df_training['Tenure'] = df_training['Tenure'].astype(int)\n",
    "df_training['Usage Frequency'] = df_training['Usage Frequency'].astype(int)\n",
    "df_training['Support Calls'] = df_training['Support Calls'].astype(int)\n",
    "df_training['Payment Delay'] = df_training['Payment Delay'].astype(int)\n",
    "df_training['Total Spend'] = df_training['Total Spend'].astype(int)\n",
    "df_training['Last Interaction'] = df_training['Last Interaction'].astype(int)\n",
    "df_training['Churn'] = df_training['Churn'].astype(int)"
   ]
  },
  {
   "cell_type": "markdown",
   "id": "87b55c82",
   "metadata": {},
   "source": [
    "Cambiamos los nombres de las variables Usage Frequency, Support Calls, Payment Delay, Subscription Type,  \n",
    "Contract Length, Total Spend y Last Interaction"
   ]
  },
  {
   "cell_type": "code",
   "execution_count": 9,
   "id": "4e1c12fa",
   "metadata": {},
   "outputs": [],
   "source": [
    "df_training.rename(columns = {'Usage Frequency':'Usage_Frequency', 'Support Calls':'Support_Calls', 'Payment Delay':'Payment_Delay', 'Subscription Type':'Subscription_Type', 'Contract Length':'Contract_Length', 'Total Spend':'Total_Spend', 'Last Interaction':'Last_Interaction'}, inplace=True)"
   ]
  },
  {
   "cell_type": "markdown",
   "id": "9c7527aa",
   "metadata": {},
   "source": [
    "Vamos a observar las variables categóricas que nos quedan"
   ]
  },
  {
   "cell_type": "code",
   "execution_count": 10,
   "id": "83755a7c",
   "metadata": {
    "scrolled": true
   },
   "outputs": [
    {
     "data": {
      "image/png": "[encoded data removed]",
      "text/plain": [
       "<Figure size 500x1500 with 3 Axes>"
      ]
     },
     "metadata": {},
     "output_type": "display_data"
    }
   ],
   "source": [
    "fig, ax = plt.subplots(nrows=3, ncols=1, figsize=(5,15))\n",
    "fig.subplots_adjust(hspace=0.5)\n",
    "\n",
    "for i, col in enumerate(['Gender','Subscription_Type','Contract_Length']):\n",
    "  sns.countplot(x=col, data=df_training, ax=ax[i])\n",
    "  ax[i].set_xticklabels(ax[i].get_xticklabels(), rotation=90)"
   ]
  },
  {
   "cell_type": "markdown",
   "id": "3ef2d946",
   "metadata": {},
   "source": [
    "Vamos a cambiar Contract_Length a numérica que indique los días de contrato en meses\n",
    "- 12 si es un año\n",
    "- 3 si es 1/4 de año\n",
    "- 1 si es un mes"
   ]
  },
  {
   "cell_type": "code",
   "execution_count": 11,
   "id": "79656182",
   "metadata": {},
   "outputs": [],
   "source": [
    "def agrupacion(x):\n",
    "    if x == 'Annual':\n",
    "        return 12\n",
    "    elif x == 'Quarterly':\n",
    "        return 3\n",
    "    elif x == 'Monthly':\n",
    "        return 1\n",
    "    else:\n",
    "        return x\n",
    "df_training['Contract_Length']=df_training['Contract_Length'].apply(agrupacion)"
   ]
  },
  {
   "cell_type": "markdown",
   "id": "74e69c0c",
   "metadata": {},
   "source": [
    "Vamos a cambiar Subcription_Type a numérica de tal manera que tenga un valor más alto si la suscripción es Premium\n",
    "- 3 si es un Premium\n",
    "- 2 si es Estándar\n",
    "- 1 si es Basic"
   ]
  },
  {
   "cell_type": "code",
   "execution_count": 12,
   "id": "d98c4284",
   "metadata": {},
   "outputs": [],
   "source": [
    "def agrupacion(x):\n",
    "    if x == 'Premium':\n",
    "        return 3\n",
    "    elif x == 'Standard':\n",
    "        return 2\n",
    "    elif x == 'Basic':\n",
    "        return 1\n",
    "    else:\n",
    "        return x\n",
    "df_training['Subscription_Type']=df_training['Subscription_Type'].apply(agrupacion)"
   ]
  },
  {
   "cell_type": "markdown",
   "id": "a55a6b00",
   "metadata": {},
   "source": [
    "Convertimos la variable género a dummies"
   ]
  },
  {
   "cell_type": "code",
   "execution_count": 13,
   "id": "0392f8b4",
   "metadata": {},
   "outputs": [],
   "source": [
    "df_training = pd.get_dummies(df_training, columns=['Gender'])"
   ]
  },
  {
   "cell_type": "markdown",
   "id": "59962a39",
   "metadata": {},
   "source": [
    "Mantenemos la columna Gender_Male"
   ]
  },
  {
   "cell_type": "code",
   "execution_count": 14,
   "id": "5877fb33",
   "metadata": {},
   "outputs": [],
   "source": [
    "df_training.drop('Gender_Female', axis=1, inplace=True)"
   ]
  },
  {
   "cell_type": "code",
   "execution_count": 15,
   "id": "977ac756",
   "metadata": {
    "scrolled": true
   },
   "outputs": [
    {
     "data": {
      "text/html": [
       "<div>\n",
       "<style scoped>\n",
       "    .dataframe tbody tr th:only-of-type {\n",
       "        vertical-align: middle;\n",
       "    }\n",
       "\n",
       "    .dataframe tbody tr th {\n",
       "        vertical-align: top;\n",
       "    }\n",
       "\n",
       "    .dataframe thead th {\n",
       "        text-align: right;\n",
       "    }\n",
       "</style>\n",
       "<table border=\"1\" class=\"dataframe\">\n",
       "  <thead>\n",
       "    <tr style=\"text-align: right;\">\n",
       "      <th></th>\n",
       "      <th>Age</th>\n",
       "      <th>Tenure</th>\n",
       "      <th>Usage_Frequency</th>\n",
       "      <th>Support_Calls</th>\n",
       "      <th>Payment_Delay</th>\n",
       "      <th>Subscription_Type</th>\n",
       "      <th>Contract_Length</th>\n",
       "      <th>Total_Spend</th>\n",
       "      <th>Last_Interaction</th>\n",
       "      <th>Churn</th>\n",
       "      <th>Gender_Male</th>\n",
       "    </tr>\n",
       "    <tr>\n",
       "      <th>CustomerID</th>\n",
       "      <th></th>\n",
       "      <th></th>\n",
       "      <th></th>\n",
       "      <th></th>\n",
       "      <th></th>\n",
       "      <th></th>\n",
       "      <th></th>\n",
       "      <th></th>\n",
       "      <th></th>\n",
       "      <th></th>\n",
       "      <th></th>\n",
       "    </tr>\n",
       "  </thead>\n",
       "  <tbody>\n",
       "    <tr>\n",
       "      <th>2</th>\n",
       "      <td>30</td>\n",
       "      <td>39</td>\n",
       "      <td>14</td>\n",
       "      <td>5</td>\n",
       "      <td>18</td>\n",
       "      <td>2</td>\n",
       "      <td>12</td>\n",
       "      <td>932</td>\n",
       "      <td>17</td>\n",
       "      <td>1</td>\n",
       "      <td>False</td>\n",
       "    </tr>\n",
       "    <tr>\n",
       "      <th>3</th>\n",
       "      <td>65</td>\n",
       "      <td>49</td>\n",
       "      <td>1</td>\n",
       "      <td>10</td>\n",
       "      <td>8</td>\n",
       "      <td>1</td>\n",
       "      <td>1</td>\n",
       "      <td>557</td>\n",
       "      <td>6</td>\n",
       "      <td>1</td>\n",
       "      <td>False</td>\n",
       "    </tr>\n",
       "    <tr>\n",
       "      <th>4</th>\n",
       "      <td>55</td>\n",
       "      <td>14</td>\n",
       "      <td>4</td>\n",
       "      <td>6</td>\n",
       "      <td>18</td>\n",
       "      <td>1</td>\n",
       "      <td>3</td>\n",
       "      <td>185</td>\n",
       "      <td>3</td>\n",
       "      <td>1</td>\n",
       "      <td>False</td>\n",
       "    </tr>\n",
       "    <tr>\n",
       "      <th>5</th>\n",
       "      <td>58</td>\n",
       "      <td>38</td>\n",
       "      <td>21</td>\n",
       "      <td>7</td>\n",
       "      <td>7</td>\n",
       "      <td>2</td>\n",
       "      <td>1</td>\n",
       "      <td>396</td>\n",
       "      <td>29</td>\n",
       "      <td>1</td>\n",
       "      <td>True</td>\n",
       "    </tr>\n",
       "    <tr>\n",
       "      <th>6</th>\n",
       "      <td>23</td>\n",
       "      <td>32</td>\n",
       "      <td>20</td>\n",
       "      <td>5</td>\n",
       "      <td>8</td>\n",
       "      <td>1</td>\n",
       "      <td>1</td>\n",
       "      <td>617</td>\n",
       "      <td>20</td>\n",
       "      <td>1</td>\n",
       "      <td>True</td>\n",
       "    </tr>\n",
       "  </tbody>\n",
       "</table>\n",
       "</div>"
      ],
      "text/plain": [
       "            Age  Tenure  Usage_Frequency  Support_Calls  Payment_Delay  \\\n",
       "CustomerID                                                               \n",
       "2            30      39               14              5             18   \n",
       "3            65      49                1             10              8   \n",
       "4            55      14                4              6             18   \n",
       "5            58      38               21              7              7   \n",
       "6            23      32               20              5              8   \n",
       "\n",
       "            Subscription_Type  Contract_Length  Total_Spend  Last_Interaction  \\\n",
       "CustomerID                                                                      \n",
       "2                           2               12          932                17   \n",
       "3                           1                1          557                 6   \n",
       "4                           1                3          185                 3   \n",
       "5                           2                1          396                29   \n",
       "6                           1                1          617                20   \n",
       "\n",
       "            Churn  Gender_Male  \n",
       "CustomerID                      \n",
       "2               1        False  \n",
       "3               1        False  \n",
       "4               1        False  \n",
       "5               1         True  \n",
       "6               1         True  "
      ]
     },
     "execution_count": 15,
     "metadata": {},
     "output_type": "execute_result"
    }
   ],
   "source": [
    "df_training.head()"
   ]
  },
  {
   "cell_type": "code",
   "execution_count": 16,
   "id": "0a65fb5d",
   "metadata": {},
   "outputs": [
    {
     "name": "stdout",
     "output_type": "stream",
     "text": [
      "<class 'pandas.core.frame.DataFrame'>\n",
      "Index: 440832 entries, 2 to 449999\n",
      "Data columns (total 11 columns):\n",
      " #   Column             Non-Null Count   Dtype\n",
      "---  ------             --------------   -----\n",
      " 0   Age                440832 non-null  int32\n",
      " 1   Tenure             440832 non-null  int32\n",
      " 2   Usage_Frequency    440832 non-null  int32\n",
      " 3   Support_Calls      440832 non-null  int32\n",
      " 4   Payment_Delay      440832 non-null  int32\n",
      " 5   Subscription_Type  440832 non-null  int64\n",
      " 6   Contract_Length    440832 non-null  int64\n",
      " 7   Total_Spend        440832 non-null  int32\n",
      " 8   Last_Interaction   440832 non-null  int32\n",
      " 9   Churn              440832 non-null  int32\n",
      " 10  Gender_Male        440832 non-null  bool \n",
      "dtypes: bool(1), int32(8), int64(2)\n",
      "memory usage: 22.3 MB\n"
     ]
    }
   ],
   "source": [
    "df_training.info()"
   ]
  },
  {
   "cell_type": "markdown",
   "id": "f7489a0d",
   "metadata": {},
   "source": [
    "Examinamos los atípicos"
   ]
  },
  {
   "cell_type": "code",
   "execution_count": 17,
   "id": "467e3f60",
   "metadata": {
    "scrolled": true
   },
   "outputs": [
    {
     "data": {
      "image/png": "[encoded data removed]",
      "text/plain": [
       "<Figure size 1600x2000 with 9 Axes>"
      ]
     },
     "metadata": {},
     "output_type": "display_data"
    }
   ],
   "source": [
    "fig, ax = plt.subplots(nrows=9, ncols=1, figsize=(16,20))\n",
    "fig.subplots_adjust(hspace=1)\n",
    "for i, col in enumerate(['Age', 'Tenure', 'Usage_Frequency', 'Support_Calls',\n",
    "       'Payment_Delay', 'Contract_Length', 'Total_Spend',\n",
    "       'Last_Interaction', 'Churn']):\n",
    "    sns.boxplot(x=col, data=df_training, ax=ax[i])\n",
    "    ax[i].xaxis.set_major_locator(plt.MaxNLocator(nbins=10)) "
   ]
  },
  {
   "cell_type": "markdown",
   "id": "5b845482",
   "metadata": {},
   "source": [
    "No hay atípicos, así que la limpieza está finalizada"
   ]
  },
  {
   "cell_type": "markdown",
   "id": "d459a5f8",
   "metadata": {},
   "source": [
    "Cargamos el dataset de test"
   ]
  },
  {
   "cell_type": "code",
   "execution_count": 18,
   "id": "1d3fa131",
   "metadata": {},
   "outputs": [],
   "source": [
    "df_testing = pd.read_csv('customer_churn_dataset-testing-master.csv')"
   ]
  },
  {
   "cell_type": "markdown",
   "id": "b12e6dc4",
   "metadata": {},
   "source": [
    "Comprobamos si hay nulos"
   ]
  },
  {
   "cell_type": "code",
   "execution_count": 19,
   "id": "acf4daaa",
   "metadata": {
    "scrolled": true
   },
   "outputs": [
    {
     "data": {
      "text/plain": [
       "CustomerID           0\n",
       "Age                  0\n",
       "Gender               0\n",
       "Tenure               0\n",
       "Usage Frequency      0\n",
       "Support Calls        0\n",
       "Payment Delay        0\n",
       "Subscription Type    0\n",
       "Contract Length      0\n",
       "Total Spend          0\n",
       "Last Interaction     0\n",
       "Churn                0\n",
       "dtype: int64"
      ]
     },
     "execution_count": 19,
     "metadata": {},
     "output_type": "execute_result"
    }
   ],
   "source": [
    "df_testing.isna().sum()"
   ]
  },
  {
   "cell_type": "markdown",
   "id": "f295f96f",
   "metadata": {},
   "source": [
    "Hacemos que customerID sea la columna índice"
   ]
  },
  {
   "cell_type": "code",
   "execution_count": 20,
   "id": "3fa3fc9f",
   "metadata": {},
   "outputs": [],
   "source": [
    "df_testing['CustomerID'] = df_testing['CustomerID'].astype(int)\n",
    "df_testing.set_index('CustomerID', inplace=True)"
   ]
  },
  {
   "cell_type": "code",
   "execution_count": 21,
   "id": "e3be0dab",
   "metadata": {
    "scrolled": false
   },
   "outputs": [
    {
     "data": {
      "text/html": [
       "<div>\n",
       "<style scoped>\n",
       "    .dataframe tbody tr th:only-of-type {\n",
       "        vertical-align: middle;\n",
       "    }\n",
       "\n",
       "    .dataframe tbody tr th {\n",
       "        vertical-align: top;\n",
       "    }\n",
       "\n",
       "    .dataframe thead th {\n",
       "        text-align: right;\n",
       "    }\n",
       "</style>\n",
       "<table border=\"1\" class=\"dataframe\">\n",
       "  <thead>\n",
       "    <tr style=\"text-align: right;\">\n",
       "      <th></th>\n",
       "      <th>Age</th>\n",
       "      <th>Gender</th>\n",
       "      <th>Tenure</th>\n",
       "      <th>Usage Frequency</th>\n",
       "      <th>Support Calls</th>\n",
       "      <th>Payment Delay</th>\n",
       "      <th>Subscription Type</th>\n",
       "      <th>Contract Length</th>\n",
       "      <th>Total Spend</th>\n",
       "      <th>Last Interaction</th>\n",
       "      <th>Churn</th>\n",
       "    </tr>\n",
       "    <tr>\n",
       "      <th>CustomerID</th>\n",
       "      <th></th>\n",
       "      <th></th>\n",
       "      <th></th>\n",
       "      <th></th>\n",
       "      <th></th>\n",
       "      <th></th>\n",
       "      <th></th>\n",
       "      <th></th>\n",
       "      <th></th>\n",
       "      <th></th>\n",
       "      <th></th>\n",
       "    </tr>\n",
       "  </thead>\n",
       "  <tbody>\n",
       "    <tr>\n",
       "      <th>1</th>\n",
       "      <td>22</td>\n",
       "      <td>Female</td>\n",
       "      <td>25</td>\n",
       "      <td>14</td>\n",
       "      <td>4</td>\n",
       "      <td>27</td>\n",
       "      <td>Basic</td>\n",
       "      <td>Monthly</td>\n",
       "      <td>598</td>\n",
       "      <td>9</td>\n",
       "      <td>1</td>\n",
       "    </tr>\n",
       "    <tr>\n",
       "      <th>2</th>\n",
       "      <td>41</td>\n",
       "      <td>Female</td>\n",
       "      <td>28</td>\n",
       "      <td>28</td>\n",
       "      <td>7</td>\n",
       "      <td>13</td>\n",
       "      <td>Standard</td>\n",
       "      <td>Monthly</td>\n",
       "      <td>584</td>\n",
       "      <td>20</td>\n",
       "      <td>0</td>\n",
       "    </tr>\n",
       "    <tr>\n",
       "      <th>3</th>\n",
       "      <td>47</td>\n",
       "      <td>Male</td>\n",
       "      <td>27</td>\n",
       "      <td>10</td>\n",
       "      <td>2</td>\n",
       "      <td>29</td>\n",
       "      <td>Premium</td>\n",
       "      <td>Annual</td>\n",
       "      <td>757</td>\n",
       "      <td>21</td>\n",
       "      <td>0</td>\n",
       "    </tr>\n",
       "    <tr>\n",
       "      <th>4</th>\n",
       "      <td>35</td>\n",
       "      <td>Male</td>\n",
       "      <td>9</td>\n",
       "      <td>12</td>\n",
       "      <td>5</td>\n",
       "      <td>17</td>\n",
       "      <td>Premium</td>\n",
       "      <td>Quarterly</td>\n",
       "      <td>232</td>\n",
       "      <td>18</td>\n",
       "      <td>0</td>\n",
       "    </tr>\n",
       "    <tr>\n",
       "      <th>5</th>\n",
       "      <td>53</td>\n",
       "      <td>Female</td>\n",
       "      <td>58</td>\n",
       "      <td>24</td>\n",
       "      <td>9</td>\n",
       "      <td>2</td>\n",
       "      <td>Standard</td>\n",
       "      <td>Annual</td>\n",
       "      <td>533</td>\n",
       "      <td>18</td>\n",
       "      <td>0</td>\n",
       "    </tr>\n",
       "  </tbody>\n",
       "</table>\n",
       "</div>"
      ],
      "text/plain": [
       "            Age  Gender  Tenure  Usage Frequency  Support Calls  \\\n",
       "CustomerID                                                        \n",
       "1            22  Female      25               14              4   \n",
       "2            41  Female      28               28              7   \n",
       "3            47    Male      27               10              2   \n",
       "4            35    Male       9               12              5   \n",
       "5            53  Female      58               24              9   \n",
       "\n",
       "            Payment Delay Subscription Type Contract Length  Total Spend  \\\n",
       "CustomerID                                                                 \n",
       "1                      27             Basic         Monthly          598   \n",
       "2                      13          Standard         Monthly          584   \n",
       "3                      29           Premium          Annual          757   \n",
       "4                      17           Premium       Quarterly          232   \n",
       "5                       2          Standard          Annual          533   \n",
       "\n",
       "            Last Interaction  Churn  \n",
       "CustomerID                           \n",
       "1                          9      1  \n",
       "2                         20      0  \n",
       "3                         21      0  \n",
       "4                         18      0  \n",
       "5                         18      0  "
      ]
     },
     "execution_count": 21,
     "metadata": {},
     "output_type": "execute_result"
    }
   ],
   "source": [
    "df_testing.head()"
   ]
  },
  {
   "cell_type": "code",
   "execution_count": 22,
   "id": "ec16b3f0",
   "metadata": {},
   "outputs": [
    {
     "name": "stdout",
     "output_type": "stream",
     "text": [
      "<class 'pandas.core.frame.DataFrame'>\n",
      "Index: 64374 entries, 1 to 64374\n",
      "Data columns (total 11 columns):\n",
      " #   Column             Non-Null Count  Dtype \n",
      "---  ------             --------------  ----- \n",
      " 0   Age                64374 non-null  int64 \n",
      " 1   Gender             64374 non-null  object\n",
      " 2   Tenure             64374 non-null  int64 \n",
      " 3   Usage Frequency    64374 non-null  int64 \n",
      " 4   Support Calls      64374 non-null  int64 \n",
      " 5   Payment Delay      64374 non-null  int64 \n",
      " 6   Subscription Type  64374 non-null  object\n",
      " 7   Contract Length    64374 non-null  object\n",
      " 8   Total Spend        64374 non-null  int64 \n",
      " 9   Last Interaction   64374 non-null  int64 \n",
      " 10  Churn              64374 non-null  int64 \n",
      "dtypes: int64(8), object(3)\n",
      "memory usage: 5.6+ MB\n"
     ]
    }
   ],
   "source": [
    "df_testing.info()"
   ]
  },
  {
   "cell_type": "markdown",
   "id": "4ae109f5",
   "metadata": {},
   "source": [
    "Cambiamos los nombres de las variables Usage Frequency, Support Calls, Payment Delay, Subscription Type,  \n",
    "Contract Length, Total Spend y Last Interaction"
   ]
  },
  {
   "cell_type": "code",
   "execution_count": 23,
   "id": "615386c1",
   "metadata": {},
   "outputs": [],
   "source": [
    "df_testing.rename(columns = {'Usage Frequency':'Usage_Frequency', 'Support Calls':'Support_Calls', 'Payment Delay':'Payment_Delay', 'Subscription Type':'Subscription_Type', 'Contract Length':'Contract_Length', 'Total Spend':'Total_Spend', 'Last Interaction':'Last_Interaction'}, inplace=True)"
   ]
  },
  {
   "cell_type": "markdown",
   "id": "f73db830",
   "metadata": {},
   "source": [
    "Vamos a observar las variables categóricas que nos quedan"
   ]
  },
  {
   "cell_type": "code",
   "execution_count": 24,
   "id": "c43da0fe",
   "metadata": {},
   "outputs": [
    {
     "data": {
      "image/png": "[encoded data removed]",
      "text/plain": [
       "<Figure size 500x1500 with 3 Axes>"
      ]
     },
     "metadata": {},
     "output_type": "display_data"
    }
   ],
   "source": [
    "fig, ax = plt.subplots(nrows=3, ncols=1, figsize=(5,15))\n",
    "fig.subplots_adjust(hspace=0.5)\n",
    "\n",
    "for i, col in enumerate(['Gender','Subscription_Type','Contract_Length']):\n",
    "  sns.countplot(x=col, data=df_testing, ax=ax[i])\n",
    "  ax[i].set_xticklabels(ax[i].get_xticklabels(), rotation=90)"
   ]
  },
  {
   "cell_type": "markdown",
   "id": "a77b22f3",
   "metadata": {},
   "source": [
    "Vamos a cambiar Contract_Length a numérica que indique los días de contrato en meses\n",
    "- 12 si es un año\n",
    "- 3 si es 1/4 de año\n",
    "- 1 si es un mes"
   ]
  },
  {
   "cell_type": "code",
   "execution_count": 25,
   "id": "29a8d23f",
   "metadata": {},
   "outputs": [],
   "source": [
    "def agrupacion(x):\n",
    "    if x == 'Annual':\n",
    "        return 12\n",
    "    elif x == 'Quarterly':\n",
    "        return 3\n",
    "    elif x == 'Monthly':\n",
    "        return 1\n",
    "    else:\n",
    "        return x\n",
    "df_testing['Contract_Length']=df_testing['Contract_Length'].apply(agrupacion)"
   ]
  },
  {
   "cell_type": "markdown",
   "id": "50eda043",
   "metadata": {},
   "source": [
    "Vamos a cambiar Subcription_Type a numérica de tal manera que tenga un valor más alto si la suscripción es Premium\n",
    "- 3 si es un Premium\n",
    "- 2 si es Estándar\n",
    "- 1 si es Basic"
   ]
  },
  {
   "cell_type": "code",
   "execution_count": 26,
   "id": "1f01bf73",
   "metadata": {},
   "outputs": [],
   "source": [
    "def agrupacion(x):\n",
    "    if x == 'Premium':\n",
    "        return 3\n",
    "    elif x == 'Standard':\n",
    "        return 2\n",
    "    elif x == 'Basic':\n",
    "        return 1\n",
    "    else:\n",
    "        return x\n",
    "df_testing['Subscription_Type']=df_testing['Subscription_Type'].apply(agrupacion)"
   ]
  },
  {
   "cell_type": "markdown",
   "id": "44a46b6d",
   "metadata": {},
   "source": [
    "Convertimos la variable género a dummies"
   ]
  },
  {
   "cell_type": "code",
   "execution_count": 27,
   "id": "755b5731",
   "metadata": {},
   "outputs": [],
   "source": [
    "df_testing = pd.get_dummies(df_testing, columns=['Gender'])"
   ]
  },
  {
   "cell_type": "markdown",
   "id": "ce4b1f43",
   "metadata": {},
   "source": [
    "Mantenemos la columna Gender_Male"
   ]
  },
  {
   "cell_type": "code",
   "execution_count": 28,
   "id": "fd2ea8c9",
   "metadata": {},
   "outputs": [],
   "source": [
    "df_testing.drop('Gender_Female', axis=1, inplace=True)"
   ]
  },
  {
   "cell_type": "code",
   "execution_count": 29,
   "id": "ee6c664c",
   "metadata": {},
   "outputs": [
    {
     "data": {
      "text/html": [
       "<div>\n",
       "<style scoped>\n",
       "    .dataframe tbody tr th:only-of-type {\n",
       "        vertical-align: middle;\n",
       "    }\n",
       "\n",
       "    .dataframe tbody tr th {\n",
       "        vertical-align: top;\n",
       "    }\n",
       "\n",
       "    .dataframe thead th {\n",
       "        text-align: right;\n",
       "    }\n",
       "</style>\n",
       "<table border=\"1\" class=\"dataframe\">\n",
       "  <thead>\n",
       "    <tr style=\"text-align: right;\">\n",
       "      <th></th>\n",
       "      <th>Age</th>\n",
       "      <th>Tenure</th>\n",
       "      <th>Usage_Frequency</th>\n",
       "      <th>Support_Calls</th>\n",
       "      <th>Payment_Delay</th>\n",
       "      <th>Subscription_Type</th>\n",
       "      <th>Contract_Length</th>\n",
       "      <th>Total_Spend</th>\n",
       "      <th>Last_Interaction</th>\n",
       "      <th>Churn</th>\n",
       "      <th>Gender_Male</th>\n",
       "    </tr>\n",
       "    <tr>\n",
       "      <th>CustomerID</th>\n",
       "      <th></th>\n",
       "      <th></th>\n",
       "      <th></th>\n",
       "      <th></th>\n",
       "      <th></th>\n",
       "      <th></th>\n",
       "      <th></th>\n",
       "      <th></th>\n",
       "      <th></th>\n",
       "      <th></th>\n",
       "      <th></th>\n",
       "    </tr>\n",
       "  </thead>\n",
       "  <tbody>\n",
       "    <tr>\n",
       "      <th>1</th>\n",
       "      <td>22</td>\n",
       "      <td>25</td>\n",
       "      <td>14</td>\n",
       "      <td>4</td>\n",
       "      <td>27</td>\n",
       "      <td>1</td>\n",
       "      <td>1</td>\n",
       "      <td>598</td>\n",
       "      <td>9</td>\n",
       "      <td>1</td>\n",
       "      <td>False</td>\n",
       "    </tr>\n",
       "    <tr>\n",
       "      <th>2</th>\n",
       "      <td>41</td>\n",
       "      <td>28</td>\n",
       "      <td>28</td>\n",
       "      <td>7</td>\n",
       "      <td>13</td>\n",
       "      <td>2</td>\n",
       "      <td>1</td>\n",
       "      <td>584</td>\n",
       "      <td>20</td>\n",
       "      <td>0</td>\n",
       "      <td>False</td>\n",
       "    </tr>\n",
       "    <tr>\n",
       "      <th>3</th>\n",
       "      <td>47</td>\n",
       "      <td>27</td>\n",
       "      <td>10</td>\n",
       "      <td>2</td>\n",
       "      <td>29</td>\n",
       "      <td>3</td>\n",
       "      <td>12</td>\n",
       "      <td>757</td>\n",
       "      <td>21</td>\n",
       "      <td>0</td>\n",
       "      <td>True</td>\n",
       "    </tr>\n",
       "    <tr>\n",
       "      <th>4</th>\n",
       "      <td>35</td>\n",
       "      <td>9</td>\n",
       "      <td>12</td>\n",
       "      <td>5</td>\n",
       "      <td>17</td>\n",
       "      <td>3</td>\n",
       "      <td>3</td>\n",
       "      <td>232</td>\n",
       "      <td>18</td>\n",
       "      <td>0</td>\n",
       "      <td>True</td>\n",
       "    </tr>\n",
       "    <tr>\n",
       "      <th>5</th>\n",
       "      <td>53</td>\n",
       "      <td>58</td>\n",
       "      <td>24</td>\n",
       "      <td>9</td>\n",
       "      <td>2</td>\n",
       "      <td>2</td>\n",
       "      <td>12</td>\n",
       "      <td>533</td>\n",
       "      <td>18</td>\n",
       "      <td>0</td>\n",
       "      <td>False</td>\n",
       "    </tr>\n",
       "  </tbody>\n",
       "</table>\n",
       "</div>"
      ],
      "text/plain": [
       "            Age  Tenure  Usage_Frequency  Support_Calls  Payment_Delay  \\\n",
       "CustomerID                                                               \n",
       "1            22      25               14              4             27   \n",
       "2            41      28               28              7             13   \n",
       "3            47      27               10              2             29   \n",
       "4            35       9               12              5             17   \n",
       "5            53      58               24              9              2   \n",
       "\n",
       "            Subscription_Type  Contract_Length  Total_Spend  Last_Interaction  \\\n",
       "CustomerID                                                                      \n",
       "1                           1                1          598                 9   \n",
       "2                           2                1          584                20   \n",
       "3                           3               12          757                21   \n",
       "4                           3                3          232                18   \n",
       "5                           2               12          533                18   \n",
       "\n",
       "            Churn  Gender_Male  \n",
       "CustomerID                      \n",
       "1               1        False  \n",
       "2               0        False  \n",
       "3               0         True  \n",
       "4               0         True  \n",
       "5               0        False  "
      ]
     },
     "execution_count": 29,
     "metadata": {},
     "output_type": "execute_result"
    }
   ],
   "source": [
    "df_testing.head()"
   ]
  },
  {
   "cell_type": "code",
   "execution_count": 30,
   "id": "606f787d",
   "metadata": {},
   "outputs": [
    {
     "name": "stdout",
     "output_type": "stream",
     "text": [
      "<class 'pandas.core.frame.DataFrame'>\n",
      "Index: 64374 entries, 1 to 64374\n",
      "Data columns (total 11 columns):\n",
      " #   Column             Non-Null Count  Dtype\n",
      "---  ------             --------------  -----\n",
      " 0   Age                64374 non-null  int64\n",
      " 1   Tenure             64374 non-null  int64\n",
      " 2   Usage_Frequency    64374 non-null  int64\n",
      " 3   Support_Calls      64374 non-null  int64\n",
      " 4   Payment_Delay      64374 non-null  int64\n",
      " 5   Subscription_Type  64374 non-null  int64\n",
      " 6   Contract_Length    64374 non-null  int64\n",
      " 7   Total_Spend        64374 non-null  int64\n",
      " 8   Last_Interaction   64374 non-null  int64\n",
      " 9   Churn              64374 non-null  int64\n",
      " 10  Gender_Male        64374 non-null  bool \n",
      "dtypes: bool(1), int64(10)\n",
      "memory usage: 5.2 MB\n"
     ]
    }
   ],
   "source": [
    "df_testing.info()"
   ]
  },
  {
   "cell_type": "markdown",
   "id": "96fdf38b",
   "metadata": {},
   "source": [
    "Examinamos los atípicos"
   ]
  },
  {
   "cell_type": "code",
   "execution_count": 31,
   "id": "53e3566e",
   "metadata": {},
   "outputs": [
    {
     "data": {
      "image/png": "[encoded data removed]",
      "text/plain": [
       "<Figure size 1600x2000 with 9 Axes>"
      ]
     },
     "metadata": {},
     "output_type": "display_data"
    }
   ],
   "source": [
    "fig, ax = plt.subplots(nrows=9, ncols=1, figsize=(16,20))\n",
    "fig.subplots_adjust(hspace=1)\n",
    "for i, col in enumerate(['Age', 'Tenure', 'Usage_Frequency', 'Support_Calls',\n",
    "       'Payment_Delay', 'Contract_Length', 'Total_Spend',\n",
    "       'Last_Interaction', 'Churn']):\n",
    "    sns.boxplot(x=col, data=df_testing, ax=ax[i])\n",
    "    ax[i].xaxis.set_major_locator(plt.MaxNLocator(nbins=10)) "
   ]
  },
  {
   "cell_type": "markdown",
   "id": "6bd5859e",
   "metadata": {},
   "source": [
    "No hay atípicos, así que la limpieza está finalizada"
   ]
  },
  {
   "cell_type": "markdown",
   "id": "da69a198",
   "metadata": {},
   "source": [
    "Juntamos los dos datasets"
   ]
  },
  {
   "cell_type": "code",
   "execution_count": 32,
   "id": "07704e5f",
   "metadata": {},
   "outputs": [],
   "source": [
    "df_completo = pd.concat([df_training,df_testing],join='inner')"
   ]
  },
  {
   "cell_type": "markdown",
   "id": "738cea1c",
   "metadata": {},
   "source": [
    "**Caraga de datos**"
   ]
  },
  {
   "cell_type": "code",
   "execution_count": 33,
   "id": "0f84d7cc",
   "metadata": {},
   "outputs": [],
   "source": [
    "X = df_completo.drop('Churn', axis=1)\n",
    "y = df_completo.Churn"
   ]
  },
  {
   "cell_type": "code",
   "execution_count": 34,
   "id": "0e8088d4",
   "metadata": {},
   "outputs": [],
   "source": [
    "X_train = df_training.drop('Churn', axis=1)\n",
    "y_train = df_training.Churn"
   ]
  },
  {
   "cell_type": "code",
   "execution_count": 35,
   "id": "3d179e27",
   "metadata": {},
   "outputs": [],
   "source": [
    "X_test = df_testing.drop('Churn', axis=1)\n",
    "y_test = df_testing.Churn"
   ]
  },
  {
   "cell_type": "code",
   "execution_count": 36,
   "id": "f09371f3",
   "metadata": {},
   "outputs": [
    {
     "data": {
      "text/plain": [
       "((440832, 10), (64374, 10), (440832,), (64374,))"
      ]
     },
     "execution_count": 36,
     "metadata": {},
     "output_type": "execute_result"
    }
   ],
   "source": [
    "# Este es el tamaño de nuestos dataset de entrenamiento y prueba\n",
    "X_train.shape, X_test.shape, y_train.shape, y_test.shape"
   ]
  },
  {
   "cell_type": "markdown",
   "id": "5da3ff20",
   "metadata": {},
   "source": [
    "### Exploración de los datos"
   ]
  },
  {
   "cell_type": "code",
   "execution_count": 37,
   "id": "b2592971",
   "metadata": {},
   "outputs": [
    {
     "data": {
      "text/html": [
       "<div>\n",
       "<style scoped>\n",
       "    .dataframe tbody tr th:only-of-type {\n",
       "        vertical-align: middle;\n",
       "    }\n",
       "\n",
       "    .dataframe tbody tr th {\n",
       "        vertical-align: top;\n",
       "    }\n",
       "\n",
       "    .dataframe thead th {\n",
       "        text-align: right;\n",
       "    }\n",
       "</style>\n",
       "<table border=\"1\" class=\"dataframe\">\n",
       "  <thead>\n",
       "    <tr style=\"text-align: right;\">\n",
       "      <th></th>\n",
       "      <th>Age</th>\n",
       "      <th>Tenure</th>\n",
       "      <th>Usage_Frequency</th>\n",
       "      <th>Support_Calls</th>\n",
       "      <th>Payment_Delay</th>\n",
       "      <th>Subscription_Type</th>\n",
       "      <th>Contract_Length</th>\n",
       "      <th>Total_Spend</th>\n",
       "      <th>Last_Interaction</th>\n",
       "      <th>Gender_Male</th>\n",
       "    </tr>\n",
       "    <tr>\n",
       "      <th>CustomerID</th>\n",
       "      <th></th>\n",
       "      <th></th>\n",
       "      <th></th>\n",
       "      <th></th>\n",
       "      <th></th>\n",
       "      <th></th>\n",
       "      <th></th>\n",
       "      <th></th>\n",
       "      <th></th>\n",
       "      <th></th>\n",
       "    </tr>\n",
       "  </thead>\n",
       "  <tbody>\n",
       "    <tr>\n",
       "      <th>2</th>\n",
       "      <td>30</td>\n",
       "      <td>39</td>\n",
       "      <td>14</td>\n",
       "      <td>5</td>\n",
       "      <td>18</td>\n",
       "      <td>2</td>\n",
       "      <td>12</td>\n",
       "      <td>932</td>\n",
       "      <td>17</td>\n",
       "      <td>False</td>\n",
       "    </tr>\n",
       "    <tr>\n",
       "      <th>3</th>\n",
       "      <td>65</td>\n",
       "      <td>49</td>\n",
       "      <td>1</td>\n",
       "      <td>10</td>\n",
       "      <td>8</td>\n",
       "      <td>1</td>\n",
       "      <td>1</td>\n",
       "      <td>557</td>\n",
       "      <td>6</td>\n",
       "      <td>False</td>\n",
       "    </tr>\n",
       "    <tr>\n",
       "      <th>4</th>\n",
       "      <td>55</td>\n",
       "      <td>14</td>\n",
       "      <td>4</td>\n",
       "      <td>6</td>\n",
       "      <td>18</td>\n",
       "      <td>1</td>\n",
       "      <td>3</td>\n",
       "      <td>185</td>\n",
       "      <td>3</td>\n",
       "      <td>False</td>\n",
       "    </tr>\n",
       "    <tr>\n",
       "      <th>5</th>\n",
       "      <td>58</td>\n",
       "      <td>38</td>\n",
       "      <td>21</td>\n",
       "      <td>7</td>\n",
       "      <td>7</td>\n",
       "      <td>2</td>\n",
       "      <td>1</td>\n",
       "      <td>396</td>\n",
       "      <td>29</td>\n",
       "      <td>True</td>\n",
       "    </tr>\n",
       "    <tr>\n",
       "      <th>6</th>\n",
       "      <td>23</td>\n",
       "      <td>32</td>\n",
       "      <td>20</td>\n",
       "      <td>5</td>\n",
       "      <td>8</td>\n",
       "      <td>1</td>\n",
       "      <td>1</td>\n",
       "      <td>617</td>\n",
       "      <td>20</td>\n",
       "      <td>True</td>\n",
       "    </tr>\n",
       "  </tbody>\n",
       "</table>\n",
       "</div>"
      ],
      "text/plain": [
       "            Age  Tenure  Usage_Frequency  Support_Calls  Payment_Delay  \\\n",
       "CustomerID                                                               \n",
       "2            30      39               14              5             18   \n",
       "3            65      49                1             10              8   \n",
       "4            55      14                4              6             18   \n",
       "5            58      38               21              7              7   \n",
       "6            23      32               20              5              8   \n",
       "\n",
       "            Subscription_Type  Contract_Length  Total_Spend  Last_Interaction  \\\n",
       "CustomerID                                                                      \n",
       "2                           2               12          932                17   \n",
       "3                           1                1          557                 6   \n",
       "4                           1                3          185                 3   \n",
       "5                           2                1          396                29   \n",
       "6                           1                1          617                20   \n",
       "\n",
       "            Gender_Male  \n",
       "CustomerID               \n",
       "2                 False  \n",
       "3                 False  \n",
       "4                 False  \n",
       "5                  True  \n",
       "6                  True  "
      ]
     },
     "execution_count": 37,
     "metadata": {},
     "output_type": "execute_result"
    }
   ],
   "source": [
    "X_train.head()"
   ]
  },
  {
   "cell_type": "markdown",
   "id": "6e2ab00a",
   "metadata": {},
   "source": [
    "Los datos de entrada en una red neuronal tienen que ser normalizados. En este caso, dividir entre el máximo (255)"
   ]
  },
  {
   "cell_type": "code",
   "execution_count": 38,
   "id": "ae881b7a",
   "metadata": {},
   "outputs": [],
   "source": [
    "X[X.columns] = StandardScaler().fit_transform(X)"
   ]
  },
  {
   "cell_type": "code",
   "execution_count": 39,
   "id": "04cf7d98",
   "metadata": {},
   "outputs": [],
   "source": [
    "X_train[X_train.columns] = StandardScaler().fit_transform(X_train)"
   ]
  },
  {
   "cell_type": "code",
   "execution_count": 40,
   "id": "a1584da1",
   "metadata": {},
   "outputs": [],
   "source": [
    "X_test[X_test.columns] = StandardScaler().fit_transform(X_test)"
   ]
  },
  {
   "cell_type": "markdown",
   "id": "9ca93a56",
   "metadata": {},
   "source": [
    "Verificamos el pairplot"
   ]
  },
  {
   "cell_type": "code",
   "execution_count": 41,
   "id": "3891cf5a",
   "metadata": {},
   "outputs": [],
   "source": [
    "sns.pairplot(df_completo, hue='Churn', palette='tab10')\n",
    "plt.show();"
   ]
  },
  {
   "cell_type": "markdown",
   "id": "c11f49b4",
   "metadata": {},
   "source": [
    "### Modelo\n",
    "\n",
    "Construir la red neuronal requiere configurar las capas del modelo y luego compilar el modelo. \n",
    "\n",
    "Los bloques de construccion básicos de una red neuronal son las *capas*. La función de las capas es extraer la características fundamentales de las imágenes para poder luego clasificarlas. La mayoria de las capas como `Dense`, tienen parametros que son aprendidos durante el entrenamiento.\n",
    "\n",
    "La primera capa de esta red, `Flatten`, \n",
    "transforma el formato de las imágenes de un array bidimensional (28x28 pixeles) a un array unidimensional (28x28 pixeles = 784 pixeles). Se le llama \"aplanado\" porque pasamos de una matriz de 28x28 a un vector de 784 elemento.\n",
    "\n",
    "Después de que los pixeles sean \"aplanados\", la secuencia consiste de dos capas `Dense`. También se llama a estas capa `Full connected`, pues está todo conectado con todo. La primera capa `Dense` tiene 128 nodos o neuronas. La segunda capa es una capa de 10 nodos *softmax* (regresión logística) que devuelve un array de 10 probabilidades que suman a 1. Cada nodo contiene una calificacion que indica la probabilidad que la actual imagen pertenece a una de las 10 clases."
   ]
  },
  {
   "cell_type": "code",
   "execution_count": null,
   "id": "d330c395",
   "metadata": {},
   "outputs": [],
   "source": [
    "model = Sequential()\n",
    "\n",
    "model.add(Flatten(input_shape=(28, 28)))\n",
    "\n",
    "model.add(Dense(128, activation='relu'))\n",
    "\n",
    "model.add(Dense(10, activation='softmax')) # Es una regresión logística que predice probabilidad"
   ]
  },
  {
   "cell_type": "markdown",
   "id": "f55db148",
   "metadata": {},
   "source": [
    "Antes de que el modelo este listo para entrenar, se necesitan algunas configuraciones más. Estas son agregadas durante el paso de compilación del modelo:\n",
    "\n",
    "* *Loss function* — Función de coste o pérdida. Funcióin a minimizar para el ajuste.\n",
    "\n",
    "* *Optimizer* — Algoritmo de optimización.\n",
    "\n",
    "* *Metrics* — Métrica para el ajuste.\n",
    "\n",
    "El siguiente ejemplo usa *accuracy* (acierto) , la proporción de imágenes que son correctamente clasificadas."
   ]
  },
  {
   "cell_type": "code",
   "execution_count": null,
   "id": "bf317f7a",
   "metadata": {},
   "outputs": [],
   "source": [
    "model.compile(optimizer='adam',\n",
    "              loss='sparse_categorical_crossentropy',\n",
    "              metrics=['accuracy'])"
   ]
  },
  {
   "cell_type": "code",
   "execution_count": null,
   "id": "2996e1e0",
   "metadata": {},
   "outputs": [
    {
     "name": "stdout",
     "output_type": "stream",
     "text": [
      "Model: \"sequential\"\n",
      "_________________________________________________________________\n",
      " Layer (type)                Output Shape              Param #   \n",
      "=================================================================\n",
      " flatten (Flatten)           (None, 784)               0         \n",
      "                                                                 \n",
      " dense (Dense)               (None, 128)               100480    \n",
      "                                                                 \n",
      " dense_1 (Dense)             (None, 10)                1290      \n",
      "                                                                 \n",
      "=================================================================\n",
      "Total params: 101,770\n",
      "Trainable params: 101,770\n",
      "Non-trainable params: 0\n",
      "_________________________________________________________________\n"
     ]
    }
   ],
   "source": [
    "model.summary()"
   ]
  },
  {
   "cell_type": "markdown",
   "id": "92c649fc",
   "metadata": {},
   "source": [
    "### Entrenamiento"
   ]
  },
  {
   "cell_type": "code",
   "execution_count": null,
   "id": "17a4c525",
   "metadata": {},
   "outputs": [
    {
     "name": "stdout",
     "output_type": "stream",
     "text": [
      "Epoch 1/10\n",
      "1875/1875 [==============================] - 5s 2ms/step - loss: 0.4948 - accuracy: 0.8267\n",
      "Epoch 2/10\n",
      "1875/1875 [==============================] - 4s 2ms/step - loss: 0.3720 - accuracy: 0.8658\n",
      "Epoch 3/10\n",
      "1875/1875 [==============================] - 4s 2ms/step - loss: 0.3321 - accuracy: 0.8782\n",
      "Epoch 4/10\n",
      "1875/1875 [==============================] - 5s 3ms/step - loss: 0.3082 - accuracy: 0.8862\n",
      "Epoch 5/10\n",
      "1875/1875 [==============================] - 5s 3ms/step - loss: 0.2899 - accuracy: 0.8936\n",
      "Epoch 6/10\n",
      "1875/1875 [==============================] - 4s 2ms/step - loss: 0.2769 - accuracy: 0.8967\n",
      "Epoch 7/10\n",
      "1875/1875 [==============================] - 5s 3ms/step - loss: 0.2654 - accuracy: 0.9017\n",
      "Epoch 8/10\n",
      "1875/1875 [==============================] - 5s 3ms/step - loss: 0.2541 - accuracy: 0.9073\n",
      "Epoch 9/10\n",
      "1875/1875 [==============================] - 6s 3ms/step - loss: 0.2442 - accuracy: 0.9081\n",
      "Epoch 10/10\n",
      "1875/1875 [==============================] - 6s 3ms/step - loss: 0.2334 - accuracy: 0.9133\n"
     ]
    },
    {
     "data": {
      "text/plain": [
       "<keras.callbacks.History at 0x1cee14ba350>"
      ]
     },
     "metadata": {},
     "output_type": "display_data"
    }
   ],
   "source": [
    "model.fit(X_train, y_train, epochs=10)"
   ]
  },
  {
   "cell_type": "markdown",
   "id": "f74d9f21",
   "metadata": {},
   "source": [
    "### Evaluación y predicción"
   ]
  },
  {
   "cell_type": "code",
   "execution_count": null,
   "id": "cd417e84",
   "metadata": {},
   "outputs": [
    {
     "name": "stdout",
     "output_type": "stream",
     "text": [
      "313/313 - 1s - loss: 0.3327 - accuracy: 0.8840 - 1s/epoch - 4ms/step\n",
      "\n",
      "Test accuracy: 0.8840000033378601\n"
     ]
    }
   ],
   "source": [
    "test_loss, test_acc = model.evaluate(X_test,  y_test, verbose=2)\n",
    "\n",
    "print('\\nTest accuracy:', test_acc)"
   ]
  },
  {
   "cell_type": "code",
   "execution_count": null,
   "id": "9dcf40f0",
   "metadata": {},
   "outputs": [
    {
     "name": "stdout",
     "output_type": "stream",
     "text": [
      "313/313 [==============================] - 1s 2ms/step\n"
     ]
    }
   ],
   "source": [
    "y_prob = model.predict(X_test)"
   ]
  },
  {
   "cell_type": "code",
   "execution_count": null,
   "id": "5c9efb4b",
   "metadata": {},
   "outputs": [
    {
     "data": {
      "text/plain": [
       "array([3.3111457e-05, 1.7015090e-08, 7.2018406e-07, 2.7783019e-11,\n",
       "       5.5161364e-09, 5.8996968e-04, 6.6167047e-08, 7.3481724e-03,\n",
       "       5.3021216e-07, 9.9202746e-01], dtype=float32)"
      ]
     },
     "metadata": {},
     "output_type": "display_data"
    }
   ],
   "source": [
    "y_prob[0]"
   ]
  },
  {
   "cell_type": "code",
   "execution_count": null,
   "id": "00f3d3e7",
   "metadata": {},
   "outputs": [
    {
     "data": {
      "image/png": "[encoded data removed]",
      "text/plain": [
       "<Figure size 640x480 with 1 Axes>"
      ]
     },
     "metadata": {},
     "output_type": "display_data"
    }
   ],
   "source": [
    "plt.bar(label_names.values() ,y_prob[600])\n",
    "plt.xticks(rotation=45);"
   ]
  },
  {
   "cell_type": "code",
   "execution_count": null,
   "id": "9980c0ac",
   "metadata": {},
   "outputs": [
    {
     "data": {
      "text/plain": [
       "1.0000000777596825"
      ]
     },
     "metadata": {},
     "output_type": "display_data"
    }
   ],
   "source": [
    "sum(y_prob[10])"
   ]
  },
  {
   "cell_type": "code",
   "execution_count": null,
   "id": "63f19346",
   "metadata": {},
   "outputs": [
    {
     "data": {
      "text/plain": [
       "9"
      ]
     },
     "metadata": {},
     "output_type": "display_data"
    }
   ],
   "source": [
    "np.argmax(y_prob[0])"
   ]
  },
  {
   "cell_type": "code",
   "execution_count": null,
   "id": "27205c26",
   "metadata": {},
   "outputs": [
    {
     "data": {
      "text/plain": [
       "'Ankle boot'"
      ]
     },
     "metadata": {},
     "output_type": "display_data"
    }
   ],
   "source": [
    "label_names[np.argmax(y_prob[0])]"
   ]
  },
  {
   "cell_type": "code",
   "execution_count": null,
   "id": "5a874df9",
   "metadata": {},
   "outputs": [
    {
     "data": {
      "text/plain": [
       "array([9, 2, 1, ..., 8, 1, 5], dtype=int64)"
      ]
     },
     "metadata": {},
     "output_type": "display_data"
    }
   ],
   "source": [
    "y_pred = np.argmax(y_prob, axis=1)\n",
    "\n",
    "y_pred"
   ]
  },
  {
   "cell_type": "code",
   "execution_count": null,
   "id": "de9fb59f",
   "metadata": {},
   "outputs": [
    {
     "data": {
      "text/plain": [
       "array([9, 2, 1, ..., 8, 1, 5], dtype=uint8)"
      ]
     },
     "metadata": {},
     "output_type": "display_data"
    }
   ],
   "source": [
    "y_test"
   ]
  },
  {
   "cell_type": "code",
   "execution_count": null,
   "id": "9f465d69",
   "metadata": {},
   "outputs": [
    {
     "name": "stdout",
     "output_type": "stream",
     "text": [
      "              precision    recall  f1-score   support\n",
      "\n",
      "           0       0.83      0.83      0.83      1000\n",
      "           1       0.99      0.98      0.99      1000\n",
      "           2       0.78      0.81      0.79      1000\n",
      "           3       0.91      0.87      0.89      1000\n",
      "           4       0.82      0.78      0.80      1000\n",
      "           5       0.98      0.96      0.97      1000\n",
      "           6       0.68      0.71      0.69      1000\n",
      "           7       0.96      0.94      0.95      1000\n",
      "           8       0.97      0.98      0.97      1000\n",
      "           9       0.94      0.97      0.96      1000\n",
      "\n",
      "    accuracy                           0.88     10000\n",
      "   macro avg       0.89      0.88      0.88     10000\n",
      "weighted avg       0.89      0.88      0.88     10000\n",
      "\n"
     ]
    }
   ],
   "source": [
    "print(report(y_test, y_pred))"
   ]
  },
  {
   "cell_type": "code",
   "execution_count": null,
   "id": "e4145609",
   "metadata": {},
   "outputs": [
    {
     "data": {
      "image/png": "[encoded data removed]",
      "text/plain": [
       "<Figure size 1500x800 with 2 Axes>"
      ]
     },
     "metadata": {},
     "output_type": "display_data"
    }
   ],
   "source": [
    "plt.figure(figsize=(15, 8))\n",
    "\n",
    "ax=sns.heatmap(cm(y_test, y_pred)/cm(y_test, y_pred).sum(), annot=True)\n",
    "\n",
    "plt.title('Matriz confusion')\n",
    "plt.ylabel('Verdad')\n",
    "plt.xlabel('Prediccion')\n",
    "plt.show();"
   ]
  },
  {
   "cell_type": "code",
   "execution_count": null,
   "id": "4cee0b9d",
   "metadata": {},
   "outputs": [
    {
     "data": {
      "text/plain": [
       "{0: 'T-shirt/top',\n",
       " 1: 'Trouser',\n",
       " 2: 'Pullover',\n",
       " 3: 'Dress',\n",
       " 4: 'Coat',\n",
       " 5: 'Sandal',\n",
       " 6: 'Shirt',\n",
       " 7: 'Sneaker',\n",
       " 8: 'Bag',\n",
       " 9: 'Ankle boot'}"
      ]
     },
     "metadata": {},
     "output_type": "display_data"
    }
   ],
   "source": [
    "label_names"
   ]
  },
  {
   "cell_type": "markdown",
   "id": "d18a2cbc",
   "metadata": {},
   "source": [
    "### Guardado y carga del modelo"
   ]
  },
  {
   "cell_type": "code",
   "execution_count": null,
   "id": "38da2fdf",
   "metadata": {},
   "outputs": [
    {
     "data": {
      "text/plain": [
       "<keras.engine.sequential.Sequential at 0x1cec0bc0410>"
      ]
     },
     "metadata": {},
     "output_type": "display_data"
    }
   ],
   "source": [
    "model"
   ]
  },
  {
   "cell_type": "code",
   "execution_count": null,
   "id": "87ad98e3",
   "metadata": {},
   "outputs": [],
   "source": [
    "model.save_weights('MNIST_weights.h5')    # pesos de la red"
   ]
  },
  {
   "cell_type": "code",
   "execution_count": null,
   "id": "71554480",
   "metadata": {},
   "outputs": [],
   "source": [
    "model.load_weights('MNIST_weights.h5')"
   ]
  },
  {
   "cell_type": "code",
   "execution_count": null,
   "id": "fe2fa6ca",
   "metadata": {},
   "outputs": [],
   "source": [
    "model.save('MNIST_Model.h5')              # modelo completo"
   ]
  },
  {
   "cell_type": "code",
   "execution_count": null,
   "id": "3a517661",
   "metadata": {},
   "outputs": [],
   "source": [
    "from keras.models import load_model"
   ]
  },
  {
   "cell_type": "code",
   "execution_count": null,
   "id": "bd4b7654",
   "metadata": {},
   "outputs": [],
   "source": [
    "modelo_nuevo = load_model('MNIST_Model.h5')"
   ]
  },
  {
   "cell_type": "code",
   "execution_count": null,
   "id": "705e7d98",
   "metadata": {},
   "outputs": [
    {
     "name": "stdout",
     "output_type": "stream",
     "text": [
      "313/313 [==============================] - 1s 2ms/step\n"
     ]
    },
    {
     "data": {
      "text/plain": [
       "array([3.3111457e-05, 1.7015090e-08, 7.2018406e-07, 2.7783019e-11,\n",
       "       5.5161364e-09, 5.8996968e-04, 6.6167047e-08, 7.3481724e-03,\n",
       "       5.3021216e-07, 9.9202746e-01], dtype=float32)"
      ]
     },
     "metadata": {},
     "output_type": "display_data"
    }
   ],
   "source": [
    "modelo_nuevo.predict(X_test)[0]"
   ]
  }
 ],
 "metadata": {
  "kernelspec": {
   "display_name": "Python 3 (ipykernel)",
   "language": "python",
   "name": "python3"
  },
  "language_info": {
   "codemirror_mode": {
    "name": "ipython",
    "version": 3
   },
   "file_extension": ".py",
   "mimetype": "text/x-python",
   "name": "python",
   "nbconvert_exporter": "python",
   "pygments_lexer": "ipython3",
   "version": "3.11.4"
  }
 },
 "nbformat": 4,
 "nbformat_minor": 5
}
