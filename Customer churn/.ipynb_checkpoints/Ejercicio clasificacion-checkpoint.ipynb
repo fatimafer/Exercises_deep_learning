{
 "cells": [
  {
   "cell_type": "code",
   "execution_count": 1,
   "id": "920a8b2a",
   "metadata": {},
   "outputs": [],
   "source": [
    "# librerias\n",
    "\n",
    "import warnings\n",
    "warnings.filterwarnings('ignore')\n",
    "\n",
    "import pandas as pd\n",
    "import seaborn as sns\n",
    "import matplotlib.pyplot as plt\n",
    "from datetime import date, time, datetime, timedelta\n",
    "import numpy as np\n",
    "\n",
    "from keras import Sequential, Input\n",
    "from keras.layers import Flatten, Dense\n",
    "\n",
    "import numpy as np\n",
    "\n",
    "import pylab as plt\n",
    "import seaborn as sns\n",
    "\n",
    "from sklearn.metrics import confusion_matrix as cm\n",
    "from sklearn.metrics import classification_report as report"
   ]
  },
  {
   "cell_type": "markdown",
   "id": "90c805fb",
   "metadata": {},
   "source": [
    "Cargamos los datos de entrenamiento"
   ]
  },
  {
   "cell_type": "code",
   "execution_count": 2,
   "id": "3f6380e7",
   "metadata": {},
   "outputs": [],
   "source": [
    "df_training = pd.read_csv('customer_churn_dataset-training-master.csv')"
   ]
  },
  {
   "cell_type": "markdown",
   "id": "ce319f3c",
   "metadata": {},
   "source": [
    "Comprobamos si hay nulos"
   ]
  },
  {
   "cell_type": "code",
   "execution_count": 3,
   "id": "ff7eb7a0",
   "metadata": {},
   "outputs": [
    {
     "data": {
      "text/plain": [
       "CustomerID           1\n",
       "Age                  1\n",
       "Gender               1\n",
       "Tenure               1\n",
       "Usage Frequency      1\n",
       "Support Calls        1\n",
       "Payment Delay        1\n",
       "Subscription Type    1\n",
       "Contract Length      1\n",
       "Total Spend          1\n",
       "Last Interaction     1\n",
       "Churn                1\n",
       "dtype: int64"
      ]
     },
     "execution_count": 3,
     "metadata": {},
     "output_type": "execute_result"
    }
   ],
   "source": [
    "df_training.isna().sum()"
   ]
  },
  {
   "cell_type": "markdown",
   "id": "c322dd2e",
   "metadata": {},
   "source": [
    "Borramos los nulos"
   ]
  },
  {
   "cell_type": "code",
   "execution_count": 4,
   "id": "84e21bad",
   "metadata": {},
   "outputs": [],
   "source": [
    "df_training.dropna(inplace=True)"
   ]
  },
  {
   "cell_type": "markdown",
   "id": "1949ce98",
   "metadata": {},
   "source": [
    "Hacemos que la columna Customer ID sea el índice"
   ]
  },
  {
   "cell_type": "code",
   "execution_count": 5,
   "id": "31055ebc",
   "metadata": {},
   "outputs": [],
   "source": [
    "df_training['CustomerID'] = df_training['CustomerID'].astype(int)\n",
    "df_training.set_index('CustomerID', inplace=True)"
   ]
  },
  {
   "cell_type": "code",
   "execution_count": 6,
   "id": "58e1a7dc",
   "metadata": {
    "scrolled": true
   },
   "outputs": [
    {
     "data": {
      "text/html": [
       "<div>\n",
       "<style scoped>\n",
       "    .dataframe tbody tr th:only-of-type {\n",
       "        vertical-align: middle;\n",
       "    }\n",
       "\n",
       "    .dataframe tbody tr th {\n",
       "        vertical-align: top;\n",
       "    }\n",
       "\n",
       "    .dataframe thead th {\n",
       "        text-align: right;\n",
       "    }\n",
       "</style>\n",
       "<table border=\"1\" class=\"dataframe\">\n",
       "  <thead>\n",
       "    <tr style=\"text-align: right;\">\n",
       "      <th></th>\n",
       "      <th>Age</th>\n",
       "      <th>Gender</th>\n",
       "      <th>Tenure</th>\n",
       "      <th>Usage Frequency</th>\n",
       "      <th>Support Calls</th>\n",
       "      <th>Payment Delay</th>\n",
       "      <th>Subscription Type</th>\n",
       "      <th>Contract Length</th>\n",
       "      <th>Total Spend</th>\n",
       "      <th>Last Interaction</th>\n",
       "      <th>Churn</th>\n",
       "    </tr>\n",
       "    <tr>\n",
       "      <th>CustomerID</th>\n",
       "      <th></th>\n",
       "      <th></th>\n",
       "      <th></th>\n",
       "      <th></th>\n",
       "      <th></th>\n",
       "      <th></th>\n",
       "      <th></th>\n",
       "      <th></th>\n",
       "      <th></th>\n",
       "      <th></th>\n",
       "      <th></th>\n",
       "    </tr>\n",
       "  </thead>\n",
       "  <tbody>\n",
       "    <tr>\n",
       "      <th>2</th>\n",
       "      <td>30.0</td>\n",
       "      <td>Female</td>\n",
       "      <td>39.0</td>\n",
       "      <td>14.0</td>\n",
       "      <td>5.0</td>\n",
       "      <td>18.0</td>\n",
       "      <td>Standard</td>\n",
       "      <td>Annual</td>\n",
       "      <td>932.0</td>\n",
       "      <td>17.0</td>\n",
       "      <td>1.0</td>\n",
       "    </tr>\n",
       "    <tr>\n",
       "      <th>3</th>\n",
       "      <td>65.0</td>\n",
       "      <td>Female</td>\n",
       "      <td>49.0</td>\n",
       "      <td>1.0</td>\n",
       "      <td>10.0</td>\n",
       "      <td>8.0</td>\n",
       "      <td>Basic</td>\n",
       "      <td>Monthly</td>\n",
       "      <td>557.0</td>\n",
       "      <td>6.0</td>\n",
       "      <td>1.0</td>\n",
       "    </tr>\n",
       "    <tr>\n",
       "      <th>4</th>\n",
       "      <td>55.0</td>\n",
       "      <td>Female</td>\n",
       "      <td>14.0</td>\n",
       "      <td>4.0</td>\n",
       "      <td>6.0</td>\n",
       "      <td>18.0</td>\n",
       "      <td>Basic</td>\n",
       "      <td>Quarterly</td>\n",
       "      <td>185.0</td>\n",
       "      <td>3.0</td>\n",
       "      <td>1.0</td>\n",
       "    </tr>\n",
       "    <tr>\n",
       "      <th>5</th>\n",
       "      <td>58.0</td>\n",
       "      <td>Male</td>\n",
       "      <td>38.0</td>\n",
       "      <td>21.0</td>\n",
       "      <td>7.0</td>\n",
       "      <td>7.0</td>\n",
       "      <td>Standard</td>\n",
       "      <td>Monthly</td>\n",
       "      <td>396.0</td>\n",
       "      <td>29.0</td>\n",
       "      <td>1.0</td>\n",
       "    </tr>\n",
       "    <tr>\n",
       "      <th>6</th>\n",
       "      <td>23.0</td>\n",
       "      <td>Male</td>\n",
       "      <td>32.0</td>\n",
       "      <td>20.0</td>\n",
       "      <td>5.0</td>\n",
       "      <td>8.0</td>\n",
       "      <td>Basic</td>\n",
       "      <td>Monthly</td>\n",
       "      <td>617.0</td>\n",
       "      <td>20.0</td>\n",
       "      <td>1.0</td>\n",
       "    </tr>\n",
       "  </tbody>\n",
       "</table>\n",
       "</div>"
      ],
      "text/plain": [
       "             Age  Gender  Tenure  Usage Frequency  Support Calls  \\\n",
       "CustomerID                                                         \n",
       "2           30.0  Female    39.0             14.0            5.0   \n",
       "3           65.0  Female    49.0              1.0           10.0   \n",
       "4           55.0  Female    14.0              4.0            6.0   \n",
       "5           58.0    Male    38.0             21.0            7.0   \n",
       "6           23.0    Male    32.0             20.0            5.0   \n",
       "\n",
       "            Payment Delay Subscription Type Contract Length  Total Spend  \\\n",
       "CustomerID                                                                 \n",
       "2                    18.0          Standard          Annual        932.0   \n",
       "3                     8.0             Basic         Monthly        557.0   \n",
       "4                    18.0             Basic       Quarterly        185.0   \n",
       "5                     7.0          Standard         Monthly        396.0   \n",
       "6                     8.0             Basic         Monthly        617.0   \n",
       "\n",
       "            Last Interaction  Churn  \n",
       "CustomerID                           \n",
       "2                       17.0    1.0  \n",
       "3                        6.0    1.0  \n",
       "4                        3.0    1.0  \n",
       "5                       29.0    1.0  \n",
       "6                       20.0    1.0  "
      ]
     },
     "execution_count": 6,
     "metadata": {},
     "output_type": "execute_result"
    }
   ],
   "source": [
    "df_training.head()"
   ]
  },
  {
   "cell_type": "code",
   "execution_count": 7,
   "id": "21f80436",
   "metadata": {
    "scrolled": true
   },
   "outputs": [
    {
     "name": "stdout",
     "output_type": "stream",
     "text": [
      "<class 'pandas.core.frame.DataFrame'>\n",
      "Int64Index: 440832 entries, 2 to 449999\n",
      "Data columns (total 11 columns):\n",
      " #   Column             Non-Null Count   Dtype  \n",
      "---  ------             --------------   -----  \n",
      " 0   Age                440832 non-null  float64\n",
      " 1   Gender             440832 non-null  object \n",
      " 2   Tenure             440832 non-null  float64\n",
      " 3   Usage Frequency    440832 non-null  float64\n",
      " 4   Support Calls      440832 non-null  float64\n",
      " 5   Payment Delay      440832 non-null  float64\n",
      " 6   Subscription Type  440832 non-null  object \n",
      " 7   Contract Length    440832 non-null  object \n",
      " 8   Total Spend        440832 non-null  float64\n",
      " 9   Last Interaction   440832 non-null  float64\n",
      " 10  Churn              440832 non-null  float64\n",
      "dtypes: float64(8), object(3)\n",
      "memory usage: 40.4+ MB\n"
     ]
    }
   ],
   "source": [
    "df_training.info()"
   ]
  },
  {
   "cell_type": "markdown",
   "id": "235d45a9",
   "metadata": {},
   "source": [
    "Convertimos las variables float a enteros porque todas son enteras"
   ]
  },
  {
   "cell_type": "code",
   "execution_count": 8,
   "id": "a25870cd",
   "metadata": {},
   "outputs": [],
   "source": [
    "df_training['Age'] = df_training['Age'].astype(int)\n",
    "df_training['Tenure'] = df_training['Tenure'].astype(int)\n",
    "df_training['Usage Frequency'] = df_training['Usage Frequency'].astype(int)\n",
    "df_training['Support Calls'] = df_training['Support Calls'].astype(int)\n",
    "df_training['Payment Delay'] = df_training['Payment Delay'].astype(int)\n",
    "df_training['Total Spend'] = df_training['Total Spend'].astype(int)\n",
    "df_training['Last Interaction'] = df_training['Last Interaction'].astype(int)\n",
    "df_training['Churn'] = df_training['Churn'].astype(int)"
   ]
  },
  {
   "cell_type": "markdown",
   "id": "87b55c82",
   "metadata": {},
   "source": [
    "Cambiamos los nombres de las variables Usage Frequency, Support Calls, Payment Delay, Subscription Type,  \n",
    "Contract Length, Total Spend y Last Interaction"
   ]
  },
  {
   "cell_type": "code",
   "execution_count": 9,
   "id": "4e1c12fa",
   "metadata": {},
   "outputs": [],
   "source": [
    "df_training.rename(columns = {'Usage Frequency':'Usage_Frequency', 'Support Calls':'Support_Calls', 'Payment Delay':'Payment_Delay', 'Subscription Type':'Subscription_Type', 'Contract Length':'Contract_Length', 'Total Spend':'Total_Spend', 'Last Interaction':'Last_Interaction'}, inplace=True)"
   ]
  },
  {
   "cell_type": "code",
   "execution_count": 10,
   "id": "612fb220",
   "metadata": {
    "scrolled": false
   },
   "outputs": [
    {
     "name": "stdout",
     "output_type": "stream",
     "text": [
      "<class 'pandas.core.frame.DataFrame'>\n",
      "Int64Index: 440832 entries, 2 to 449999\n",
      "Data columns (total 11 columns):\n",
      " #   Column             Non-Null Count   Dtype \n",
      "---  ------             --------------   ----- \n",
      " 0   Age                440832 non-null  int32 \n",
      " 1   Gender             440832 non-null  object\n",
      " 2   Tenure             440832 non-null  int32 \n",
      " 3   Usage_Frequency    440832 non-null  int32 \n",
      " 4   Support_Calls      440832 non-null  int32 \n",
      " 5   Payment_Delay      440832 non-null  int32 \n",
      " 6   Subscription_Type  440832 non-null  object\n",
      " 7   Contract_Length    440832 non-null  object\n",
      " 8   Total_Spend        440832 non-null  int32 \n",
      " 9   Last_Interaction   440832 non-null  int32 \n",
      " 10  Churn              440832 non-null  int32 \n",
      "dtypes: int32(8), object(3)\n",
      "memory usage: 26.9+ MB\n"
     ]
    }
   ],
   "source": [
    "df_training.info()"
   ]
  },
  {
   "cell_type": "markdown",
   "id": "9c7527aa",
   "metadata": {},
   "source": [
    "Vamos a observar las variables categóricas que nos quedan"
   ]
  },
  {
   "cell_type": "code",
   "execution_count": 11,
   "id": "83755a7c",
   "metadata": {
    "scrolled": true
   },
   "outputs": [
    {
     "data": {
      "image/png": "[encoded data removed]",
      "text/plain": [
       "<Figure size 500x1500 with 3 Axes>"
      ]
     },
     "metadata": {},
     "output_type": "display_data"
    }
   ],
   "source": [
    "fig, ax = plt.subplots(nrows=3, ncols=1, figsize=(5,15))\n",
    "fig.subplots_adjust(hspace=0.5)\n",
    "\n",
    "for i, col in enumerate(['Gender','Subscription_Type','Contract_Length']):\n",
    "  sns.countplot(x=col, data=df_training, ax=ax[i])\n",
    "  ax[i].set_xticklabels(ax[i].get_xticklabels(), rotation=90)"
   ]
  },
  {
   "cell_type": "markdown",
   "id": "3ef2d946",
   "metadata": {},
   "source": [
    "Vamos a cambiar Contract_Length a numérica que indique los días de contrato en meses\n",
    "- 12 si es un año\n",
    "- 3 si es 1/4 de año\n",
    "- 1 si es un mes"
   ]
  },
  {
   "cell_type": "code",
   "execution_count": 12,
   "id": "79656182",
   "metadata": {},
   "outputs": [],
   "source": [
    "def agrupacion(x):\n",
    "    if x == 'Annual':\n",
    "        return 12\n",
    "    elif x == 'Quarterly':\n",
    "        return 3\n",
    "    elif x == 'Monthly':\n",
    "        return 1\n",
    "    else:\n",
    "        return x\n",
    "df_training['Contract_Length']=df_training['Contract_Length'].apply(agrupacion)"
   ]
  },
  {
   "cell_type": "markdown",
   "id": "74e69c0c",
   "metadata": {},
   "source": [
    "Vamos a cambiar Subcription_Type a numérica de tal manera que tenga un valor más alto si la suscripción es Premium\n",
    "- 3 si es un Premium\n",
    "- 2 si es Estándar\n",
    "- 1 si es Basic"
   ]
  },
  {
   "cell_type": "code",
   "execution_count": 19,
   "id": "d98c4284",
   "metadata": {},
   "outputs": [],
   "source": [
    "def agrupacion(x):\n",
    "    if x == 'Premium':\n",
    "        return 3\n",
    "    elif x == 'Standard':\n",
    "        return 2\n",
    "    elif x == 'Basic':\n",
    "        return 1\n",
    "    else:\n",
    "        return x\n",
    "df_training['Subscription_Type']=df_training['Subscription_Type'].apply(agrupacion)"
   ]
  },
  {
   "cell_type": "markdown",
   "id": "a55a6b00",
   "metadata": {},
   "source": [
    "Convertimos la variable género a dummies"
   ]
  },
  {
   "cell_type": "code",
   "execution_count": 13,
   "id": "0392f8b4",
   "metadata": {},
   "outputs": [],
   "source": [
    "df_training = pd.get_dummies(df_training, columns=['Gender'])"
   ]
  },
  {
   "cell_type": "markdown",
   "id": "59962a39",
   "metadata": {},
   "source": [
    "Mantenemos la columna Gender_Male"
   ]
  },
  {
   "cell_type": "code",
   "execution_count": 17,
   "id": "5877fb33",
   "metadata": {},
   "outputs": [],
   "source": [
    "df_training.drop('Gender_Female', axis=1, inplace=True)"
   ]
  },
  {
   "cell_type": "code",
   "execution_count": 21,
   "id": "977ac756",
   "metadata": {
    "scrolled": true
   },
   "outputs": [
    {
     "data": {
      "text/html": [
       "<div>\n",
       "<style scoped>\n",
       "    .dataframe tbody tr th:only-of-type {\n",
       "        vertical-align: middle;\n",
       "    }\n",
       "\n",
       "    .dataframe tbody tr th {\n",
       "        vertical-align: top;\n",
       "    }\n",
       "\n",
       "    .dataframe thead th {\n",
       "        text-align: right;\n",
       "    }\n",
       "</style>\n",
       "<table border=\"1\" class=\"dataframe\">\n",
       "  <thead>\n",
       "    <tr style=\"text-align: right;\">\n",
       "      <th></th>\n",
       "      <th>Age</th>\n",
       "      <th>Tenure</th>\n",
       "      <th>Usage_Frequency</th>\n",
       "      <th>Support_Calls</th>\n",
       "      <th>Payment_Delay</th>\n",
       "      <th>Subscription_Type</th>\n",
       "      <th>Contract_Length</th>\n",
       "      <th>Total_Spend</th>\n",
       "      <th>Last_Interaction</th>\n",
       "      <th>Churn</th>\n",
       "      <th>Gender_Male</th>\n",
       "    </tr>\n",
       "    <tr>\n",
       "      <th>CustomerID</th>\n",
       "      <th></th>\n",
       "      <th></th>\n",
       "      <th></th>\n",
       "      <th></th>\n",
       "      <th></th>\n",
       "      <th></th>\n",
       "      <th></th>\n",
       "      <th></th>\n",
       "      <th></th>\n",
       "      <th></th>\n",
       "      <th></th>\n",
       "    </tr>\n",
       "  </thead>\n",
       "  <tbody>\n",
       "    <tr>\n",
       "      <th>2</th>\n",
       "      <td>30</td>\n",
       "      <td>39</td>\n",
       "      <td>14</td>\n",
       "      <td>5</td>\n",
       "      <td>18</td>\n",
       "      <td>2</td>\n",
       "      <td>12</td>\n",
       "      <td>932</td>\n",
       "      <td>17</td>\n",
       "      <td>1</td>\n",
       "      <td>0</td>\n",
       "    </tr>\n",
       "    <tr>\n",
       "      <th>3</th>\n",
       "      <td>65</td>\n",
       "      <td>49</td>\n",
       "      <td>1</td>\n",
       "      <td>10</td>\n",
       "      <td>8</td>\n",
       "      <td>1</td>\n",
       "      <td>1</td>\n",
       "      <td>557</td>\n",
       "      <td>6</td>\n",
       "      <td>1</td>\n",
       "      <td>0</td>\n",
       "    </tr>\n",
       "    <tr>\n",
       "      <th>4</th>\n",
       "      <td>55</td>\n",
       "      <td>14</td>\n",
       "      <td>4</td>\n",
       "      <td>6</td>\n",
       "      <td>18</td>\n",
       "      <td>1</td>\n",
       "      <td>3</td>\n",
       "      <td>185</td>\n",
       "      <td>3</td>\n",
       "      <td>1</td>\n",
       "      <td>0</td>\n",
       "    </tr>\n",
       "    <tr>\n",
       "      <th>5</th>\n",
       "      <td>58</td>\n",
       "      <td>38</td>\n",
       "      <td>21</td>\n",
       "      <td>7</td>\n",
       "      <td>7</td>\n",
       "      <td>2</td>\n",
       "      <td>1</td>\n",
       "      <td>396</td>\n",
       "      <td>29</td>\n",
       "      <td>1</td>\n",
       "      <td>1</td>\n",
       "    </tr>\n",
       "    <tr>\n",
       "      <th>6</th>\n",
       "      <td>23</td>\n",
       "      <td>32</td>\n",
       "      <td>20</td>\n",
       "      <td>5</td>\n",
       "      <td>8</td>\n",
       "      <td>1</td>\n",
       "      <td>1</td>\n",
       "      <td>617</td>\n",
       "      <td>20</td>\n",
       "      <td>1</td>\n",
       "      <td>1</td>\n",
       "    </tr>\n",
       "  </tbody>\n",
       "</table>\n",
       "</div>"
      ],
      "text/plain": [
       "            Age  Tenure  Usage_Frequency  Support_Calls  Payment_Delay  \\\n",
       "CustomerID                                                               \n",
       "2            30      39               14              5             18   \n",
       "3            65      49                1             10              8   \n",
       "4            55      14                4              6             18   \n",
       "5            58      38               21              7              7   \n",
       "6            23      32               20              5              8   \n",
       "\n",
       "            Subscription_Type  Contract_Length  Total_Spend  Last_Interaction  \\\n",
       "CustomerID                                                                      \n",
       "2                           2               12          932                17   \n",
       "3                           1                1          557                 6   \n",
       "4                           1                3          185                 3   \n",
       "5                           2                1          396                29   \n",
       "6                           1                1          617                20   \n",
       "\n",
       "            Churn  Gender_Male  \n",
       "CustomerID                      \n",
       "2               1            0  \n",
       "3               1            0  \n",
       "4               1            0  \n",
       "5               1            1  \n",
       "6               1            1  "
      ]
     },
     "execution_count": 21,
     "metadata": {},
     "output_type": "execute_result"
    }
   ],
   "source": [
    "df_training.head()"
   ]
  },
  {
   "cell_type": "code",
   "execution_count": 22,
   "id": "0a65fb5d",
   "metadata": {},
   "outputs": [
    {
     "name": "stdout",
     "output_type": "stream",
     "text": [
      "<class 'pandas.core.frame.DataFrame'>\n",
      "Int64Index: 440832 entries, 2 to 449999\n",
      "Data columns (total 11 columns):\n",
      " #   Column             Non-Null Count   Dtype\n",
      "---  ------             --------------   -----\n",
      " 0   Age                440832 non-null  int32\n",
      " 1   Tenure             440832 non-null  int32\n",
      " 2   Usage_Frequency    440832 non-null  int32\n",
      " 3   Support_Calls      440832 non-null  int32\n",
      " 4   Payment_Delay      440832 non-null  int32\n",
      " 5   Subscription_Type  440832 non-null  int64\n",
      " 6   Contract_Length    440832 non-null  int64\n",
      " 7   Total_Spend        440832 non-null  int32\n",
      " 8   Last_Interaction   440832 non-null  int32\n",
      " 9   Churn              440832 non-null  int32\n",
      " 10  Gender_Male        440832 non-null  uint8\n",
      "dtypes: int32(8), int64(2), uint8(1)\n",
      "memory usage: 40.1 MB\n"
     ]
    }
   ],
   "source": [
    "df_training.info()"
   ]
  },
  {
   "cell_type": "markdown",
   "id": "f7489a0d",
   "metadata": {},
   "source": [
    "Examinamos los atípicos"
   ]
  },
  {
   "cell_type": "code",
   "execution_count": 13,
   "id": "467e3f60",
   "metadata": {
    "scrolled": true
   },
   "outputs": [
    {
     "data": {
      "image/png": "[encoded data removed]",
      "text/plain": [
       "<Figure size 1600x2000 with 9 Axes>"
      ]
     },
     "metadata": {},
     "output_type": "display_data"
    }
   ],
   "source": [
    "fig, ax = plt.subplots(nrows=9, ncols=1, figsize=(16,20))\n",
    "fig.subplots_adjust(hspace=1)\n",
    "for i, col in enumerate(['Age', 'Tenure', 'Usage_Frequency', 'Support_Calls',\n",
    "       'Payment_Delay', 'Contract_Length', 'Total_Spend',\n",
    "       'Last_Interaction', 'Churn']):\n",
    "    sns.boxplot(x=col, data=df_training, ax=ax[i])\n",
    "    ax[i].xaxis.set_major_locator(plt.MaxNLocator(nbins=10)) "
   ]
  },
  {
   "cell_type": "markdown",
   "id": "5b845482",
   "metadata": {},
   "source": [
    "No hay atípicos, así que la limpieza está finalizada"
   ]
  },
  {
   "cell_type": "code",
   "execution_count": null,
   "id": "e492a2d8",
   "metadata": {},
   "outputs": [],
   "source": []
  },
  {
   "cell_type": "code",
   "execution_count": null,
   "id": "ef9acf56",
   "metadata": {},
   "outputs": [],
   "source": []
  },
  {
   "cell_type": "code",
   "execution_count": null,
   "id": "80a0567c",
   "metadata": {},
   "outputs": [],
   "source": []
  },
  {
   "cell_type": "code",
   "execution_count": null,
   "id": "8b536d5f",
   "metadata": {},
   "outputs": [],
   "source": []
  },
  {
   "cell_type": "markdown",
   "id": "d459a5f8",
   "metadata": {},
   "source": [
    "Cargamos el dataset de test"
   ]
  },
  {
   "cell_type": "code",
   "execution_count": 8,
   "id": "1d3fa131",
   "metadata": {},
   "outputs": [],
   "source": [
    "df_testing = pd.read_csv('customer_churn_dataset-testing-master.csv')"
   ]
  },
  {
   "cell_type": "markdown",
   "id": "b12e6dc4",
   "metadata": {},
   "source": [
    "Comprobamos si hay nulos"
   ]
  },
  {
   "cell_type": "code",
   "execution_count": 9,
   "id": "acf4daaa",
   "metadata": {
    "scrolled": true
   },
   "outputs": [
    {
     "data": {
      "text/plain": [
       "CustomerID           0\n",
       "Age                  0\n",
       "Gender               0\n",
       "Tenure               0\n",
       "Usage Frequency      0\n",
       "Support Calls        0\n",
       "Payment Delay        0\n",
       "Subscription Type    0\n",
       "Contract Length      0\n",
       "Total Spend          0\n",
       "Last Interaction     0\n",
       "Churn                0\n",
       "dtype: int64"
      ]
     },
     "execution_count": 9,
     "metadata": {},
     "output_type": "execute_result"
    }
   ],
   "source": [
    "df_testing.isna().sum()"
   ]
  },
  {
   "cell_type": "markdown",
   "id": "f295f96f",
   "metadata": {},
   "source": [
    "Hacemos que customerID sea la columna índice"
   ]
  },
  {
   "cell_type": "code",
   "execution_count": 11,
   "id": "3fa3fc9f",
   "metadata": {},
   "outputs": [],
   "source": [
    "df_testing['CustomerID'] = df_testing['CustomerID'].astype(int)\n",
    "df_testing.set_index('CustomerID', inplace=True)"
   ]
  },
  {
   "cell_type": "code",
   "execution_count": 12,
   "id": "e3be0dab",
   "metadata": {
    "scrolled": false
   },
   "outputs": [
    {
     "data": {
      "text/html": [
       "<div>\n",
       "<style scoped>\n",
       "    .dataframe tbody tr th:only-of-type {\n",
       "        vertical-align: middle;\n",
       "    }\n",
       "\n",
       "    .dataframe tbody tr th {\n",
       "        vertical-align: top;\n",
       "    }\n",
       "\n",
       "    .dataframe thead th {\n",
       "        text-align: right;\n",
       "    }\n",
       "</style>\n",
       "<table border=\"1\" class=\"dataframe\">\n",
       "  <thead>\n",
       "    <tr style=\"text-align: right;\">\n",
       "      <th></th>\n",
       "      <th>Age</th>\n",
       "      <th>Gender</th>\n",
       "      <th>Tenure</th>\n",
       "      <th>Usage Frequency</th>\n",
       "      <th>Support Calls</th>\n",
       "      <th>Payment Delay</th>\n",
       "      <th>Subscription Type</th>\n",
       "      <th>Contract Length</th>\n",
       "      <th>Total Spend</th>\n",
       "      <th>Last Interaction</th>\n",
       "      <th>Churn</th>\n",
       "    </tr>\n",
       "    <tr>\n",
       "      <th>CustomerID</th>\n",
       "      <th></th>\n",
       "      <th></th>\n",
       "      <th></th>\n",
       "      <th></th>\n",
       "      <th></th>\n",
       "      <th></th>\n",
       "      <th></th>\n",
       "      <th></th>\n",
       "      <th></th>\n",
       "      <th></th>\n",
       "      <th></th>\n",
       "    </tr>\n",
       "  </thead>\n",
       "  <tbody>\n",
       "    <tr>\n",
       "      <th>1</th>\n",
       "      <td>22</td>\n",
       "      <td>Female</td>\n",
       "      <td>25</td>\n",
       "      <td>14</td>\n",
       "      <td>4</td>\n",
       "      <td>27</td>\n",
       "      <td>Basic</td>\n",
       "      <td>Monthly</td>\n",
       "      <td>598</td>\n",
       "      <td>9</td>\n",
       "      <td>1</td>\n",
       "    </tr>\n",
       "    <tr>\n",
       "      <th>2</th>\n",
       "      <td>41</td>\n",
       "      <td>Female</td>\n",
       "      <td>28</td>\n",
       "      <td>28</td>\n",
       "      <td>7</td>\n",
       "      <td>13</td>\n",
       "      <td>Standard</td>\n",
       "      <td>Monthly</td>\n",
       "      <td>584</td>\n",
       "      <td>20</td>\n",
       "      <td>0</td>\n",
       "    </tr>\n",
       "    <tr>\n",
       "      <th>3</th>\n",
       "      <td>47</td>\n",
       "      <td>Male</td>\n",
       "      <td>27</td>\n",
       "      <td>10</td>\n",
       "      <td>2</td>\n",
       "      <td>29</td>\n",
       "      <td>Premium</td>\n",
       "      <td>Annual</td>\n",
       "      <td>757</td>\n",
       "      <td>21</td>\n",
       "      <td>0</td>\n",
       "    </tr>\n",
       "    <tr>\n",
       "      <th>4</th>\n",
       "      <td>35</td>\n",
       "      <td>Male</td>\n",
       "      <td>9</td>\n",
       "      <td>12</td>\n",
       "      <td>5</td>\n",
       "      <td>17</td>\n",
       "      <td>Premium</td>\n",
       "      <td>Quarterly</td>\n",
       "      <td>232</td>\n",
       "      <td>18</td>\n",
       "      <td>0</td>\n",
       "    </tr>\n",
       "    <tr>\n",
       "      <th>5</th>\n",
       "      <td>53</td>\n",
       "      <td>Female</td>\n",
       "      <td>58</td>\n",
       "      <td>24</td>\n",
       "      <td>9</td>\n",
       "      <td>2</td>\n",
       "      <td>Standard</td>\n",
       "      <td>Annual</td>\n",
       "      <td>533</td>\n",
       "      <td>18</td>\n",
       "      <td>0</td>\n",
       "    </tr>\n",
       "  </tbody>\n",
       "</table>\n",
       "</div>"
      ],
      "text/plain": [
       "            Age  Gender  Tenure  Usage Frequency  Support Calls  \\\n",
       "CustomerID                                                        \n",
       "1            22  Female      25               14              4   \n",
       "2            41  Female      28               28              7   \n",
       "3            47    Male      27               10              2   \n",
       "4            35    Male       9               12              5   \n",
       "5            53  Female      58               24              9   \n",
       "\n",
       "            Payment Delay Subscription Type Contract Length  Total Spend  \\\n",
       "CustomerID                                                                 \n",
       "1                      27             Basic         Monthly          598   \n",
       "2                      13          Standard         Monthly          584   \n",
       "3                      29           Premium          Annual          757   \n",
       "4                      17           Premium       Quarterly          232   \n",
       "5                       2          Standard          Annual          533   \n",
       "\n",
       "            Last Interaction  Churn  \n",
       "CustomerID                           \n",
       "1                          9      1  \n",
       "2                         20      0  \n",
       "3                         21      0  \n",
       "4                         18      0  \n",
       "5                         18      0  "
      ]
     },
     "execution_count": 12,
     "metadata": {},
     "output_type": "execute_result"
    }
   ],
   "source": [
    "df_testing.head()"
   ]
  },
  {
   "cell_type": "code",
   "execution_count": 13,
   "id": "ec16b3f0",
   "metadata": {},
   "outputs": [
    {
     "name": "stdout",
     "output_type": "stream",
     "text": [
      "<class 'pandas.core.frame.DataFrame'>\n",
      "Int64Index: 64374 entries, 1 to 64374\n",
      "Data columns (total 11 columns):\n",
      " #   Column             Non-Null Count  Dtype \n",
      "---  ------             --------------  ----- \n",
      " 0   Age                64374 non-null  int64 \n",
      " 1   Gender             64374 non-null  object\n",
      " 2   Tenure             64374 non-null  int64 \n",
      " 3   Usage Frequency    64374 non-null  int64 \n",
      " 4   Support Calls      64374 non-null  int64 \n",
      " 5   Payment Delay      64374 non-null  int64 \n",
      " 6   Subscription Type  64374 non-null  object\n",
      " 7   Contract Length    64374 non-null  object\n",
      " 8   Total Spend        64374 non-null  int64 \n",
      " 9   Last Interaction   64374 non-null  int64 \n",
      " 10  Churn              64374 non-null  int64 \n",
      "dtypes: int64(8), object(3)\n",
      "memory usage: 5.9+ MB\n"
     ]
    }
   ],
   "source": [
    "df_testing.info()"
   ]
  },
  {
   "cell_type": "code",
   "execution_count": null,
   "id": "0e8088d4",
   "metadata": {},
   "outputs": [],
   "source": []
  }
 ],
 "metadata": {
  "kernelspec": {
   "display_name": "Python 3 (ipykernel)",
   "language": "python",
   "name": "python3"
  },
  "language_info": {
   "codemirror_mode": {
    "name": "ipython",
    "version": 3
   },
   "file_extension": ".py",
   "mimetype": "text/x-python",
   "name": "python",
   "nbconvert_exporter": "python",
   "pygments_lexer": "ipython3",
   "version": "3.10.9"
  }
 },
 "nbformat": 4,
 "nbformat_minor": 5
}
